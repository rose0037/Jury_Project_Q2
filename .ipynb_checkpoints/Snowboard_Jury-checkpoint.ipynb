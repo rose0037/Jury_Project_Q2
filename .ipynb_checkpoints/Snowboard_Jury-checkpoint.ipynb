{
 "cells": [
  {
   "cell_type": "code",
   "execution_count": null,
   "metadata": {},
   "outputs": [],
   "source": [
    "import pandas as pd\n",
    "import numpy as np\n",
    "\n",
    "################### Starting code written by Mayuri ###################\n",
    "\n",
    "\n",
    "data = pd.read_csv('jury_data.csv', encoding= 'ISO-8859-1', skiprows=[0,2])\n",
    "data.rename(columns={\"Was defendant Mesa Management negligent?\": \"Mesa_Negligent\", \n",
    "                         \"Was Mesa Management's negligence a substantial factor in causing harm to  Mackenzie Dunn?\":\"Liability\",\n",
    "                         \"What are the total damages that you find that MacKenzie Dunn sufferered?\":\"damages\" ,\n",
    "                         \"What is your sex?\": \"gender\",\n",
    "                         \"Please write your answer to the preceding damages question in words (quality check).\":\"damages_word\",\n",
    "                         \"What percentage of responsibility for Mackenzie Dunn's injuries was each party responsible for? (Answers should add up to 100%) - Mesa Management Co\":\"Mesa_reponsible_percentage\",\n",
    "                         \"Path\":\"Scenario\",\n",
    "                         \"Was MacKenzie Dunn negligent?\":\"Dunn_negligent\",\n",
    "                         \"Unnamed: 63\":\"perc_calc\"\n",
    "                         },inplace=True)\n",
    "data['mm_perc'] = np.where(data['Mesa_reponsible_percentage']>=1, data['perc_calc'], data['Mesa_reponsible_percentage'])\n",
    "req_data = pd.DataFrame(data[[\"Mesa_Negligent\",\"damages\",\"Liability\",\n",
    "                 \"gender\",\n",
    "                 \"damages_word\",\n",
    "                 \"Scenario\",\"Dunn_negligent\",\"perc_calc\",\"Start Date\",\"End Date\",\"mm_perc\"]])\n",
    "\n",
    "\n",
    "req_data['Liability'] = req_data['Liability'].map({'Yes': 1, 'No': 0})\n",
    "\n",
    "\n",
    "print(req_data.columns)"
   ]
  },
  {
   "cell_type": "code",
   "execution_count": null,
   "metadata": {},
   "outputs": [],
   "source": [
    "print(pd.isnull(req_data).any())\n",
    "print(pd.isnull(req_data['Scenario']).any())\n",
    "req_data = req_data[np.isfinite(data['Scenario'])]\n",
    "print(pd.isnull(req_data['Scenario']).any())\n",
    "req_data['damages'].fillna(0,inplace=True)\n",
    "req_data['damages_word'].fillna(0,inplace=True)\n",
    "req_data['mm_perc'].fillna(1,inplace=True)\n",
    "req_data['perc_calc'].fillna(0,inplace=True)\n",
    "#Dropping the last two rows which has null values\n",
    "#data[pd.isnull(data['Path'])]\n",
    "#data['Path']=data.Path.dropna(inplace= True)\n",
    "#data[pd.isnull(data['Path'])]\n",
    "print(pd.isnull(req_data).any())"
   ]
  },
  {
   "cell_type": "code",
   "execution_count": null,
   "metadata": {},
   "outputs": [],
   "source": [
    "#Changing data types of columns\n",
    "req_data['End Date'] = pd.to_datetime(data['End Date'])\n",
    "req_data['Start Date'] = pd.to_datetime(data['Start Date'])\n",
    "req_data['Scenario']= req_data.Scenario.astype(int)\n",
    "req_data['Liability']= req_data.Liability.astype(int)\n",
    "req_data.dtypes"
   ]
  },
  {
   "cell_type": "code",
   "execution_count": null,
   "metadata": {},
   "outputs": [],
   "source": [
    "# Getting the id of the column\n",
    "data.columns.get_loc(\"Liability\")"
   ]
  },
  {
   "cell_type": "code",
   "execution_count": null,
   "metadata": {},
   "outputs": [],
   "source": [
    "#Cleaning Damages and perc_calc column\n",
    "print(req_data.isnull().any())\n",
    "req_data['damages'] = req_data['damages'].str.replace(',', '')\n",
    "req_data['perc_calc'] = req_data['perc_calc'].str.replace('$', '')\n",
    "req_data['perc_calc'] = req_data['perc_calc'].str.replace(',', '')\n",
    "req_data['perc_calc'] = req_data['perc_calc'].str.replace('-', '')\n",
    "req_data['perc_calc'] = req_data['perc_calc'].str.replace(\"  \", '')\n",
    "req_data['mm_perc'] = req_data['mm_perc'].str.replace(\"$\", '')\n",
    "req_data['mm_perc'] = req_data['mm_perc'].str.replace(\",\", '')\n",
    "req_data['mm_perc'] = req_data['mm_perc'].str.replace(\"  \", '')\n",
    "#req_data.damages=pd.to_numeric(req_data['damages'].str.replace(',', ''))\n",
    "#req_data.perc_calc=pd.to_numeric(req_data.perc_calc)\n",
    "#print(req_data.isnull().any())\n"
   ]
  },
  {
   "cell_type": "code",
   "execution_count": null,
   "metadata": {},
   "outputs": [],
   "source": [
    "req_data.damages=pd.to_numeric(req_data['damages'])\n",
    "req_data.perc_calc=pd.to_numeric(req_data.perc_calc)\n",
    "req_data['damages'].fillna(0,inplace=True)  \n",
    "req_data['mm_perc'].fillna(1,inplace=True)\n",
    "req_data['perc_calc'].fillna(0,inplace=True)\n",
    "print(req_data.damages)\n",
    "print(req_data.isnull().any())"
   ]
  },
  {
   "cell_type": "code",
   "execution_count": null,
   "metadata": {},
   "outputs": [],
   "source": [
    "req_data.damages.isnull().any()"
   ]
  },
  {
   "cell_type": "code",
   "execution_count": null,
   "metadata": {},
   "outputs": [],
   "source": [
    "\n",
    "print(req_data[pd.isnull(req_data['Dunn_negligent'])])"
   ]
  },
  {
   "cell_type": "code",
   "execution_count": null,
   "metadata": {},
   "outputs": [],
   "source": [
    "#EDA"
   ]
  },
  {
   "cell_type": "code",
   "execution_count": null,
   "metadata": {},
   "outputs": [],
   "source": [
    "\n",
    "req_data['winrate_percentage']=req_data.Liability\n",
    "req_data['damages_mean']=req_data.damages+req_data.perc_calc\n",
    "req_data['damages_median']=req_data.damages\n",
    "req_data['damages_sd']=req_data.damages\n",
    "\n",
    "winrate_damages_expected=req_data.groupby('Scenario').aggregate(\n",
    "    {'winrate_percentage': np.mean, 'damages_mean': np.mean,'damages_median':np.median,'damages_sd':np.std})\n",
    "\n",
    "\n",
    "winrate_damages_expected"
   ]
  },
  {
   "cell_type": "code",
   "execution_count": null,
   "metadata": {},
   "outputs": [],
   "source": [
    "\n",
    "#req_data['winrate_percentage']=np.mean(req_data.Juror_Response)\n",
    "#print(req_data)\n",
    "req_data['mm_perc'].fillna(1,inplace=True)\n",
    "req_data['damages_mean1']=req_data.damages*pd.to_numeric(req_data.mm_perc)\n",
    "req_data['damages_median1']=req_data.damages\n",
    "req_data['damages_sd1']=req_data.damages\n",
    "#print(req_data.mm_perc)\n",
    "\n",
    "winrate_damages_plaintiffwin=req_data.loc[(req_data['Dunn_negligent']=='No') & (req_data['Liability']==1)].groupby('Scenario').aggregate({'damages_mean1': np.mean,'damages_median1':np.median,'damages_sd1':np.std})\n",
    "\n",
    "\n",
    "winrate_damages_plaintiffwin"
   ]
  },
  {
   "cell_type": "code",
   "execution_count": null,
   "metadata": {},
   "outputs": [],
   "source": [
    "import matplotlib as mpl\n",
    "import matplotlib.pyplot as plt\n",
    "import seaborn as sns\n",
    "\n",
    "sns.factorplot(x='Scenario', y='damages', kind='box',data=req_data)"
   ]
  },
  {
   "cell_type": "code",
   "execution_count": null,
   "metadata": {},
   "outputs": [],
   "source": [
    "pd.crosstab(data.Scenario,data.Liability).plot(kind='bar')\n",
    "plt.title('Purchase Frequency for Job Title')\n",
    "plt.xlabel('Scenario')\n",
    "plt.ylabel('Liability')\n",
    "plt.savefig('Juror Response per each Scenario')"
   ]
  },
  {
   "cell_type": "code",
   "execution_count": null,
   "metadata": {},
   "outputs": [],
   "source": [
    "import pandas as pd\n",
    "\n",
    "\n",
    "df = pd.read_csv('JuryQ2_Docs/Low_Anchor.tsv',encoding= 'ISO-8859-1',sep='\\t+',engine='python')\n",
    "df"
   ]
  },
  {
   "cell_type": "code",
   "execution_count": null,
   "metadata": {},
   "outputs": [],
   "source": [
    "from sklearn import preprocessing\n",
    "import matplotlib.pyplot as plt \n",
    "plt.rc(\"font\", size=14)\n",
    "from sklearn.linear_model import LogisticRegression\n",
    "from sklearn.cross_validation import train_test_split\n",
    "import seaborn as sns\n",
    "sns.set(style=\"white\")\n",
    "sns.set(style=\"whitegrid\", color_codes=True)\n",
    "\n",
    "classifier = LogisticRegression(random_state=0)\n",
    "classifier.fit(req_data.Scenario,req_data.Liability)"
   ]
  },
  {
   "cell_type": "code",
   "execution_count": null,
   "metadata": {},
   "outputs": [],
   "source": [
    "a = req_data['Scenario']\n",
    "b = req_data['Liability']\n",
    "pd.crosstab(a,b)"
   ]
  },
  {
   "cell_type": "code",
   "execution_count": null,
   "metadata": {},
   "outputs": [],
   "source": [
    "################### Starting code written by Rosy ###################"
   ]
  }
 ],
 "metadata": {
  "kernelspec": {
   "display_name": "Python 3",
   "language": "python",
   "name": "python3"
  },
  "language_info": {
   "codemirror_mode": {
    "name": "ipython",
    "version": 3
   },
   "file_extension": ".py",
   "mimetype": "text/x-python",
   "name": "python",
   "nbconvert_exporter": "python",
   "pygments_lexer": "ipython3",
   "version": "3.6.4"
  }
 },
 "nbformat": 4,
 "nbformat_minor": 2
}
