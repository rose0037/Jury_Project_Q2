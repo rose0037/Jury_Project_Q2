{
 "cells": [
  {
   "cell_type": "code",
   "execution_count": null,
   "metadata": {
    "scrolled": false
   },
   "outputs": [],
   "source": [
    "import pandas as pd\n",
    "\n",
    "# Read jury data \n",
    "data = pd.read_csv('jury_data.csv', encoding= 'ISO-8859-1', skiprows=[0,2])\n",
    "print(data.head(5))\n"
   ]
  },
  {
   "cell_type": "code",
   "execution_count": null,
   "metadata": {
    "scrolled": true
   },
   "outputs": [],
   "source": [
    "## To describe columns\n",
    "data.columns"
   ]
  },
  {
   "cell_type": "code",
   "execution_count": null,
   "metadata": {
    "scrolled": true
   },
   "outputs": [],
   "source": [
    "data.describe()"
   ]
  },
  {
   "cell_type": "code",
   "execution_count": null,
   "metadata": {
    "scrolled": true
   },
   "outputs": [],
   "source": [
    "# To check data type of each columns.\n",
    "print(data.dtypes)"
   ]
  },
  {
   "cell_type": "code",
   "execution_count": null,
   "metadata": {
    "scrolled": true
   },
   "outputs": [],
   "source": [
    "## Changing Data type\n",
    "data['End Date'] = pd.to_datetime(data['End Date'])\n",
    "data['Start Date'] = pd.to_datetime(data['Start Date'])\n",
    "data.dtypes"
   ]
  },
  {
   "cell_type": "code",
   "execution_count": null,
   "metadata": {
    "scrolled": true
   },
   "outputs": [],
   "source": [
    "#pd.read_table(\"jury2.tsv\" ,encoding= 'ISO-8859-1', skiprows=[0,2])\n",
    "#pd.read_csv(\"jury2.tsv\", encoding= 'ISO-8859-1')\n",
    "import pandas as pd\n",
    "\n",
    "#with open('jury2.tsv', encoding= 'ISO-8859-1') as f:\n",
    "# for line in f:\n",
    "#    print(line)\n",
    " \n",
    "\n",
    " #data1 = pd.read_table(f,sep='\\t',dtype=None,skiprows=[1,2])\n",
    "\n",
    "df =pd.read_csv('jury2.tsv', sep='\\t+', skiprows=[0, 4]+list(range(1,1614,2)) + [1614], names= range(84) )\n",
    "\n",
    "\n",
    "#df = pd.read_csv('JuryQ2_Docs/Low_Anchor.tsv', index_col=None, na_values=['NA'],encoding= 'ISO-8859-1',sep='\\t')\n",
    "df.head()"
   ]
  },
  {
   "cell_type": "code",
   "execution_count": null,
   "metadata": {
    "scrolled": true
   },
   "outputs": [],
   "source": [
    "df = df.iloc[1:]\n",
    "name_dict= { i :i for i in range(84)}\n",
    "name_dict[0] = 'start_date'\n",
    "name_dict[1] = 'end_date'\n",
    "name_dict[2] = 'response_type'\n",
    "name_dict\n",
    "df.rename(index = str, columns=name_dict, inplace= True)"
   ]
  },
  {
   "cell_type": "code",
   "execution_count": null,
   "metadata": {
    "scrolled": true
   },
   "outputs": [],
   "source": [
    "df.head()"
   ]
  },
  {
   "cell_type": "code",
   "execution_count": null,
   "metadata": {
    "scrolled": true
   },
   "outputs": [],
   "source": [
    "df.start_date = pd.to_datetime(df.start_date)\n",
    "df.dtypes\n",
    "\n",
    "any(df.isnull().any())\n",
    "# everything is nice"
   ]
  },
  {
   "cell_type": "code",
   "execution_count": null,
   "metadata": {
    "scrolled": true
   },
   "outputs": [],
   "source": [
    "df.En"
   ]
  }
 ],
 "metadata": {
  "kernelspec": {
   "display_name": "Python 3",
   "language": "python",
   "name": "python3"
  },
  "language_info": {
   "codemirror_mode": {
    "name": "ipython",
    "version": 3
   },
   "file_extension": ".py",
   "mimetype": "text/x-python",
   "name": "python",
   "nbconvert_exporter": "python",
   "pygments_lexer": "ipython3",
   "version": "3.6.4"
  }
 },
 "nbformat": 4,
 "nbformat_minor": 2
}
