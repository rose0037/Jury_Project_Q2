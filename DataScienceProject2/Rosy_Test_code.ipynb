{
 "cells": [
  {
   "cell_type": "code",
   "execution_count": null,
   "metadata": {
    "scrolled": true
   },
   "outputs": [],
   "source": [
    "import pandas as pd\n",
    "\n",
    "# Read jury data \n",
    "jury_data1 = pd.read_csv('jury_data.csv', encoding= 'ISO-8859-1',skiprows=[0,2])\n",
    "jury_data1.head(5)"
   ]
  },
  {
   "cell_type": "code",
   "execution_count": null,
   "metadata": {},
   "outputs": [],
   "source": [
    "df.Path.values()"
   ]
  },
  {
   "cell_type": "code",
   "execution_count": null,
   "metadata": {
    "scrolled": false
   },
   "outputs": [],
   "source": [
    "## To describe columns\n",
    "jury_data1.columns"
   ]
  },
  {
   "cell_type": "code",
   "execution_count": null,
   "metadata": {
    "scrolled": false
   },
   "outputs": [],
   "source": [
    "jury_data1.describe()"
   ]
  },
  {
   "cell_type": "code",
   "execution_count": null,
   "metadata": {
    "scrolled": false
   },
   "outputs": [],
   "source": [
    "# To check data type of each columns.\n",
    "print(data.dtypes)"
   ]
  },
  {
   "cell_type": "code",
   "execution_count": null,
   "metadata": {
    "scrolled": false
   },
   "outputs": [],
   "source": [
    "## Changing Data type\n",
    "data['End Date'] = pd.to_datetime(data['End Date'])\n",
    "data['Start Date'] = pd.to_datetime(data['Start Date'])\n",
    "data.dtypes\n"
   ]
  },
  {
   "cell_type": "code",
   "execution_count": null,
   "metadata": {
    "scrolled": false
   },
   "outputs": [],
   "source": [
    "import pandas as pd\n",
    "df =pd.read_csv('jury2.tsv', sep='\\t+',skiprows=[0,2, 4]+list(range(1,1614,2)) + [1614], names = ['StartDate', 'EndDate', 'Status',\n",
    "       'IPAddress', 'Progress',\n",
    "       'Duration (in seconds)', 'Finished',\n",
    "       'RecordedDate', 'ResponseId',\n",
    "       'RecipientLastName',\n",
    "       'RecipientFirstName',\n",
    "       'RecipientEmail', 'ExternalReference',\n",
    "       'LocationLatitude',\n",
    "       'LocationLongitude',\n",
    "       'DistributionChannel', 'UserLanguage',\n",
    "       'Q24', 'Q1_Browser', 'Q1_Version',\n",
    "       'Q1_Operating System',\n",
    "       'Q1_Resolution', 'Q3', 'Q4', 'Q5', 'Q6',\n",
    "       'Q7', 'Q8', 'Q9', 'Q50', 'Q10', 'Q11', 'Q12',\n",
    "       'Q14_First Click', 'Q14_Last Click',\n",
    "       'Q14_Page Submit', 'Q14_Click Count',\n",
    "       'Q15_First Click', 'Q15_Last Click',\n",
    "       'Q15_Page Submit', 'Q15_Click Count',\n",
    "       'Q16_First Click', 'Q16_Last Click',\n",
    "       'Q16_Page Submit', 'Q16_Click Count',\n",
    "       'Q17_First Click', 'Q17_Last Click',\n",
    "       'Q17_Page Submit', 'Q17_Click Count',\n",
    "       'Q18_First Click', 'Q18_Last Click',\n",
    "       'Q18_Page Submit', 'Q18_Click Count',\n",
    "       'Q19_First Click', 'Q19_Last Click',\n",
    "       'Q19_Page Submit', 'Q19_Click Count',\n",
    "       'Q20_First Click', 'Q20_Last Click',\n",
    "       'Q20_Page Submit', 'Q20_Click Count',\n",
    "       'Q21_First Click', 'Q21_Last Click',\n",
    "       'Q21_Page Submit', 'Q21_Click Count',\n",
    "       'Q22', 'Q24.1', 'Q25', 'Q41', 'Q31', 'Q40',\n",
    "       'Q41.1', 'Q42_1', 'Q42_2', 'Q26', 'Q27',\n",
    "       'Q38', 'Q39', 'Q43', 'Q44', 'Q32', 'Q40.1',\n",
    "       'Q41.2', 'Path'])\n",
    "df.head()\n",
    "\n",
    "# skiprows=[0, 4]+list(range(1,1614,2)) + [1614], names= range(84) )\n"
   ]
  },
  {
   "cell_type": "code",
   "execution_count": null,
   "metadata": {
    "scrolled": true
   },
   "outputs": [],
   "source": [
    "import pandas as pd\n",
    "df =pd.read_csv('jury2.tsv', sep='\\t+',skiprows=[0,2, 4]+list(range(1,1614,2)) + [1614], names = ['StartDate', 'EndDate',\n",
    "       'ResponseType', \n",
    "       'IP Address', \n",
    "       'Progress', \n",
    "       'Duration',\n",
    "       'Finished',\n",
    "       'RecordedDate',\n",
    "       'ResponseID', \n",
    "       'RecipientLastName','RecipientFirstName','RecipientEmail',\n",
    "       'ExternalDataReference','LocationLatitude', 'LocationLongitude',\n",
    "       'DistributionChannel', 'UserLanguage', 'Participation_in_this_project.',\n",
    "       'Browser Meta Info - Browser',\n",
    "       'Browser Meta Info - Version',\n",
    "       'Browser Meta Info - Operating System',\n",
    "       'Browser Meta Info - Resolution',\n",
    "       'What number did you hear?',\n",
    "       'What word did you see?',\n",
    "       'What is your sex?',\n",
    "       'How old are you?',\n",
    "       'Which of the following best describes your ethnicity?',\n",
    "       'Are you Spanish/Hispanic/Latino',\n",
    "       'What is the highest degree or level of school you have completed?',\n",
    "       'This is an attention check.  Select 200.',\n",
    "       'Which of the following best describes your total household income?',\n",
    "       'Where would you place yourself on this scale?',\n",
    "       'What is your zip code?',\n",
    "       'Timing - First Click','Timing - Last Click','Timing - Page Submit', 'Timing - Click Count',\n",
    "       'Timing - First Click.1', 'Timing - Last Click.1', 'Timing - Page Submit.1',\n",
    "       'Timing - Click Count.1', 'Timing - First Click.2','Timing - Last Click.2',\n",
    "       'Timing - Page Submit.2','Timing - Click Count.2','Timing - First Click.3','Timing - Last Click.3',\n",
    "       'Timing - Page Submit.3','Timing - Click Count.3','Timing - First Click.4', 'Timing - Last Click.4',\n",
    "       'Timing - Page Submit.4','Timing - Click Count.4', 'Timing - First Click.5', 'Timing - Last Click.5',\n",
    "       'Timing - Page Submit.5','Timing - Click Count.5', 'Timing - First Click.6', 'Timing - Last Click.6',\n",
    "       'Timing - Page Submit.6',  'Timing - Click Count.6', 'Timing - First Click.7','Timing - Last Click.7',\n",
    "       'Timing - Page Submit.7',  'Timing - Click Count.7',\n",
    "       'Identify the statement that correctly describes the facts of this case. (This is the attention check)',\n",
    "       'Was the Carve 3000 snowboard X5 sold Connor McNeil defective?',\n",
    "       \"Was the defect(s) a substantial factor in causing Connor McNeil's injuries?\",\n",
    "       'non_economic_damages_suffered',\n",
    "       'Please write your answer to the preceding damages question in words (quality check).',\n",
    "       'Was Connor McNeil negligent?',\n",
    "       'Was Connor McNeil negligence a substantial factor in causing her own injuries?',\n",
    "       'What percentage of responsibility for Connor McNeil injuries was each party responsible for? (Answers should add up to 100%) - X5',\n",
    "       'What percentage of responsibility for Connor McNeil injuries was each party responsible for? (Answers should add up to 100%) - Connor McNeil',\n",
    "       'Was the Carve 3000 snowboard X5 sold Connor McNeil defective?.1',\n",
    "       \"Was the defect(s) a substantial factor in causing Connor McNeil's injuries?.1\",\n",
    "       'What economic damages did Connor McNeil suffer?  (in dollars)',\n",
    "       'Please write your answer to the preceding damages question in words (quality check)..1',\n",
    "       'What non-economic damages did Connor McNeil suffer? (in dollars)',\n",
    "       'Please write your answer to the preceding damages question in words (quality check)..2',\n",
    "       'Please explain why you arrived at your decision? (50 character minimum)',\n",
    "       'Did the fact that X5 added core inserts to the later Carve 3000 model, affect your view as to whether the original Carve 3000 was defective?',\n",
    "       'Were you able to ignore the  fact that X5 added core inserts to the later Carve 3000 model when deciding whether the original Carve 3000 was defective?',\n",
    "       'Path'])\n",
    "        \n",
    "df.head()"
   ]
  },
  {
   "cell_type": "code",
   "execution_count": null,
   "metadata": {
    "scrolled": false
   },
   "outputs": [],
   "source": [
    "#df = df.iloc[1:]\n",
    "#name_dict= { i :i for i in range(84)}\n",
    "#name_dict[0] = 'start_date'\n",
    "#name_dict[1] = 'end_date'\n",
    "#name_dict[2] = 'response_type'\n",
    "#name_dict\n",
    "#df.rename(index = str, columns=name_dict, inplace= True)"
   ]
  },
  {
   "cell_type": "code",
   "execution_count": null,
   "metadata": {
    "scrolled": false
   },
   "outputs": [],
   "source": [
    "df.dtypes"
   ]
  },
  {
   "cell_type": "code",
   "execution_count": null,
   "metadata": {},
   "outputs": [],
   "source": [
    "df['Path'].values"
   ]
  },
  {
   "cell_type": "code",
   "execution_count": null,
   "metadata": {
    "scrolled": true
   },
   "outputs": [],
   "source": [
    "for i in range(len(df['non_economic_damages_suffered'])):\n",
    "  #  df['non_economic_damages_suffered'].values[i] = df['non_economic_damages_suffered'].values[i].replace('\\x00','')\n",
    " #   df['Path'].values[i] = df['Path'].values[i].replace('\\x00','') ;   \n",
    "    df['Was the Carve 3000 snowboard X5 sold Connor McNeil defective?'].values[i] =  df['Was the Carve 3000 snowboard X5 sold Connor McNeil defective?'].values[i].replace('\\x00','') ;   \n",
    "df['Was the Carve 3000 snowboard X5 sold Connor McNeil defective?'].values"
   ]
  },
  {
   "cell_type": "code",
   "execution_count": null,
   "metadata": {},
   "outputs": [],
   "source": [
    "df['Path'].fillna(0,inplace = True)"
   ]
  },
  {
   "cell_type": "code",
   "execution_count": null,
   "metadata": {},
   "outputs": [],
   "source": [
    "df['Was the Carve 3000 snowboard X5 sold Connor McNeil defective?'].values"
   ]
  },
  {
   "cell_type": "code",
   "execution_count": null,
   "metadata": {},
   "outputs": [],
   "source": [
    "df.Was the Carve 3000 snowboard X5 sold Connor McNeil defective"
   ]
  },
  {
   "cell_type": "code",
   "execution_count": null,
   "metadata": {},
   "outputs": [],
   "source": [
    "df. Was the Carve 3000 snowboard X5 sold Connor McNeil defective"
   ]
  },
  {
   "cell_type": "code",
   "execution_count": null,
   "metadata": {
    "scrolled": false
   },
   "outputs": [],
   "source": [
    "## Changing Data type\n",
    "df.StartDate = pd.to_datetime(df.StartDate)\n",
    "df.EndDate = pd.to_datetime(df.EndDate) \n",
    "#df.non_economic_damages_suffered = pd.to_numeric(df.non_economic_damages_suffered)\n",
    "#df.Path = pd.to_numeric(df.Path)\n",
    "df.Path =  df.Path.astype(int)\n",
    "df.dtypes\n",
    "# everything is nice"
   ]
  },
  {
   "cell_type": "code",
   "execution_count": null,
   "metadata": {},
   "outputs": [],
   "source": []
  },
  {
   "cell_type": "code",
   "execution_count": null,
   "metadata": {
    "scrolled": true
   },
   "outputs": [],
   "source": [
    "df.non_economic_damages_suffered = str(df.non_economic_damages_suffered).replace('\\x00','')"
   ]
  },
  {
   "cell_type": "code",
   "execution_count": null,
   "metadata": {
    "scrolled": false
   },
   "outputs": [],
   "source": [
    "df['non_economic_damages_suffered'].values"
   ]
  },
  {
   "cell_type": "code",
   "execution_count": null,
   "metadata": {
    "scrolled": true
   },
   "outputs": [],
   "source": [
    "t = map( filter(lambda x: len(str(x)) == 1, df['non_economic_damages_suffered'].values),0)"
   ]
  },
  {
   "cell_type": "code",
   "execution_count": null,
   "metadata": {
    "scrolled": false
   },
   "outputs": [],
   "source": [
    "#map(lambda x: x.replace('\\x00',''), df['non_economic_damages_suffered'].values)\n",
    "#pd.Series(df['non_economic_damages_suffered'].values).str.replace('\\x00','')\n",
    "pd.Series(df['non_economic_damages_suffered'].values)\n",
    "df['non_economic_damages_suffered'].values"
   ]
  },
  {
   "cell_type": "code",
   "execution_count": null,
   "metadata": {
    "scrolled": true
   },
   "outputs": [],
   "source": [
    "for index,value in df['non_economic_damages_suffered'].iteritems():\n",
    "    if (len(str(value))== 1):\n",
    "        df.loc[index,'non_economic_damages_suffered'] = 0\n",
    "    else: \n",
    "      #  print(value.replace('\\x00',''));\n",
    "      #  print(df.loc[index,'non_economic_damages_suffered']);\n",
    "        try:\n",
    "            print(pd.to_numeric(value), df['non_economic_damages_suffered'].values[index]);\n",
    "        except:\n",
    "            #print(\"error here\",df.loc[index,'non_economic_damages_suffered']);\n",
    "            print(df['non_economic_damages_suffered'].values[index]);\n",
    "        #df.loc[index,'non_economic_damages_suffered'] = pd.to_numeric(value)\n",
    "#df['non_economic_damages_suffered']"
   ]
  },
  {
   "cell_type": "code",
   "execution_count": null,
   "metadata": {
    "scrolled": true
   },
   "outputs": [],
   "source": [
    "df['non_economic_damages_suffered']"
   ]
  },
  {
   "cell_type": "code",
   "execution_count": null,
   "metadata": {
    "scrolled": false
   },
   "outputs": [],
   "source": [
    "# Null Checking\n",
    "any(df.isnull().any())"
   ]
  },
  {
   "cell_type": "code",
   "execution_count": null,
   "metadata": {
    "scrolled": true
   },
   "outputs": [],
   "source": [
    "jury_data1.shape\n",
    "df.shape"
   ]
  },
  {
   "cell_type": "code",
   "execution_count": null,
   "metadata": {
    "scrolled": true
   },
   "outputs": [],
   "source": [
    "from word2number import w2n\n",
    "a = \"2 hundred thousand dollars\"\n",
    "lst = list(range(1,1000))\n",
    "t = a.split\n",
    "print(t)\n",
    "try:\n",
    "    print(w2n.word_to_num(a))\n",
    "except:\n",
    "    print(\"error occur\")\n",
    "df.columns"
   ]
  },
  {
   "cell_type": "code",
   "execution_count": null,
   "metadata": {
    "scrolled": true
   },
   "outputs": [],
   "source": [
    "#for i in df['']\n",
    "newdf = df.filter(['What non-economic damages did Connor McNeil suffer? (in dollars)','Please write your answer to the preceding damages question in words (quality check)..2'], axis=1)\n",
    "newdf['Newcol'] = 0\n",
    "newdf.columns = ['a', 'b', 'c']\n",
    "newdf.head()"
   ]
  },
  {
   "cell_type": "code",
   "execution_count": null,
   "metadata": {
    "scrolled": true
   },
   "outputs": [],
   "source": [
    "for index,row in newdf.iterrows():\n",
    "    word = row['b']\n",
    "    print(row['b'])\n",
    "    try:\n",
    "        row['c'] = w2n.word_to_num(word)\n",
    "    except:\n",
    "        print(\"error occur\", word)\n",
    "    #try:\n",
    "     #   print(w2n.word_to_num(word))\n",
    "    #except:\n",
    "     #   print(\"error occur\")\n",
    "    #if i.isspace != True:\n",
    "    #print(newdf[index])\n",
    "   # if row is not None:\n",
    "   # print(newdf['What non-economic damages did Connor McNeil suffer? (in dollars)'] + newdf['Please write your answer to the preceding damages question in words (quality check)..2'])\n"
   ]
  },
  {
   "cell_type": "code",
   "execution_count": null,
   "metadata": {
    "scrolled": true
   },
   "outputs": [],
   "source": [
    "newdf['c'].unique"
   ]
  }
 ],
 "metadata": {
  "kernelspec": {
   "display_name": "Python 3",
   "language": "python",
   "name": "python3"
  },
  "language_info": {
   "codemirror_mode": {
    "name": "ipython",
    "version": 3
   },
   "file_extension": ".py",
   "mimetype": "text/x-python",
   "name": "python",
   "nbconvert_exporter": "python",
   "pygments_lexer": "ipython3",
   "version": "3.6.4"
  }
 },
 "nbformat": 4,
 "nbformat_minor": 2
}
