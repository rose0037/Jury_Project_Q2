{
 "cells": [
  {
   "cell_type": "markdown",
   "metadata": {},
   "source": [
    "### Loading Snowboard data.\n",
    "This notebook is all about cleaning the snowboard data, checking some condition as per user's requrement.\n",
    "-  Loaded the Snowboard data with all fields.\n",
    "-  Handling of hexadecimal values. \n",
    "-  Null data handling. \n",
    "-  Datatype change.\n",
    "-  Addressed user's requirement.\n",
    "-  Discounted Damage calculation.\n",
    "-  Filtered the data based on the duration of each scenario.\n",
    "-  Total damage calculation. \n",
    "-  Handing for Total Damage over 50000$.\n",
    "-  Exporting the filtered data into a new .csv file, which will be used in final notebook.\n"
   ]
  },
  {
   "cell_type": "code",
   "execution_count": 1,
   "metadata": {},
   "outputs": [
    {
     "name": "stderr",
     "output_type": "stream",
     "text": [
      "/anaconda3/lib/python3.6/site-packages/ipykernel_launcher.py:64: ParserWarning: Falling back to the 'python' engine because the 'c' engine does not support regex separators (separators > 1 char and different from '\\s+' are interpreted as regex); you can avoid this warning by specifying engine='python'.\n"
     ]
    }
   ],
   "source": [
    "import pandas as pd\n",
    "df =pd.read_csv('Low_Anchor.tsv', sep='\\t+',skiprows=[0,2, 4]+list(range(1,1614,2)) \n",
    "                + [1614], names = ['StartDate', 'EndDate',\n",
    "       'ResponseType', \n",
    "       'IP Address', \n",
    "       'Progress', \n",
    "       'Duration',\n",
    "       'Finished',\n",
    "       'RecordedDate',\n",
    "       'ResponseID', \n",
    "       'RecipientLastName','RecipientFirstName','RecipientEmail',\n",
    "       'ExternalDataReference','LocationLatitude', 'LocationLongitude',\n",
    "       'DistributionChannel', 'UserLanguage', 'Participation_in_this_project.',\n",
    "       'Browser Meta Info - Browser',\n",
    "       'Browser Meta Info - Version',\n",
    "       'Browser Meta Info - Operating System',\n",
    "       'Browser Meta Info - Resolution',\n",
    "       'What number did you hear?',\n",
    "       'What word did you see?',\n",
    "       'What is your sex?',\n",
    "       'How old are you?',\n",
    "       'Which of the following best describes your ethnicity?',\n",
    "       'Are you Spanish/Hispanic/Latino',\n",
    "       'What is the highest degree or level of school you have completed?',\n",
    "       'This is an attention check.  Select 200.',\n",
    "       'Which of the following best describes your total household income?',\n",
    "       'Where would you place yourself on this scale?',\n",
    "       'What is your zip code?',\n",
    "       'Timing - First Click','Timing - Last Click',\n",
    "        'Timing - Page Submit', 'Timing - Click Count',\n",
    "       'Timing - First Click.1', 'Timing - Last Click.1',\n",
    "       'Timing - Page Submit.1',\n",
    "       'Timing - Click Count.1', 'Timing - First Click.2',\n",
    "        'Timing - Last Click.2',\n",
    "       'Timing - Page Submit.2','Timing - Click Count.2',\n",
    "       'Timing - First Click.3','Timing - Last Click.3',\n",
    "       'Timing - Page Submit.3','Timing - Click Count.3',\n",
    "        'Timing - First Click.4', 'Timing - Last Click.4',\n",
    "       'Timing - Page Submit.4','Timing - Click Count.4', \n",
    "        'Timing - First Click.5', 'Timing - Last Click.5',\n",
    "       'Timing - Page Submit.5','Timing - Click Count.5',\n",
    "       'Timing - First Click.6', 'Timing - Last Click.6',\n",
    "       'Timing - Page Submit.6',  'Timing - Click Count.6', \n",
    "        'Timing - First Click.7','Timing - Last Click.7',\n",
    "       'Timing - Page Submit.7',  'Timing - Click Count.7',\n",
    " 'Identify the statement that correctly describes the facts of this case. (This is the attention check)',\n",
    "       'Was_snowboard_sold_McNeil_defective_14',\n",
    "       \"Is_substantial_factor_McNeil_injuries_14\",\n",
    "       'Non_economic_damages_McNeil_suffered_14',\n",
    "       'Damages_words_14',\n",
    "       'Was_McNeil_negligent',\n",
    "       'McNeil_negligence_substantial_factor_for_injuries',\n",
    "       'Percentage_of_responsibility_X5',\n",
    "       'Percentage_of_responsibility_McNeil',\n",
    "       'Was_snowboard_sold_McNeil_defective_58',\n",
    "       \"Is_substantial_factor_McNeil_injuries_58\",\n",
    "       'Economic_damages_McNeil_suffer_58',\n",
    "       'Economic_Damages_In_Word_58',\n",
    "       'Non_economic_damages_McNeil_suffered_58',\n",
    "       'Non_Economic_Damages_In_Word_58',\n",
    "       'Please explain why you arrived at your decision? (50 character minimum)',\n",
    "       'Q40',#'Did the fact that X5 added core inserts to the later Carve 3000 model, affect your view as to whether the original Carve 3000 was defective?',\n",
    "       'Q41', #'Were you able to ignore the  fact that X5 added core inserts to the later Carve 3000 model when deciding whether the original Carve 3000 was defective?',\n",
    "       'Path'])"
   ]
  },
  {
   "cell_type": "code",
   "execution_count": 2,
   "metadata": {},
   "outputs": [
    {
     "name": "stdout",
     "output_type": "stream",
     "text": [
      "(804, 84)\n"
     ]
    }
   ],
   "source": [
    "print(df.shape)"
   ]
  },
  {
   "cell_type": "markdown",
   "metadata": {},
   "source": [
    "### Replacing hexadecimal value of damages'/x00' to ''(empty string)\n",
    "The data set contains so many hexadecimal values so we have replaced them with empty string."
   ]
  },
  {
   "cell_type": "code",
   "execution_count": 3,
   "metadata": {},
   "outputs": [],
   "source": [
    "for i in range(len(df)):\n",
    "    df['Was_snowboard_sold_McNeil_defective_14'].values[i] = df['Was_snowboard_sold_McNeil_defective_14'].values[i].replace('\\x00','')\n",
    "    df['Is_substantial_factor_McNeil_injuries_14'].values[i] = df['Is_substantial_factor_McNeil_injuries_14'].values[i].replace('\\x00','')\n",
    "    df['Non_economic_damages_McNeil_suffered_14'].values[i] = df['Non_economic_damages_McNeil_suffered_14'].values[i].replace('\\x00','')\n",
    "    df['Damages_words_14'].values[i] = df['Damages_words_14'].values[i].replace('\\x00','')\n",
    "    df['Was_McNeil_negligent'].values[i] = df['Was_McNeil_negligent'].values[i].replace('\\x00','') ;\n",
    "    df['McNeil_negligence_substantial_factor_for_injuries'].values[i] = df['McNeil_negligence_substantial_factor_for_injuries'].values[i].replace('\\x00','') ;\n",
    "    df['Percentage_of_responsibility_X5'].values[i] = df['Percentage_of_responsibility_X5'].values[i].replace('\\x00','') ;\n",
    "    df['Percentage_of_responsibility_McNeil'].values[i] = df['Percentage_of_responsibility_McNeil'].values[i].replace('\\x00','') ;\n",
    "    df['Was_snowboard_sold_McNeil_defective_58'].values[i] = df['Was_snowboard_sold_McNeil_defective_58'].values[i].replace('\\x00','') ;\n",
    "    df['Is_substantial_factor_McNeil_injuries_58'].values[i] = df['Is_substantial_factor_McNeil_injuries_58'].values[i].replace('\\x00','') ;\n",
    "    df['Economic_damages_McNeil_suffer_58'].values[i] = df['Economic_damages_McNeil_suffer_58'].values[i].replace('\\x00','') ;\n",
    "    df['Economic_Damages_In_Word_58'].values[i] = df['Economic_Damages_In_Word_58'].values[i].replace('\\x00','') ;\n",
    "    df['Non_economic_damages_McNeil_suffered_58'].values[i] = df['Non_economic_damages_McNeil_suffered_58'].values[i].replace('\\x00','') ;\n",
    "    df['Non_Economic_Damages_In_Word_58'].values[i] = df['Non_Economic_Damages_In_Word_58'].values[i].replace('\\x00','') ;\n",
    "    df['Path'].values[i] = df['Path'].values[i].replace('\\x00','') ;  \n",
    "    df['Q40'].values[i] = df['Q40'].values[i].replace('\\x00','') ; \n",
    "    df['Q41'].values[i] = df['Q41'].values[i].replace('\\x00','') ; \n",
    "    df['Duration'].values[i] = df['Duration'].values[i].replace('\\x00','') ;\n",
    "    df['What is the highest degree or level of school you have completed?'].values[i] = df['What is the highest degree or level of school you have completed?'].values[i].replace('\\x00','') ; \n",
    "    df['Which of the following best describes your total household income?'].values[i] = df['Which of the following best describes your total household income?'].values[i].replace('\\x00','') ;\n",
    "    #df['Was the Carve 3000 snowboard X5 sold Connor McNeil defective?'].values[i] =  df['Was the Carve 3000 snowboard X5 sold Connor McNeil defective?'].values[i].replace('\\x00','') ;  "
   ]
  },
  {
   "cell_type": "markdown",
   "metadata": {},
   "source": [
    "### After dealing with Special Character in data, lets change the Data type of required columns "
   ]
  },
  {
   "cell_type": "code",
   "execution_count": 4,
   "metadata": {},
   "outputs": [
    {
     "data": {
      "text/plain": [
       "StartDate                                                                                                datetime64[ns]\n",
       "EndDate                                                                                                  datetime64[ns]\n",
       "ResponseType                                                                                                     object\n",
       "IP Address                                                                                                       object\n",
       "Progress                                                                                                         object\n",
       "Duration                                                                                                          int64\n",
       "Finished                                                                                                         object\n",
       "RecordedDate                                                                                                     object\n",
       "ResponseID                                                                                                       object\n",
       "RecipientLastName                                                                                                object\n",
       "RecipientFirstName                                                                                               object\n",
       "RecipientEmail                                                                                                   object\n",
       "ExternalDataReference                                                                                            object\n",
       "LocationLatitude                                                                                                 object\n",
       "LocationLongitude                                                                                                object\n",
       "DistributionChannel                                                                                              object\n",
       "UserLanguage                                                                                                     object\n",
       "Participation_in_this_project.                                                                                   object\n",
       "Browser Meta Info - Browser                                                                                      object\n",
       "Browser Meta Info - Version                                                                                      object\n",
       "Browser Meta Info - Operating System                                                                             object\n",
       "Browser Meta Info - Resolution                                                                                   object\n",
       "What number did you hear?                                                                                        object\n",
       "What word did you see?                                                                                           object\n",
       "What is your sex?                                                                                                object\n",
       "How old are you?                                                                                                 object\n",
       "Which of the following best describes your ethnicity?                                                            object\n",
       "Are you Spanish/Hispanic/Latino                                                                                  object\n",
       "What is the highest degree or level of school you have completed?                                                object\n",
       "This is an attention check.  Select 200.                                                                         object\n",
       "                                                                                                              ...      \n",
       "Timing - Last Click.5                                                                                            object\n",
       "Timing - Page Submit.5                                                                                           object\n",
       "Timing - Click Count.5                                                                                           object\n",
       "Timing - First Click.6                                                                                           object\n",
       "Timing - Last Click.6                                                                                            object\n",
       "Timing - Page Submit.6                                                                                           object\n",
       "Timing - Click Count.6                                                                                           object\n",
       "Timing - First Click.7                                                                                           object\n",
       "Timing - Last Click.7                                                                                            object\n",
       "Timing - Page Submit.7                                                                                           object\n",
       "Timing - Click Count.7                                                                                           object\n",
       "Identify the statement that correctly describes the facts of this case. (This is the attention check)            object\n",
       "Was_snowboard_sold_McNeil_defective_14                                                                           object\n",
       "Is_substantial_factor_McNeil_injuries_14                                                                        float64\n",
       "Non_economic_damages_McNeil_suffered_14                                                                         float64\n",
       "Damages_words_14                                                                                                 object\n",
       "Was_McNeil_negligent                                                                                            float64\n",
       "McNeil_negligence_substantial_factor_for_injuries                                                               float64\n",
       "Percentage_of_responsibility_X5                                                                                 float64\n",
       "Percentage_of_responsibility_McNeil                                                                             float64\n",
       "Was_snowboard_sold_McNeil_defective_58                                                                           object\n",
       "Is_substantial_factor_McNeil_injuries_58                                                                        float64\n",
       "Economic_damages_McNeil_suffer_58                                                                               float64\n",
       "Economic_Damages_In_Word_58                                                                                      object\n",
       "Non_economic_damages_McNeil_suffered_58                                                                         float64\n",
       "Non_Economic_Damages_In_Word_58                                                                                  object\n",
       "Please explain why you arrived at your decision? (50 character minimum)                                          object\n",
       "Q40                                                                                                             float64\n",
       "Q41                                                                                                              object\n",
       "Path                                                                                                              int64\n",
       "Length: 84, dtype: object"
      ]
     },
     "execution_count": 4,
     "metadata": {},
     "output_type": "execute_result"
    }
   ],
   "source": [
    "df.StartDate = pd.to_datetime(df.StartDate)\n",
    "df.EndDate   = pd.to_datetime(df.EndDate) \n",
    "#df.Was_snowboard_sold_McNeil_defective_14   = pd.to_numeric(df.Was_snowboard_sold_McNeil_defective_14)\n",
    "df.Is_substantial_factor_McNeil_injuries_14 = pd.to_numeric(df.Is_substantial_factor_McNeil_injuries_14)\n",
    "df.Non_economic_damages_McNeil_suffered_14  = pd.to_numeric(df.Non_economic_damages_McNeil_suffered_14)\n",
    "df.Was_McNeil_negligent                     = pd.to_numeric(df.Was_McNeil_negligent)\n",
    "df.McNeil_negligence_substantial_factor_for_injuries= pd.to_numeric(df.McNeil_negligence_substantial_factor_for_injuries)\n",
    "df.Percentage_of_responsibility_X5          = pd.to_numeric(df.Percentage_of_responsibility_X5)\n",
    "df.Percentage_of_responsibility_McNeil      = pd.to_numeric(df.Percentage_of_responsibility_McNeil)\n",
    "#df.Was_snowboard_sold_McNeil_defective_58   = pd.to_numeric(df.Was_snowboard_sold_McNeil_defective_58)\n",
    "df.Is_substantial_factor_McNeil_injuries_58 = pd.to_numeric(df.Is_substantial_factor_McNeil_injuries_58)\n",
    "df.Economic_damages_McNeil_suffer_58        = pd.to_numeric(df.Economic_damages_McNeil_suffer_58)\n",
    "df.Non_economic_damages_McNeil_suffered_58  = pd.to_numeric(df.Non_economic_damages_McNeil_suffered_58)\n",
    "df.Q40 =pd.to_numeric(df.Q40) \n",
    "#df.Q41 =pd.to_numeric(df.Q41) \n",
    "# Handling for Path\n",
    "df.Path = pd.to_numeric(df.Path) \n",
    "df['Path'].fillna(0,inplace = True)\n",
    "df.Duration   = pd.to_numeric(df.Duration)\n",
    "df.Duration =  df.Duration.astype(int)\n",
    "df.Path =  df.Path.astype(int)\n",
    "df.dtypes"
   ]
  },
  {
   "cell_type": "markdown",
   "metadata": {},
   "source": [
    "*** Note  Failed parsing df.Q41 =pd.to_numeric(df.Q41) \n",
    "<font color = red> Checked the data It has one invalid row '1,3'</font>"
   ]
  },
  {
   "cell_type": "code",
   "execution_count": 5,
   "metadata": {},
   "outputs": [
    {
     "data": {
      "text/plain": [
       "array(['', '3', '1', '\"1,3\"'], dtype=object)"
      ]
     },
     "execution_count": 5,
     "metadata": {},
     "output_type": "execute_result"
    }
   ],
   "source": [
    "df.Q41.unique()"
   ]
  },
  {
   "cell_type": "markdown",
   "metadata": {},
   "source": [
    "## Extracting the required columns and storing it in \"newdf\" data frame."
   ]
  },
  {
   "cell_type": "code",
   "execution_count": 6,
   "metadata": {},
   "outputs": [
    {
     "data": {
      "text/html": [
       "<div>\n",
       "<style scoped>\n",
       "    .dataframe tbody tr th:only-of-type {\n",
       "        vertical-align: middle;\n",
       "    }\n",
       "\n",
       "    .dataframe tbody tr th {\n",
       "        vertical-align: top;\n",
       "    }\n",
       "\n",
       "    .dataframe thead th {\n",
       "        text-align: right;\n",
       "    }\n",
       "</style>\n",
       "<table border=\"1\" class=\"dataframe\">\n",
       "  <thead>\n",
       "    <tr style=\"text-align: right;\">\n",
       "      <th></th>\n",
       "      <th>StartDate</th>\n",
       "      <th>EndDate</th>\n",
       "      <th>Duration</th>\n",
       "      <th>Was_snowboard_sold_McNeil_defective_14</th>\n",
       "      <th>Is_substantial_factor_McNeil_injuries_14</th>\n",
       "      <th>Non_economic_damages_McNeil_suffered_14</th>\n",
       "      <th>Was_McNeil_negligent</th>\n",
       "      <th>McNeil_negligence_substantial_factor_for_injuries</th>\n",
       "      <th>Percentage_of_responsibility_X5</th>\n",
       "      <th>Percentage_of_responsibility_McNeil</th>\n",
       "      <th>Was_snowboard_sold_McNeil_defective_58</th>\n",
       "      <th>Is_substantial_factor_McNeil_injuries_58</th>\n",
       "      <th>Economic_damages_McNeil_suffer_58</th>\n",
       "      <th>Non_economic_damages_McNeil_suffered_58</th>\n",
       "      <th>Q40</th>\n",
       "      <th>Q41</th>\n",
       "      <th>Path</th>\n",
       "      <th>What is the highest degree or level of school you have completed?</th>\n",
       "      <th>Which of the following best describes your total household income?</th>\n",
       "    </tr>\n",
       "  </thead>\n",
       "  <tbody>\n",
       "    <tr>\n",
       "      <th>699</th>\n",
       "      <td>2018-04-06 13:54:00</td>\n",
       "      <td>2018-04-06 14:22:00</td>\n",
       "      <td>1648</td>\n",
       "      <td></td>\n",
       "      <td>NaN</td>\n",
       "      <td>NaN</td>\n",
       "      <td>2.0</td>\n",
       "      <td>2.0</td>\n",
       "      <td>NaN</td>\n",
       "      <td>NaN</td>\n",
       "      <td>4</td>\n",
       "      <td>5.0</td>\n",
       "      <td>10000.0</td>\n",
       "      <td>490000.0</td>\n",
       "      <td>2.0</td>\n",
       "      <td>3</td>\n",
       "      <td>7</td>\n",
       "      <td>6</td>\n",
       "      <td>5</td>\n",
       "    </tr>\n",
       "    <tr>\n",
       "      <th>194</th>\n",
       "      <td>2018-04-06 13:19:00</td>\n",
       "      <td>2018-04-06 13:40:00</td>\n",
       "      <td>1249</td>\n",
       "      <td>4</td>\n",
       "      <td>5.0</td>\n",
       "      <td>100000.0</td>\n",
       "      <td>1.0</td>\n",
       "      <td>1.0</td>\n",
       "      <td>50.0</td>\n",
       "      <td>50.0</td>\n",
       "      <td></td>\n",
       "      <td>NaN</td>\n",
       "      <td>NaN</td>\n",
       "      <td>NaN</td>\n",
       "      <td>3.0</td>\n",
       "      <td>1</td>\n",
       "      <td>3</td>\n",
       "      <td>4</td>\n",
       "      <td>3</td>\n",
       "    </tr>\n",
       "    <tr>\n",
       "      <th>171</th>\n",
       "      <td>2018-04-06 13:15:00</td>\n",
       "      <td>2018-04-06 13:40:00</td>\n",
       "      <td>1500</td>\n",
       "      <td>4</td>\n",
       "      <td>5.0</td>\n",
       "      <td>300000.0</td>\n",
       "      <td>2.0</td>\n",
       "      <td>2.0</td>\n",
       "      <td>NaN</td>\n",
       "      <td>NaN</td>\n",
       "      <td></td>\n",
       "      <td>NaN</td>\n",
       "      <td>NaN</td>\n",
       "      <td>NaN</td>\n",
       "      <td>2.0</td>\n",
       "      <td></td>\n",
       "      <td>1</td>\n",
       "      <td>3</td>\n",
       "      <td>4</td>\n",
       "    </tr>\n",
       "    <tr>\n",
       "      <th>479</th>\n",
       "      <td>2018-04-06 13:25:00</td>\n",
       "      <td>2018-04-06 13:51:00</td>\n",
       "      <td>1584</td>\n",
       "      <td></td>\n",
       "      <td>NaN</td>\n",
       "      <td>NaN</td>\n",
       "      <td>NaN</td>\n",
       "      <td>NaN</td>\n",
       "      <td>NaN</td>\n",
       "      <td>NaN</td>\n",
       "      <td>6</td>\n",
       "      <td>NaN</td>\n",
       "      <td>NaN</td>\n",
       "      <td>NaN</td>\n",
       "      <td>3.0</td>\n",
       "      <td>1</td>\n",
       "      <td>8</td>\n",
       "      <td>6</td>\n",
       "      <td>4</td>\n",
       "    </tr>\n",
       "    <tr>\n",
       "      <th>89</th>\n",
       "      <td>2018-04-06 13:17:00</td>\n",
       "      <td>2018-04-06 13:38:00</td>\n",
       "      <td>1238</td>\n",
       "      <td></td>\n",
       "      <td>NaN</td>\n",
       "      <td>NaN</td>\n",
       "      <td>NaN</td>\n",
       "      <td>NaN</td>\n",
       "      <td>NaN</td>\n",
       "      <td>NaN</td>\n",
       "      <td>6</td>\n",
       "      <td>NaN</td>\n",
       "      <td>NaN</td>\n",
       "      <td>NaN</td>\n",
       "      <td>3.0</td>\n",
       "      <td>1</td>\n",
       "      <td>6</td>\n",
       "      <td>6</td>\n",
       "      <td>4</td>\n",
       "    </tr>\n",
       "  </tbody>\n",
       "</table>\n",
       "</div>"
      ],
      "text/plain": [
       "              StartDate             EndDate  Duration  \\\n",
       "699 2018-04-06 13:54:00 2018-04-06 14:22:00      1648   \n",
       "194 2018-04-06 13:19:00 2018-04-06 13:40:00      1249   \n",
       "171 2018-04-06 13:15:00 2018-04-06 13:40:00      1500   \n",
       "479 2018-04-06 13:25:00 2018-04-06 13:51:00      1584   \n",
       "89  2018-04-06 13:17:00 2018-04-06 13:38:00      1238   \n",
       "\n",
       "    Was_snowboard_sold_McNeil_defective_14  \\\n",
       "699                                          \n",
       "194                                      4   \n",
       "171                                      4   \n",
       "479                                          \n",
       "89                                           \n",
       "\n",
       "     Is_substantial_factor_McNeil_injuries_14  \\\n",
       "699                                       NaN   \n",
       "194                                       5.0   \n",
       "171                                       5.0   \n",
       "479                                       NaN   \n",
       "89                                        NaN   \n",
       "\n",
       "     Non_economic_damages_McNeil_suffered_14  Was_McNeil_negligent  \\\n",
       "699                                      NaN                   2.0   \n",
       "194                                 100000.0                   1.0   \n",
       "171                                 300000.0                   2.0   \n",
       "479                                      NaN                   NaN   \n",
       "89                                       NaN                   NaN   \n",
       "\n",
       "     McNeil_negligence_substantial_factor_for_injuries  \\\n",
       "699                                                2.0   \n",
       "194                                                1.0   \n",
       "171                                                2.0   \n",
       "479                                                NaN   \n",
       "89                                                 NaN   \n",
       "\n",
       "     Percentage_of_responsibility_X5  Percentage_of_responsibility_McNeil  \\\n",
       "699                              NaN                                  NaN   \n",
       "194                             50.0                                 50.0   \n",
       "171                              NaN                                  NaN   \n",
       "479                              NaN                                  NaN   \n",
       "89                               NaN                                  NaN   \n",
       "\n",
       "    Was_snowboard_sold_McNeil_defective_58  \\\n",
       "699                                      4   \n",
       "194                                          \n",
       "171                                          \n",
       "479                                      6   \n",
       "89                                       6   \n",
       "\n",
       "     Is_substantial_factor_McNeil_injuries_58  \\\n",
       "699                                       5.0   \n",
       "194                                       NaN   \n",
       "171                                       NaN   \n",
       "479                                       NaN   \n",
       "89                                        NaN   \n",
       "\n",
       "     Economic_damages_McNeil_suffer_58  \\\n",
       "699                            10000.0   \n",
       "194                                NaN   \n",
       "171                                NaN   \n",
       "479                                NaN   \n",
       "89                                 NaN   \n",
       "\n",
       "     Non_economic_damages_McNeil_suffered_58  Q40 Q41  Path  \\\n",
       "699                                 490000.0  2.0   3     7   \n",
       "194                                      NaN  3.0   1     3   \n",
       "171                                      NaN  2.0         1   \n",
       "479                                      NaN  3.0   1     8   \n",
       "89                                       NaN  3.0   1     6   \n",
       "\n",
       "    What is the highest degree or level of school you have completed?  \\\n",
       "699                                                  6                  \n",
       "194                                                  4                  \n",
       "171                                                  3                  \n",
       "479                                                  6                  \n",
       "89                                                   6                  \n",
       "\n",
       "    Which of the following best describes your total household income?  \n",
       "699                                                  5                  \n",
       "194                                                  3                  \n",
       "171                                                  4                  \n",
       "479                                                  4                  \n",
       "89                                                   4                  "
      ]
     },
     "execution_count": 6,
     "metadata": {},
     "output_type": "execute_result"
    }
   ],
   "source": [
    "newdf =pd.DataFrame(df[['StartDate', 'EndDate','Duration',\n",
    "       'Was_snowboard_sold_McNeil_defective_14', \n",
    "       \"Is_substantial_factor_McNeil_injuries_14\",\n",
    "       'Non_economic_damages_McNeil_suffered_14',                                                                                         \n",
    "       'Was_McNeil_negligent',\n",
    "       'McNeil_negligence_substantial_factor_for_injuries',                                                                                         \n",
    "       'Percentage_of_responsibility_X5',\n",
    "       'Percentage_of_responsibility_McNeil'                                                                                      ,\n",
    "       'Was_snowboard_sold_McNeil_defective_58',\n",
    "       \"Is_substantial_factor_McNeil_injuries_58\",\n",
    "       'Economic_damages_McNeil_suffer_58',\n",
    "       'Non_economic_damages_McNeil_suffered_58',\n",
    "       'Q40',\n",
    "       'Q41',\n",
    "       'Path',\n",
    "       'What is the highest degree or level of school you have completed?',\n",
    "       'Which of the following best describes your total household income?',\n",
    "                       ]])       \n",
    "newdf.sample(5)"
   ]
  },
  {
   "cell_type": "code",
   "execution_count": 7,
   "metadata": {},
   "outputs": [],
   "source": [
    "newdf.rename(columns=\n",
    "{\"What is the highest degree or level of school you have completed?\": \"Education\", \n",
    "\"Which of the following best describes your total household income?\":\"Income\",\n",
    "},inplace=True)"
   ]
  },
  {
   "cell_type": "markdown",
   "metadata": {},
   "source": [
    "## Handling Percentage Calculation  "
   ]
  },
  {
   "cell_type": "markdown",
   "metadata": {},
   "source": [
    "We have two columns that save the percentage of responsibility for X5 and McNeil. The total sum should be 100. \n",
    "If it is less than 100 or greater than 100, then we need to change to a relative percentage, so that it should be round to 100.\n",
    "\n",
    "Let's see what are the data in these columns and if there are any null/NaN values, then we have to deal with that."
   ]
  },
  {
   "cell_type": "code",
   "execution_count": 8,
   "metadata": {},
   "outputs": [
    {
     "name": "stdout",
     "output_type": "stream",
     "text": [
      "Unique values for _X5  [ nan  50.  65.  75.  90.  80.  70.  25.  60.  40.  20.  15.   5.  10.\n",
      "  35.  85.  55. 100.  45.  30.]\n",
      "Unique values for _McNiel  [nan 50. 35. 25. 10. 20. 30. 75. 40. 60. 80. 85. 95. 90. 65. 15. 45.  0.\n",
      " 55. 70.]\n"
     ]
    }
   ],
   "source": [
    "print(\"Unique values for _X5 \", newdf.Percentage_of_responsibility_X5.unique())\n",
    "print(\"Unique values for _McNiel \", newdf.Percentage_of_responsibility_McNeil.unique())"
   ]
  },
  {
   "cell_type": "markdown",
   "metadata": {},
   "source": [
    "In Both the columns, we have NaN values. Before replacing NaN with 0s, lets first check which rows have 0 values."
   ]
  },
  {
   "cell_type": "code",
   "execution_count": 9,
   "metadata": {},
   "outputs": [
    {
     "data": {
      "text/html": [
       "<div>\n",
       "<style scoped>\n",
       "    .dataframe tbody tr th:only-of-type {\n",
       "        vertical-align: middle;\n",
       "    }\n",
       "\n",
       "    .dataframe tbody tr th {\n",
       "        vertical-align: top;\n",
       "    }\n",
       "\n",
       "    .dataframe thead th {\n",
       "        text-align: right;\n",
       "    }\n",
       "</style>\n",
       "<table border=\"1\" class=\"dataframe\">\n",
       "  <thead>\n",
       "    <tr style=\"text-align: right;\">\n",
       "      <th></th>\n",
       "      <th>StartDate</th>\n",
       "      <th>EndDate</th>\n",
       "      <th>Duration</th>\n",
       "      <th>Was_snowboard_sold_McNeil_defective_14</th>\n",
       "      <th>Is_substantial_factor_McNeil_injuries_14</th>\n",
       "      <th>Non_economic_damages_McNeil_suffered_14</th>\n",
       "      <th>Was_McNeil_negligent</th>\n",
       "      <th>McNeil_negligence_substantial_factor_for_injuries</th>\n",
       "      <th>Percentage_of_responsibility_X5</th>\n",
       "      <th>Percentage_of_responsibility_McNeil</th>\n",
       "      <th>Was_snowboard_sold_McNeil_defective_58</th>\n",
       "      <th>Is_substantial_factor_McNeil_injuries_58</th>\n",
       "      <th>Economic_damages_McNeil_suffer_58</th>\n",
       "      <th>Non_economic_damages_McNeil_suffered_58</th>\n",
       "      <th>Q40</th>\n",
       "      <th>Q41</th>\n",
       "      <th>Path</th>\n",
       "      <th>Education</th>\n",
       "      <th>Income</th>\n",
       "    </tr>\n",
       "  </thead>\n",
       "  <tbody>\n",
       "    <tr>\n",
       "      <th>510</th>\n",
       "      <td>2018-04-06 13:51:00</td>\n",
       "      <td>2018-04-06 13:53:00</td>\n",
       "      <td>136</td>\n",
       "      <td></td>\n",
       "      <td>NaN</td>\n",
       "      <td>NaN</td>\n",
       "      <td>1.0</td>\n",
       "      <td>1.0</td>\n",
       "      <td>100.0</td>\n",
       "      <td>0.0</td>\n",
       "      <td>4</td>\n",
       "      <td>5.0</td>\n",
       "      <td>10000.0</td>\n",
       "      <td>490000.0</td>\n",
       "      <td>1.0</td>\n",
       "      <td>1</td>\n",
       "      <td>5</td>\n",
       "      <td>4</td>\n",
       "      <td>2</td>\n",
       "    </tr>\n",
       "  </tbody>\n",
       "</table>\n",
       "</div>"
      ],
      "text/plain": [
       "              StartDate             EndDate  Duration  \\\n",
       "510 2018-04-06 13:51:00 2018-04-06 13:53:00       136   \n",
       "\n",
       "    Was_snowboard_sold_McNeil_defective_14  \\\n",
       "510                                          \n",
       "\n",
       "     Is_substantial_factor_McNeil_injuries_14  \\\n",
       "510                                       NaN   \n",
       "\n",
       "     Non_economic_damages_McNeil_suffered_14  Was_McNeil_negligent  \\\n",
       "510                                      NaN                   1.0   \n",
       "\n",
       "     McNeil_negligence_substantial_factor_for_injuries  \\\n",
       "510                                                1.0   \n",
       "\n",
       "     Percentage_of_responsibility_X5  Percentage_of_responsibility_McNeil  \\\n",
       "510                            100.0                                  0.0   \n",
       "\n",
       "    Was_snowboard_sold_McNeil_defective_58  \\\n",
       "510                                      4   \n",
       "\n",
       "     Is_substantial_factor_McNeil_injuries_58  \\\n",
       "510                                       5.0   \n",
       "\n",
       "     Economic_damages_McNeil_suffer_58  \\\n",
       "510                            10000.0   \n",
       "\n",
       "     Non_economic_damages_McNeil_suffered_58  Q40 Q41  Path Education Income  \n",
       "510                                 490000.0  1.0   1     5         4      2  "
      ]
     },
     "execution_count": 9,
     "metadata": {},
     "output_type": "execute_result"
    }
   ],
   "source": [
    "newdf.query(\"Percentage_of_responsibility_McNeil == 0\")"
   ]
  },
  {
   "cell_type": "markdown",
   "metadata": {},
   "source": [
    "As there is one row with 0 value, we are replacing NaN with some nagative values say <font color = red >'-1'.</font> "
   ]
  },
  {
   "cell_type": "code",
   "execution_count": 10,
   "metadata": {},
   "outputs": [
    {
     "data": {
      "text/plain": [
       "array([-1., 50., 35., 25., 10., 20., 30., 75., 40., 60., 80., 85., 95.,\n",
       "       90., 65., 15., 45.,  0., 55., 70.])"
      ]
     },
     "execution_count": 10,
     "metadata": {},
     "output_type": "execute_result"
    }
   ],
   "source": [
    "newdf['Percentage_of_responsibility_X5'].fillna(-1 ,inplace=True)\n",
    "newdf['Percentage_of_responsibility_McNeil'].fillna(-1,inplace=True)\n",
    "newdf.Percentage_of_responsibility_McNeil.unique()"
   ]
  },
  {
   "cell_type": "markdown",
   "metadata": {},
   "source": [
    "Lets see the distribution of total percentage."
   ]
  },
  {
   "cell_type": "code",
   "execution_count": 11,
   "metadata": {},
   "outputs": [
    {
     "data": {
      "text/html": [
       "<div>\n",
       "<style scoped>\n",
       "    .dataframe tbody tr th:only-of-type {\n",
       "        vertical-align: middle;\n",
       "    }\n",
       "\n",
       "    .dataframe tbody tr th {\n",
       "        vertical-align: top;\n",
       "    }\n",
       "\n",
       "    .dataframe thead th {\n",
       "        text-align: right;\n",
       "    }\n",
       "</style>\n",
       "<table border=\"1\" class=\"dataframe\">\n",
       "  <thead>\n",
       "    <tr style=\"text-align: right;\">\n",
       "      <th></th>\n",
       "      <th>StartDate</th>\n",
       "      <th>EndDate</th>\n",
       "      <th>Duration</th>\n",
       "      <th>Was_snowboard_sold_McNeil_defective_14</th>\n",
       "      <th>Is_substantial_factor_McNeil_injuries_14</th>\n",
       "      <th>Non_economic_damages_McNeil_suffered_14</th>\n",
       "      <th>Was_McNeil_negligent</th>\n",
       "      <th>McNeil_negligence_substantial_factor_for_injuries</th>\n",
       "      <th>Percentage_of_responsibility_X5</th>\n",
       "      <th>Percentage_of_responsibility_McNeil</th>\n",
       "      <th>Was_snowboard_sold_McNeil_defective_58</th>\n",
       "      <th>Is_substantial_factor_McNeil_injuries_58</th>\n",
       "      <th>Economic_damages_McNeil_suffer_58</th>\n",
       "      <th>Non_economic_damages_McNeil_suffered_58</th>\n",
       "      <th>Q40</th>\n",
       "      <th>Q41</th>\n",
       "      <th>Path</th>\n",
       "      <th>Education</th>\n",
       "      <th>Income</th>\n",
       "      <th>Total_perc</th>\n",
       "    </tr>\n",
       "  </thead>\n",
       "  <tbody>\n",
       "  </tbody>\n",
       "</table>\n",
       "</div>"
      ],
      "text/plain": [
       "Empty DataFrame\n",
       "Columns: [StartDate, EndDate, Duration, Was_snowboard_sold_McNeil_defective_14, Is_substantial_factor_McNeil_injuries_14, Non_economic_damages_McNeil_suffered_14, Was_McNeil_negligent, McNeil_negligence_substantial_factor_for_injuries, Percentage_of_responsibility_X5, Percentage_of_responsibility_McNeil, Was_snowboard_sold_McNeil_defective_58, Is_substantial_factor_McNeil_injuries_58, Economic_damages_McNeil_suffer_58, Non_economic_damages_McNeil_suffered_58, Q40, Q41, Path, Education, Income, Total_perc]\n",
       "Index: []"
      ]
     },
     "execution_count": 11,
     "metadata": {},
     "output_type": "execute_result"
    }
   ],
   "source": [
    "newdf['Total_perc'] = (newdf['Percentage_of_responsibility_X5']\n",
    "+newdf['Percentage_of_responsibility_McNeil'])\n",
    "    \n",
    "newdf.query('Total_perc < 100 & Total_perc > 0 |Total_perc > 100')"
   ]
  },
  {
   "cell_type": "markdown",
   "metadata": {},
   "source": [
    "So for all cases each percentage are summing to 100 and there is no \"Total Percentage\" greater than or less than 100.\n",
    "\n",
    "Lets convert the value to % for calculation of discounted damages and replacinng -ve value with 1.\n",
    "\n",
    "\n"
   ]
  },
  {
   "cell_type": "code",
   "execution_count": 12,
   "metadata": {},
   "outputs": [
    {
     "name": "stdout",
     "output_type": "stream",
     "text": [
      "0    1.0\n",
      "1    1.0\n",
      "2    1.0\n",
      "3    1.0\n",
      "4    1.0\n",
      "Name: Percentage_of_responsibility_McNeil, dtype: float64\n",
      "0    1.0\n",
      "1    1.0\n",
      "2    1.0\n",
      "3    1.0\n",
      "4    1.0\n",
      "Name: Percentage_of_responsibility_X5, dtype: float64\n"
     ]
    }
   ],
   "source": [
    "newdf['Percentage_of_responsibility_X5']=newdf['Percentage_of_responsibility_X5']/100\n",
    "newdf['Percentage_of_responsibility_X5'].replace([-0.01],[1], inplace = True)\n",
    "newdf['Percentage_of_responsibility_McNeil']=newdf['Percentage_of_responsibility_McNeil']/100\n",
    "newdf['Percentage_of_responsibility_McNeil'].replace([-0.01],[1], inplace = True)\n",
    "\n",
    "print(newdf['Percentage_of_responsibility_McNeil'].head())\n",
    "print(newdf['Percentage_of_responsibility_X5'].head())"
   ]
  },
  {
   "cell_type": "markdown",
   "metadata": {},
   "source": [
    "## See how many missing data points we have"
   ]
  },
  {
   "cell_type": "markdown",
   "metadata": {},
   "source": [
    "#### Ok, now we know that we do have some missing values. Let's see how many we have in each column."
   ]
  },
  {
   "cell_type": "code",
   "execution_count": 13,
   "metadata": {},
   "outputs": [
    {
     "name": "stdout",
     "output_type": "stream",
     "text": [
      "StartDate                                              0\n",
      "EndDate                                                0\n",
      "Duration                                               0\n",
      "Was_snowboard_sold_McNeil_defective_14                 0\n",
      "Is_substantial_factor_McNeil_injuries_14             618\n",
      "Non_economic_damages_McNeil_suffered_14              637\n",
      "Was_McNeil_negligent                                 489\n",
      "McNeil_negligence_substantial_factor_for_injuries    489\n",
      "Percentage_of_responsibility_X5                        0\n",
      "Percentage_of_responsibility_McNeil                    0\n",
      "Was_snowboard_sold_McNeil_defective_58                 0\n",
      "Is_substantial_factor_McNeil_injuries_58             629\n",
      "Economic_damages_McNeil_suffer_58                    656\n",
      "Non_economic_damages_McNeil_suffered_58              656\n",
      "Q40                                                   33\n",
      "Q41                                                    0\n",
      "Path                                                   0\n",
      "Education                                              0\n",
      "Income                                                 0\n",
      "Total_perc                                             0\n",
      "dtype: int64\n",
      "Percent of data that is missing:  26.162935323383085\n"
     ]
    }
   ],
   "source": [
    "import numpy as np\n",
    "missing_values_count = newdf.isnull().sum()\n",
    "print(missing_values_count)\n",
    "total_cells = np.product(newdf.shape)\n",
    "total_missing = missing_values_count.sum()\n",
    "print('Percent of data that is missing: ',(total_missing/total_cells) * 100)"
   ]
  },
  {
   "cell_type": "code",
   "execution_count": 14,
   "metadata": {},
   "outputs": [
    {
     "data": {
      "text/plain": [
       "(804, 20)"
      ]
     },
     "execution_count": 14,
     "metadata": {},
     "output_type": "execute_result"
    }
   ],
   "source": [
    "newdf.shape "
   ]
  },
  {
   "cell_type": "code",
   "execution_count": 15,
   "metadata": {},
   "outputs": [
    {
     "data": {
      "text/plain": [
       "StartDate                                            datetime64[ns]\n",
       "EndDate                                              datetime64[ns]\n",
       "Duration                                                      int64\n",
       "Was_snowboard_sold_McNeil_defective_14                       object\n",
       "Is_substantial_factor_McNeil_injuries_14                    float64\n",
       "Non_economic_damages_McNeil_suffered_14                     float64\n",
       "Was_McNeil_negligent                                        float64\n",
       "McNeil_negligence_substantial_factor_for_injuries           float64\n",
       "Percentage_of_responsibility_X5                             float64\n",
       "Percentage_of_responsibility_McNeil                         float64\n",
       "Was_snowboard_sold_McNeil_defective_58                       object\n",
       "Is_substantial_factor_McNeil_injuries_58                    float64\n",
       "Economic_damages_McNeil_suffer_58                           float64\n",
       "Non_economic_damages_McNeil_suffered_58                     float64\n",
       "Q40                                                         float64\n",
       "Q41                                                          object\n",
       "Path                                                          int64\n",
       "Education                                                    object\n",
       "Income                                                       object\n",
       "Total_perc                                                  float64\n",
       "dtype: object"
      ]
     },
     "execution_count": 15,
     "metadata": {},
     "output_type": "execute_result"
    }
   ],
   "source": [
    "newdf.dtypes"
   ]
  },
  {
   "cell_type": "markdown",
   "metadata": {},
   "source": [
    "### As we are just working on from path 1 to 8, Lets remove path with value 0.\n",
    "So the number of rows to be removed having Path as 0 can be checked usig the \".shape\""
   ]
  },
  {
   "cell_type": "code",
   "execution_count": 16,
   "metadata": {},
   "outputs": [
    {
     "data": {
      "text/plain": [
       "(13, 20)"
      ]
     },
     "execution_count": 16,
     "metadata": {},
     "output_type": "execute_result"
    }
   ],
   "source": [
    "newdf[newdf.Path <=0].shape"
   ]
  },
  {
   "cell_type": "markdown",
   "metadata": {},
   "source": [
    "So we have 13 rows . Let's have a look on those rows."
   ]
  },
  {
   "cell_type": "code",
   "execution_count": 17,
   "metadata": {},
   "outputs": [
    {
     "data": {
      "text/html": [
       "<div>\n",
       "<style scoped>\n",
       "    .dataframe tbody tr th:only-of-type {\n",
       "        vertical-align: middle;\n",
       "    }\n",
       "\n",
       "    .dataframe tbody tr th {\n",
       "        vertical-align: top;\n",
       "    }\n",
       "\n",
       "    .dataframe thead th {\n",
       "        text-align: right;\n",
       "    }\n",
       "</style>\n",
       "<table border=\"1\" class=\"dataframe\">\n",
       "  <thead>\n",
       "    <tr style=\"text-align: right;\">\n",
       "      <th></th>\n",
       "      <th>StartDate</th>\n",
       "      <th>EndDate</th>\n",
       "      <th>Duration</th>\n",
       "      <th>Was_snowboard_sold_McNeil_defective_14</th>\n",
       "      <th>Is_substantial_factor_McNeil_injuries_14</th>\n",
       "      <th>Non_economic_damages_McNeil_suffered_14</th>\n",
       "      <th>Was_McNeil_negligent</th>\n",
       "      <th>McNeil_negligence_substantial_factor_for_injuries</th>\n",
       "      <th>Percentage_of_responsibility_X5</th>\n",
       "      <th>Percentage_of_responsibility_McNeil</th>\n",
       "      <th>Was_snowboard_sold_McNeil_defective_58</th>\n",
       "      <th>Is_substantial_factor_McNeil_injuries_58</th>\n",
       "      <th>Economic_damages_McNeil_suffer_58</th>\n",
       "      <th>Non_economic_damages_McNeil_suffered_58</th>\n",
       "      <th>Q40</th>\n",
       "      <th>Q41</th>\n",
       "      <th>Path</th>\n",
       "      <th>Education</th>\n",
       "      <th>Income</th>\n",
       "      <th>Total_perc</th>\n",
       "    </tr>\n",
       "  </thead>\n",
       "  <tbody>\n",
       "    <tr>\n",
       "      <th>0</th>\n",
       "      <td>2018-04-06 13:14:00</td>\n",
       "      <td>2018-04-06 13:15:00</td>\n",
       "      <td>34</td>\n",
       "      <td></td>\n",
       "      <td>NaN</td>\n",
       "      <td>NaN</td>\n",
       "      <td>NaN</td>\n",
       "      <td>NaN</td>\n",
       "      <td>1.0</td>\n",
       "      <td>1.0</td>\n",
       "      <td></td>\n",
       "      <td>NaN</td>\n",
       "      <td>NaN</td>\n",
       "      <td>NaN</td>\n",
       "      <td>NaN</td>\n",
       "      <td></td>\n",
       "      <td>0</td>\n",
       "      <td>6</td>\n",
       "      <td>4</td>\n",
       "      <td>-2.0</td>\n",
       "    </tr>\n",
       "    <tr>\n",
       "      <th>1</th>\n",
       "      <td>2018-04-06 13:15:00</td>\n",
       "      <td>2018-04-06 13:16:00</td>\n",
       "      <td>42</td>\n",
       "      <td></td>\n",
       "      <td>NaN</td>\n",
       "      <td>NaN</td>\n",
       "      <td>NaN</td>\n",
       "      <td>NaN</td>\n",
       "      <td>1.0</td>\n",
       "      <td>1.0</td>\n",
       "      <td></td>\n",
       "      <td>NaN</td>\n",
       "      <td>NaN</td>\n",
       "      <td>NaN</td>\n",
       "      <td>NaN</td>\n",
       "      <td></td>\n",
       "      <td>0</td>\n",
       "      <td>6</td>\n",
       "      <td>4</td>\n",
       "      <td>-2.0</td>\n",
       "    </tr>\n",
       "    <tr>\n",
       "      <th>3</th>\n",
       "      <td>2018-04-06 13:17:00</td>\n",
       "      <td>2018-04-06 13:18:00</td>\n",
       "      <td>69</td>\n",
       "      <td></td>\n",
       "      <td>NaN</td>\n",
       "      <td>NaN</td>\n",
       "      <td>NaN</td>\n",
       "      <td>NaN</td>\n",
       "      <td>1.0</td>\n",
       "      <td>1.0</td>\n",
       "      <td></td>\n",
       "      <td>NaN</td>\n",
       "      <td>NaN</td>\n",
       "      <td>NaN</td>\n",
       "      <td>NaN</td>\n",
       "      <td></td>\n",
       "      <td>0</td>\n",
       "      <td>5</td>\n",
       "      <td>3</td>\n",
       "      <td>-2.0</td>\n",
       "    </tr>\n",
       "    <tr>\n",
       "      <th>5</th>\n",
       "      <td>2018-04-06 13:19:00</td>\n",
       "      <td>2018-04-06 13:19:00</td>\n",
       "      <td>14</td>\n",
       "      <td></td>\n",
       "      <td>NaN</td>\n",
       "      <td>NaN</td>\n",
       "      <td>NaN</td>\n",
       "      <td>NaN</td>\n",
       "      <td>1.0</td>\n",
       "      <td>1.0</td>\n",
       "      <td></td>\n",
       "      <td>NaN</td>\n",
       "      <td>NaN</td>\n",
       "      <td>NaN</td>\n",
       "      <td>NaN</td>\n",
       "      <td></td>\n",
       "      <td>0</td>\n",
       "      <td></td>\n",
       "      <td></td>\n",
       "      <td>-2.0</td>\n",
       "    </tr>\n",
       "    <tr>\n",
       "      <th>6</th>\n",
       "      <td>2018-04-06 13:17:00</td>\n",
       "      <td>2018-04-06 13:20:00</td>\n",
       "      <td>197</td>\n",
       "      <td></td>\n",
       "      <td>NaN</td>\n",
       "      <td>NaN</td>\n",
       "      <td>NaN</td>\n",
       "      <td>NaN</td>\n",
       "      <td>1.0</td>\n",
       "      <td>1.0</td>\n",
       "      <td></td>\n",
       "      <td>NaN</td>\n",
       "      <td>NaN</td>\n",
       "      <td>NaN</td>\n",
       "      <td>NaN</td>\n",
       "      <td></td>\n",
       "      <td>0</td>\n",
       "      <td></td>\n",
       "      <td></td>\n",
       "      <td>-2.0</td>\n",
       "    </tr>\n",
       "  </tbody>\n",
       "</table>\n",
       "</div>"
      ],
      "text/plain": [
       "            StartDate             EndDate  Duration  \\\n",
       "0 2018-04-06 13:14:00 2018-04-06 13:15:00        34   \n",
       "1 2018-04-06 13:15:00 2018-04-06 13:16:00        42   \n",
       "3 2018-04-06 13:17:00 2018-04-06 13:18:00        69   \n",
       "5 2018-04-06 13:19:00 2018-04-06 13:19:00        14   \n",
       "6 2018-04-06 13:17:00 2018-04-06 13:20:00       197   \n",
       "\n",
       "  Was_snowboard_sold_McNeil_defective_14  \\\n",
       "0                                          \n",
       "1                                          \n",
       "3                                          \n",
       "5                                          \n",
       "6                                          \n",
       "\n",
       "   Is_substantial_factor_McNeil_injuries_14  \\\n",
       "0                                       NaN   \n",
       "1                                       NaN   \n",
       "3                                       NaN   \n",
       "5                                       NaN   \n",
       "6                                       NaN   \n",
       "\n",
       "   Non_economic_damages_McNeil_suffered_14  Was_McNeil_negligent  \\\n",
       "0                                      NaN                   NaN   \n",
       "1                                      NaN                   NaN   \n",
       "3                                      NaN                   NaN   \n",
       "5                                      NaN                   NaN   \n",
       "6                                      NaN                   NaN   \n",
       "\n",
       "   McNeil_negligence_substantial_factor_for_injuries  \\\n",
       "0                                                NaN   \n",
       "1                                                NaN   \n",
       "3                                                NaN   \n",
       "5                                                NaN   \n",
       "6                                                NaN   \n",
       "\n",
       "   Percentage_of_responsibility_X5  Percentage_of_responsibility_McNeil  \\\n",
       "0                              1.0                                  1.0   \n",
       "1                              1.0                                  1.0   \n",
       "3                              1.0                                  1.0   \n",
       "5                              1.0                                  1.0   \n",
       "6                              1.0                                  1.0   \n",
       "\n",
       "  Was_snowboard_sold_McNeil_defective_58  \\\n",
       "0                                          \n",
       "1                                          \n",
       "3                                          \n",
       "5                                          \n",
       "6                                          \n",
       "\n",
       "   Is_substantial_factor_McNeil_injuries_58  \\\n",
       "0                                       NaN   \n",
       "1                                       NaN   \n",
       "3                                       NaN   \n",
       "5                                       NaN   \n",
       "6                                       NaN   \n",
       "\n",
       "   Economic_damages_McNeil_suffer_58  Non_economic_damages_McNeil_suffered_58  \\\n",
       "0                                NaN                                      NaN   \n",
       "1                                NaN                                      NaN   \n",
       "3                                NaN                                      NaN   \n",
       "5                                NaN                                      NaN   \n",
       "6                                NaN                                      NaN   \n",
       "\n",
       "   Q40 Q41  Path Education Income  Total_perc  \n",
       "0  NaN         0         6      4        -2.0  \n",
       "1  NaN         0         6      4        -2.0  \n",
       "3  NaN         0         5      3        -2.0  \n",
       "5  NaN         0                         -2.0  \n",
       "6  NaN         0                         -2.0  "
      ]
     },
     "execution_count": 17,
     "metadata": {},
     "output_type": "execute_result"
    }
   ],
   "source": [
    "newdf[newdf.Path <=0].head()"
   ]
  },
  {
   "cell_type": "markdown",
   "metadata": {},
   "source": [
    "<font color = 'red' size = \"5\"> As we can see there are 13 observation with path value equal to 0. We are removing these observation </font>"
   ]
  },
  {
   "cell_type": "code",
   "execution_count": 18,
   "metadata": {},
   "outputs": [],
   "source": [
    "newdf = newdf[newdf.Path > 0]"
   ]
  },
  {
   "cell_type": "markdown",
   "metadata": {},
   "source": [
    "## Filter the data based on the duration of each scenario\n",
    "As per the requirement we have to filter the experiment one data based on the length of each scenario.\n",
    "The lengths are as follows:\n",
    "- Scenario 1   14:47 (887 seconds)\n",
    "- Scenario 2   15:11 (911 seconds)\n",
    "- Scenario 3   15:50 (950 seconds)\n",
    "- Scenario 4   16:23 (983 seconds)\n",
    "- Scenario 5   16:37 (997 seconds\n",
    "- Scenario 6   16:56 (1016 seconds)\n",
    "- Scenario 7   17:40 (1060 seconds)\n",
    "- Senario 8    18:04 (1084 seconds)\n",
    "\n",
    "Let’s filter anyone who spent less than 10 second less than the whole time.  e.g 14:37(877), 15:01(901) etc."
   ]
  },
  {
   "cell_type": "code",
   "execution_count": 19,
   "metadata": {
    "scrolled": true
   },
   "outputs": [
    {
     "name": "stderr",
     "output_type": "stream",
     "text": [
      "/anaconda3/lib/python3.6/site-packages/ipykernel_launcher.py:8: UserWarning: Boolean Series key will be reindexed to match DataFrame index.\n",
      "  \n"
     ]
    }
   ],
   "source": [
    "newdf=newdf[((newdf.Path == 1) & (df.Duration>=877))|((newdf.Path == 2) \n",
    "           & (df.Duration>=901))|((newdf.Path == 4) \n",
    "           & (df.Duration>=973))|((newdf.Path == 3) \n",
    "           & (df.Duration>=940)) | ((newdf.Path == 5) \n",
    "           & (df.Duration>=987)) | ((newdf.Path == 6) \n",
    "           & (df.Duration>=1006))|((newdf.Path == 7) \n",
    "           & (df.Duration>=1050)) | ((newdf.Path == 8) \n",
    "           & (df.Duration>=1074))]\n"
   ]
  },
  {
   "cell_type": "code",
   "execution_count": 20,
   "metadata": {},
   "outputs": [
    {
     "data": {
      "text/html": [
       "<div>\n",
       "<style scoped>\n",
       "    .dataframe tbody tr th:only-of-type {\n",
       "        vertical-align: middle;\n",
       "    }\n",
       "\n",
       "    .dataframe tbody tr th {\n",
       "        vertical-align: top;\n",
       "    }\n",
       "\n",
       "    .dataframe thead th {\n",
       "        text-align: right;\n",
       "    }\n",
       "</style>\n",
       "<table border=\"1\" class=\"dataframe\">\n",
       "  <thead>\n",
       "    <tr style=\"text-align: right;\">\n",
       "      <th></th>\n",
       "      <th>StartDate</th>\n",
       "      <th>EndDate</th>\n",
       "      <th>Duration</th>\n",
       "      <th>Was_snowboard_sold_McNeil_defective_14</th>\n",
       "      <th>Is_substantial_factor_McNeil_injuries_14</th>\n",
       "      <th>Non_economic_damages_McNeil_suffered_14</th>\n",
       "      <th>Was_McNeil_negligent</th>\n",
       "      <th>McNeil_negligence_substantial_factor_for_injuries</th>\n",
       "      <th>Percentage_of_responsibility_X5</th>\n",
       "      <th>Percentage_of_responsibility_McNeil</th>\n",
       "      <th>Was_snowboard_sold_McNeil_defective_58</th>\n",
       "      <th>Is_substantial_factor_McNeil_injuries_58</th>\n",
       "      <th>Economic_damages_McNeil_suffer_58</th>\n",
       "      <th>Non_economic_damages_McNeil_suffered_58</th>\n",
       "      <th>Q40</th>\n",
       "      <th>Q41</th>\n",
       "      <th>Path</th>\n",
       "      <th>Education</th>\n",
       "      <th>Income</th>\n",
       "      <th>Total_perc</th>\n",
       "    </tr>\n",
       "  </thead>\n",
       "  <tbody>\n",
       "    <tr>\n",
       "      <th>25</th>\n",
       "      <td>2018-04-06 13:15:00</td>\n",
       "      <td>2018-04-06 13:32:00</td>\n",
       "      <td>1039</td>\n",
       "      <td></td>\n",
       "      <td>NaN</td>\n",
       "      <td>NaN</td>\n",
       "      <td>NaN</td>\n",
       "      <td>NaN</td>\n",
       "      <td>1.00</td>\n",
       "      <td>1.00</td>\n",
       "      <td>6</td>\n",
       "      <td>NaN</td>\n",
       "      <td>NaN</td>\n",
       "      <td>NaN</td>\n",
       "      <td>3.0</td>\n",
       "      <td>1</td>\n",
       "      <td>5</td>\n",
       "      <td>5</td>\n",
       "      <td>2</td>\n",
       "      <td>-2.0</td>\n",
       "    </tr>\n",
       "    <tr>\n",
       "      <th>26</th>\n",
       "      <td>2018-04-06 13:17:00</td>\n",
       "      <td>2018-04-06 13:33:00</td>\n",
       "      <td>915</td>\n",
       "      <td>4</td>\n",
       "      <td>6.0</td>\n",
       "      <td>NaN</td>\n",
       "      <td>NaN</td>\n",
       "      <td>NaN</td>\n",
       "      <td>1.00</td>\n",
       "      <td>1.00</td>\n",
       "      <td></td>\n",
       "      <td>NaN</td>\n",
       "      <td>NaN</td>\n",
       "      <td>NaN</td>\n",
       "      <td>2.0</td>\n",
       "      <td></td>\n",
       "      <td>1</td>\n",
       "      <td>4</td>\n",
       "      <td>3</td>\n",
       "      <td>-2.0</td>\n",
       "    </tr>\n",
       "    <tr>\n",
       "      <th>27</th>\n",
       "      <td>2018-04-06 13:15:00</td>\n",
       "      <td>2018-04-06 13:33:00</td>\n",
       "      <td>1051</td>\n",
       "      <td>4</td>\n",
       "      <td>5.0</td>\n",
       "      <td>500000.0</td>\n",
       "      <td>2.0</td>\n",
       "      <td>2.0</td>\n",
       "      <td>1.00</td>\n",
       "      <td>1.00</td>\n",
       "      <td></td>\n",
       "      <td>NaN</td>\n",
       "      <td>NaN</td>\n",
       "      <td>NaN</td>\n",
       "      <td>1.0</td>\n",
       "      <td>1</td>\n",
       "      <td>1</td>\n",
       "      <td>6</td>\n",
       "      <td>5</td>\n",
       "      <td>-2.0</td>\n",
       "    </tr>\n",
       "    <tr>\n",
       "      <th>28</th>\n",
       "      <td>2018-04-06 13:15:00</td>\n",
       "      <td>2018-04-06 13:33:00</td>\n",
       "      <td>1092</td>\n",
       "      <td>6</td>\n",
       "      <td>NaN</td>\n",
       "      <td>NaN</td>\n",
       "      <td>NaN</td>\n",
       "      <td>NaN</td>\n",
       "      <td>1.00</td>\n",
       "      <td>1.00</td>\n",
       "      <td></td>\n",
       "      <td>NaN</td>\n",
       "      <td>NaN</td>\n",
       "      <td>NaN</td>\n",
       "      <td>3.0</td>\n",
       "      <td>1</td>\n",
       "      <td>1</td>\n",
       "      <td>3</td>\n",
       "      <td>3</td>\n",
       "      <td>-2.0</td>\n",
       "    </tr>\n",
       "    <tr>\n",
       "      <th>29</th>\n",
       "      <td>2018-04-06 13:14:00</td>\n",
       "      <td>2018-04-06 13:33:00</td>\n",
       "      <td>1135</td>\n",
       "      <td>4</td>\n",
       "      <td>5.0</td>\n",
       "      <td>350000.0</td>\n",
       "      <td>1.0</td>\n",
       "      <td>1.0</td>\n",
       "      <td>0.75</td>\n",
       "      <td>0.25</td>\n",
       "      <td></td>\n",
       "      <td>NaN</td>\n",
       "      <td>NaN</td>\n",
       "      <td>NaN</td>\n",
       "      <td>1.0</td>\n",
       "      <td>1</td>\n",
       "      <td>2</td>\n",
       "      <td>6</td>\n",
       "      <td>4</td>\n",
       "      <td>100.0</td>\n",
       "    </tr>\n",
       "  </tbody>\n",
       "</table>\n",
       "</div>"
      ],
      "text/plain": [
       "             StartDate             EndDate  Duration  \\\n",
       "25 2018-04-06 13:15:00 2018-04-06 13:32:00      1039   \n",
       "26 2018-04-06 13:17:00 2018-04-06 13:33:00       915   \n",
       "27 2018-04-06 13:15:00 2018-04-06 13:33:00      1051   \n",
       "28 2018-04-06 13:15:00 2018-04-06 13:33:00      1092   \n",
       "29 2018-04-06 13:14:00 2018-04-06 13:33:00      1135   \n",
       "\n",
       "   Was_snowboard_sold_McNeil_defective_14  \\\n",
       "25                                          \n",
       "26                                      4   \n",
       "27                                      4   \n",
       "28                                      6   \n",
       "29                                      4   \n",
       "\n",
       "    Is_substantial_factor_McNeil_injuries_14  \\\n",
       "25                                       NaN   \n",
       "26                                       6.0   \n",
       "27                                       5.0   \n",
       "28                                       NaN   \n",
       "29                                       5.0   \n",
       "\n",
       "    Non_economic_damages_McNeil_suffered_14  Was_McNeil_negligent  \\\n",
       "25                                      NaN                   NaN   \n",
       "26                                      NaN                   NaN   \n",
       "27                                 500000.0                   2.0   \n",
       "28                                      NaN                   NaN   \n",
       "29                                 350000.0                   1.0   \n",
       "\n",
       "    McNeil_negligence_substantial_factor_for_injuries  \\\n",
       "25                                                NaN   \n",
       "26                                                NaN   \n",
       "27                                                2.0   \n",
       "28                                                NaN   \n",
       "29                                                1.0   \n",
       "\n",
       "    Percentage_of_responsibility_X5  Percentage_of_responsibility_McNeil  \\\n",
       "25                             1.00                                 1.00   \n",
       "26                             1.00                                 1.00   \n",
       "27                             1.00                                 1.00   \n",
       "28                             1.00                                 1.00   \n",
       "29                             0.75                                 0.25   \n",
       "\n",
       "   Was_snowboard_sold_McNeil_defective_58  \\\n",
       "25                                      6   \n",
       "26                                          \n",
       "27                                          \n",
       "28                                          \n",
       "29                                          \n",
       "\n",
       "    Is_substantial_factor_McNeil_injuries_58  \\\n",
       "25                                       NaN   \n",
       "26                                       NaN   \n",
       "27                                       NaN   \n",
       "28                                       NaN   \n",
       "29                                       NaN   \n",
       "\n",
       "    Economic_damages_McNeil_suffer_58  \\\n",
       "25                                NaN   \n",
       "26                                NaN   \n",
       "27                                NaN   \n",
       "28                                NaN   \n",
       "29                                NaN   \n",
       "\n",
       "    Non_economic_damages_McNeil_suffered_58  Q40 Q41  Path Education Income  \\\n",
       "25                                      NaN  3.0   1     5         5      2   \n",
       "26                                      NaN  2.0         1         4      3   \n",
       "27                                      NaN  1.0   1     1         6      5   \n",
       "28                                      NaN  3.0   1     1         3      3   \n",
       "29                                      NaN  1.0   1     2         6      4   \n",
       "\n",
       "    Total_perc  \n",
       "25        -2.0  \n",
       "26        -2.0  \n",
       "27        -2.0  \n",
       "28        -2.0  \n",
       "29       100.0  "
      ]
     },
     "execution_count": 20,
     "metadata": {},
     "output_type": "execute_result"
    }
   ],
   "source": [
    "newdf.head()"
   ]
  },
  {
   "cell_type": "markdown",
   "metadata": {},
   "source": [
    "## Replacing the Null Values with empty string(Easy to convert to other datatypes Later)"
   ]
  },
  {
   "cell_type": "code",
   "execution_count": 21,
   "metadata": {},
   "outputs": [
    {
     "name": "stdout",
     "output_type": "stream",
     "text": [
      "StartDate                                            False\n",
      "EndDate                                              False\n",
      "Duration                                             False\n",
      "Was_snowboard_sold_McNeil_defective_14               False\n",
      "Is_substantial_factor_McNeil_injuries_14              True\n",
      "Non_economic_damages_McNeil_suffered_14               True\n",
      "Was_McNeil_negligent                                  True\n",
      "McNeil_negligence_substantial_factor_for_injuries     True\n",
      "Percentage_of_responsibility_X5                      False\n",
      "Percentage_of_responsibility_McNeil                  False\n",
      "Was_snowboard_sold_McNeil_defective_58               False\n",
      "Is_substantial_factor_McNeil_injuries_58              True\n",
      "Economic_damages_McNeil_suffer_58                     True\n",
      "Non_economic_damages_McNeil_suffered_58               True\n",
      "Q40                                                   True\n",
      "Q41                                                  False\n",
      "Path                                                 False\n",
      "Education                                            False\n",
      "Income                                               False\n",
      "Total_perc                                           False\n",
      "dtype: bool\n"
     ]
    }
   ],
   "source": [
    "print(pd.isnull(newdf).any())\n",
    "newdf = newdf[np.isfinite(newdf['Path'])]\n",
    "newdf['Is_substantial_factor_McNeil_injuries_14'].fillna(\"\",inplace=True)\n",
    "newdf['Non_economic_damages_McNeil_suffered_14'].fillna(\"\",inplace=True)\n",
    "newdf['Was_McNeil_negligent'].fillna(\"\",inplace=True)\n",
    "newdf['McNeil_negligence_substantial_factor_for_injuries'].fillna(\"\",inplace=True)\n",
    "newdf['Percentage_of_responsibility_X5'].fillna(\"\",inplace=True)\n",
    "newdf['Percentage_of_responsibility_McNeil'].fillna(\"\",inplace=True)\n",
    "newdf['Was_snowboard_sold_McNeil_defective_58'].fillna(\"\",inplace=True)\n",
    "newdf['Is_substantial_factor_McNeil_injuries_58'].fillna(\"\",inplace=True)\n",
    "newdf['Economic_damages_McNeil_suffer_58'].fillna(\"\",inplace=True)\n",
    "newdf['Non_economic_damages_McNeil_suffered_58'].fillna(\"\",inplace=True)\n",
    "newdf['Q40'].fillna(\"\",inplace=True)\n",
    "newdf['Q41'].fillna(\"\",inplace=True)\n",
    "# Printing the first 5 lines.\n",
    "#print(newdf.head(5))\n"
   ]
  },
  {
   "cell_type": "markdown",
   "metadata": {},
   "source": [
    "## Graph showing the responses of jurors for each path(1-8)\n",
    "\n",
    "There are two separate columns in our dataset having the juror response. \n",
    "- Was_snowboard_sold_McNeil_defective_14 : keeping response from path 1 to 4\n",
    "- Was_snowboard_sold_McNeil_defective_58 : keeping response from path 5 to 8\n",
    "\n",
    "For plotting a single graph for all the path, we merge these two columns into a new column called **\"Liability\"**."
   ]
  },
  {
   "cell_type": "code",
   "execution_count": 22,
   "metadata": {},
   "outputs": [],
   "source": [
    "newdf['Liability'] =(newdf['Was_snowboard_sold_McNeil_defective_14'] \n",
    "                   + newdf['Was_snowboard_sold_McNeil_defective_58'])"
   ]
  },
  {
   "cell_type": "markdown",
   "metadata": {},
   "source": [
    "Here we are checking if the defective snowboard was a substantial factor for causing the injuries.\n",
    "Here we created a new column \"Is_substantial\" which will store the combined result from 1-4 and 5-8 paths "
   ]
  },
  {
   "cell_type": "code",
   "execution_count": 23,
   "metadata": {},
   "outputs": [],
   "source": [
    "newdf['Is_substantial_factor_McNeil_injuries_14']  = newdf['Is_substantial_factor_McNeil_injuries_14'].astype(str) \n",
    "newdf['Is_substantial_factor_McNeil_injuries_58']  = newdf['Is_substantial_factor_McNeil_injuries_58'].astype(str)"
   ]
  },
  {
   "cell_type": "code",
   "execution_count": 24,
   "metadata": {},
   "outputs": [],
   "source": [
    "newdf['is_substantial'] =(newdf['Is_substantial_factor_McNeil_injuries_14'] \n",
    "                   + newdf['Is_substantial_factor_McNeil_injuries_58'])"
   ]
  },
  {
   "cell_type": "code",
   "execution_count": 25,
   "metadata": {},
   "outputs": [],
   "source": [
    "newdf['Liability_updated'] = np.where(((newdf['is_substantial'] =='5.0') & (newdf['Liability'] =='4')), 'yes', 'no')"
   ]
  },
  {
   "cell_type": "code",
   "execution_count": 26,
   "metadata": {},
   "outputs": [
    {
     "data": {
      "text/plain": [
       "25      no\n",
       "26      no\n",
       "27     yes\n",
       "28      no\n",
       "29     yes\n",
       "30      no\n",
       "32      no\n",
       "33      no\n",
       "34      no\n",
       "35      no\n",
       "36      no\n",
       "37      no\n",
       "38      no\n",
       "39      no\n",
       "40      no\n",
       "41      no\n",
       "42      no\n",
       "43      no\n",
       "44      no\n",
       "45     yes\n",
       "46      no\n",
       "47      no\n",
       "48      no\n",
       "49      no\n",
       "50      no\n",
       "51      no\n",
       "53      no\n",
       "54      no\n",
       "55      no\n",
       "56     yes\n",
       "      ... \n",
       "773     no\n",
       "774     no\n",
       "775     no\n",
       "776     no\n",
       "777     no\n",
       "778    yes\n",
       "779     no\n",
       "780    yes\n",
       "781    yes\n",
       "782     no\n",
       "783    yes\n",
       "784    yes\n",
       "785    yes\n",
       "786     no\n",
       "787     no\n",
       "788     no\n",
       "789    yes\n",
       "790     no\n",
       "791     no\n",
       "792     no\n",
       "793    yes\n",
       "794    yes\n",
       "795     no\n",
       "796     no\n",
       "797     no\n",
       "798    yes\n",
       "799    yes\n",
       "801     no\n",
       "802    yes\n",
       "803    yes\n",
       "Name: Liability_updated, Length: 733, dtype: object"
      ]
     },
     "execution_count": 26,
     "metadata": {},
     "output_type": "execute_result"
    }
   ],
   "source": [
    "newdf['Liability_updated'] "
   ]
  },
  {
   "cell_type": "code",
   "execution_count": 27,
   "metadata": {},
   "outputs": [
    {
     "data": {
      "text/plain": [
       "(294, 23)"
      ]
     },
     "execution_count": 27,
     "metadata": {},
     "output_type": "execute_result"
    }
   ],
   "source": [
    "newdf.query(\"Liability == 'Yes'\").shape\n",
    "newdf.query(\"Liability_updated == 'yes'\").shape"
   ]
  },
  {
   "cell_type": "markdown",
   "metadata": {},
   "source": [
    "Liability columns have numeric values. We have replaced it with 4 for <font color = green>'Yes'</font>  and 6 for <font color = red>'No'</font>. Liability with blank is dropped."
   ]
  },
  {
   "cell_type": "code",
   "execution_count": 28,
   "metadata": {},
   "outputs": [
    {
     "data": {
      "text/plain": [
       "array(['No', 'Yes'], dtype=object)"
      ]
     },
     "execution_count": 28,
     "metadata": {},
     "output_type": "execute_result"
    }
   ],
   "source": [
    "newdf['Liability'].replace('', np.nan, inplace=True)\n",
    "newdf.dropna(subset=['Liability'], inplace=True)\n",
    "newdf['Liability'].replace(['4', '6'], ['Yes','No'], inplace = True)\n",
    "newdf['Liability'] = np.where(((newdf['is_substantial'] =='5.0') & (newdf['Liability'] =='Yes')), 'Yes', 'No')\n",
    "newdf.Liability.unique()"
   ]
  },
  {
   "cell_type": "code",
   "execution_count": 29,
   "metadata": {},
   "outputs": [
    {
     "data": {
      "text/plain": [
       "(729,)"
      ]
     },
     "execution_count": 29,
     "metadata": {},
     "output_type": "execute_result"
    }
   ],
   "source": [
    "newdf['Liability_updated'].shape"
   ]
  },
  {
   "cell_type": "markdown",
   "metadata": {},
   "source": [
    "# Total Damage Calculation \n",
    "For the box plot, we need to replace the empty string with 0. But before Filling the NaN values with 0 , lets first check if any juror has put 0 intentionally."
   ]
  },
  {
   "cell_type": "markdown",
   "metadata": {},
   "source": [
    "<font color='red'>We need to change the data type of damages. There are 3 different columns that have the damages \n",
    "information. From previous data type check, we found that there are so many missing values for damages.\n",
    "So we replaced them with 0.\n",
    "</font>\n",
    "\n",
    "For simplicity to plot Path vs damages we combined all damages into one column and named it \n",
    "as \"Total_Damages\"."
   ]
  },
  {
   "cell_type": "code",
   "execution_count": 30,
   "metadata": {},
   "outputs": [],
   "source": [
    "newdf.Economic_damages_McNeil_suffer_58= pd.to_numeric(newdf.Economic_damages_McNeil_suffer_58)\n",
    "newdf.Non_economic_damages_McNeil_suffered_58 = pd.to_numeric(newdf.Non_economic_damages_McNeil_suffered_58)\n",
    "newdf.Non_economic_damages_McNeil_suffered_14 = pd.to_numeric(newdf.Non_economic_damages_McNeil_suffered_14) "
   ]
  },
  {
   "cell_type": "code",
   "execution_count": 31,
   "metadata": {},
   "outputs": [
    {
     "data": {
      "text/html": [
       "<div>\n",
       "<style scoped>\n",
       "    .dataframe tbody tr th:only-of-type {\n",
       "        vertical-align: middle;\n",
       "    }\n",
       "\n",
       "    .dataframe tbody tr th {\n",
       "        vertical-align: top;\n",
       "    }\n",
       "\n",
       "    .dataframe thead th {\n",
       "        text-align: right;\n",
       "    }\n",
       "</style>\n",
       "<table border=\"1\" class=\"dataframe\">\n",
       "  <thead>\n",
       "    <tr style=\"text-align: right;\">\n",
       "      <th></th>\n",
       "      <th>StartDate</th>\n",
       "      <th>EndDate</th>\n",
       "      <th>Duration</th>\n",
       "      <th>Was_snowboard_sold_McNeil_defective_14</th>\n",
       "      <th>Is_substantial_factor_McNeil_injuries_14</th>\n",
       "      <th>Non_economic_damages_McNeil_suffered_14</th>\n",
       "      <th>Was_McNeil_negligent</th>\n",
       "      <th>McNeil_negligence_substantial_factor_for_injuries</th>\n",
       "      <th>Percentage_of_responsibility_X5</th>\n",
       "      <th>Percentage_of_responsibility_McNeil</th>\n",
       "      <th>...</th>\n",
       "      <th>Non_economic_damages_McNeil_suffered_58</th>\n",
       "      <th>Q40</th>\n",
       "      <th>Q41</th>\n",
       "      <th>Path</th>\n",
       "      <th>Education</th>\n",
       "      <th>Income</th>\n",
       "      <th>Total_perc</th>\n",
       "      <th>Liability</th>\n",
       "      <th>is_substantial</th>\n",
       "      <th>Liability_updated</th>\n",
       "    </tr>\n",
       "  </thead>\n",
       "  <tbody>\n",
       "    <tr>\n",
       "      <th>246</th>\n",
       "      <td>2018-04-06 13:19:00</td>\n",
       "      <td>2018-04-06 13:42:00</td>\n",
       "      <td>1404</td>\n",
       "      <td></td>\n",
       "      <td></td>\n",
       "      <td>NaN</td>\n",
       "      <td>2</td>\n",
       "      <td>2</td>\n",
       "      <td>1.0</td>\n",
       "      <td>1.0</td>\n",
       "      <td>...</td>\n",
       "      <td>0.0</td>\n",
       "      <td>1</td>\n",
       "      <td>3</td>\n",
       "      <td>8</td>\n",
       "      <td>5</td>\n",
       "      <td>3</td>\n",
       "      <td>-2.0</td>\n",
       "      <td>Yes</td>\n",
       "      <td>5.0</td>\n",
       "      <td>yes</td>\n",
       "    </tr>\n",
       "  </tbody>\n",
       "</table>\n",
       "<p>1 rows × 23 columns</p>\n",
       "</div>"
      ],
      "text/plain": [
       "              StartDate             EndDate  Duration  \\\n",
       "246 2018-04-06 13:19:00 2018-04-06 13:42:00      1404   \n",
       "\n",
       "    Was_snowboard_sold_McNeil_defective_14  \\\n",
       "246                                          \n",
       "\n",
       "    Is_substantial_factor_McNeil_injuries_14  \\\n",
       "246                                            \n",
       "\n",
       "     Non_economic_damages_McNeil_suffered_14 Was_McNeil_negligent  \\\n",
       "246                                      NaN                    2   \n",
       "\n",
       "    McNeil_negligence_substantial_factor_for_injuries  \\\n",
       "246                                                 2   \n",
       "\n",
       "     Percentage_of_responsibility_X5  Percentage_of_responsibility_McNeil  \\\n",
       "246                              1.0                                  1.0   \n",
       "\n",
       "           ...         Non_economic_damages_McNeil_suffered_58 Q40  Q41  Path  \\\n",
       "246        ...                                             0.0   1    3     8   \n",
       "\n",
       "    Education Income  Total_perc Liability is_substantial  Liability_updated  \n",
       "246         5      3        -2.0       Yes            5.0                yes  \n",
       "\n",
       "[1 rows x 23 columns]"
      ]
     },
     "execution_count": 31,
     "metadata": {},
     "output_type": "execute_result"
    }
   ],
   "source": [
    "newdf.query('Non_economic_damages_McNeil_suffered_14 == 0 | Non_economic_damages_McNeil_suffered_58 == 0 |Economic_damages_McNeil_suffer_58 ==0')"
   ]
  },
  {
   "cell_type": "markdown",
   "metadata": {},
   "source": [
    "<font color='red'> We found that one row has 0 value for Non_economic damages McNeil suffered. \n",
    "</font>"
   ]
  },
  {
   "cell_type": "code",
   "execution_count": 32,
   "metadata": {},
   "outputs": [],
   "source": [
    "newdf.Economic_damages_McNeil_suffer_58.fillna(0, inplace = True)\n",
    "newdf.Non_economic_damages_McNeil_suffered_58.fillna(0, inplace = True)\n",
    "newdf.Non_economic_damages_McNeil_suffered_14.fillna(0, inplace = True)\n",
    "\n",
    "newdf['Total_Damages'] =  (newdf['Economic_damages_McNeil_suffer_58']\n",
    "                 +newdf['Non_economic_damages_McNeil_suffered_58'] \n",
    "                 + newdf['Non_economic_damages_McNeil_suffered_14'])"
   ]
  },
  {
   "cell_type": "markdown",
   "metadata": {},
   "source": [
    "Lets see how many rows have Total Damage as 0. "
   ]
  },
  {
   "cell_type": "code",
   "execution_count": 33,
   "metadata": {},
   "outputs": [
    {
     "data": {
      "text/plain": [
       "435"
      ]
     },
     "execution_count": 33,
     "metadata": {},
     "output_type": "execute_result"
    }
   ],
   "source": [
    "(newdf.Total_Damages==0).sum()"
   ]
  },
  {
   "cell_type": "markdown",
   "metadata": {},
   "source": [
    "#### <font color = red>As per requirement Damages above 500000 should be converted to 500000.</font>"
   ]
  },
  {
   "cell_type": "code",
   "execution_count": 34,
   "metadata": {},
   "outputs": [],
   "source": [
    "newdf['Total_Damages'].replace([1000000], [500000], inplace = True)"
   ]
  },
  {
   "cell_type": "code",
   "execution_count": 35,
   "metadata": {},
   "outputs": [
    {
     "data": {
      "text/html": [
       "<div>\n",
       "<style scoped>\n",
       "    .dataframe tbody tr th:only-of-type {\n",
       "        vertical-align: middle;\n",
       "    }\n",
       "\n",
       "    .dataframe tbody tr th {\n",
       "        vertical-align: top;\n",
       "    }\n",
       "\n",
       "    .dataframe thead th {\n",
       "        text-align: right;\n",
       "    }\n",
       "</style>\n",
       "<table border=\"1\" class=\"dataframe\">\n",
       "  <thead>\n",
       "    <tr style=\"text-align: right;\">\n",
       "      <th></th>\n",
       "      <th>StartDate</th>\n",
       "      <th>EndDate</th>\n",
       "      <th>Duration</th>\n",
       "      <th>Was_snowboard_sold_McNeil_defective_14</th>\n",
       "      <th>Is_substantial_factor_McNeil_injuries_14</th>\n",
       "      <th>Non_economic_damages_McNeil_suffered_14</th>\n",
       "      <th>Was_McNeil_negligent</th>\n",
       "      <th>McNeil_negligence_substantial_factor_for_injuries</th>\n",
       "      <th>Percentage_of_responsibility_X5</th>\n",
       "      <th>Percentage_of_responsibility_McNeil</th>\n",
       "      <th>...</th>\n",
       "      <th>Q40</th>\n",
       "      <th>Q41</th>\n",
       "      <th>Path</th>\n",
       "      <th>Education</th>\n",
       "      <th>Income</th>\n",
       "      <th>Total_perc</th>\n",
       "      <th>Liability</th>\n",
       "      <th>is_substantial</th>\n",
       "      <th>Liability_updated</th>\n",
       "      <th>Total_Damages</th>\n",
       "    </tr>\n",
       "  </thead>\n",
       "  <tbody>\n",
       "  </tbody>\n",
       "</table>\n",
       "<p>0 rows × 24 columns</p>\n",
       "</div>"
      ],
      "text/plain": [
       "Empty DataFrame\n",
       "Columns: [StartDate, EndDate, Duration, Was_snowboard_sold_McNeil_defective_14, Is_substantial_factor_McNeil_injuries_14, Non_economic_damages_McNeil_suffered_14, Was_McNeil_negligent, McNeil_negligence_substantial_factor_for_injuries, Percentage_of_responsibility_X5, Percentage_of_responsibility_McNeil, Was_snowboard_sold_McNeil_defective_58, Is_substantial_factor_McNeil_injuries_58, Economic_damages_McNeil_suffer_58, Non_economic_damages_McNeil_suffered_58, Q40, Q41, Path, Education, Income, Total_perc, Liability, is_substantial, Liability_updated, Total_Damages]\n",
       "Index: []\n",
       "\n",
       "[0 rows x 24 columns]"
      ]
     },
     "execution_count": 35,
     "metadata": {},
     "output_type": "execute_result"
    }
   ],
   "source": [
    "newdf.query(\"Total_Damages > 500000\")"
   ]
  },
  {
   "cell_type": "markdown",
   "metadata": {},
   "source": [
    "#### As per user's requirement we need to discount the percentage X5 responsible from the Total Damages. "
   ]
  },
  {
   "cell_type": "code",
   "execution_count": 36,
   "metadata": {},
   "outputs": [],
   "source": [
    "newdf[\"Discounted_Damages\"] = (newdf[\"Total_Damages\"] \n",
    "                         * newdf[\"Percentage_of_responsibility_X5\"])"
   ]
  },
  {
   "cell_type": "code",
   "execution_count": 37,
   "metadata": {},
   "outputs": [
    {
     "data": {
      "text/plain": [
       "array(['No', 'Yes'], dtype=object)"
      ]
     },
     "execution_count": 37,
     "metadata": {},
     "output_type": "execute_result"
    }
   ],
   "source": [
    "newdf.Liability.unique()"
   ]
  },
  {
   "cell_type": "code",
   "execution_count": 38,
   "metadata": {},
   "outputs": [
    {
     "data": {
      "text/plain": [
       "(729, 25)"
      ]
     },
     "execution_count": 38,
     "metadata": {},
     "output_type": "execute_result"
    }
   ],
   "source": [
    "newdf.shape"
   ]
  },
  {
   "cell_type": "code",
   "execution_count": 39,
   "metadata": {},
   "outputs": [
    {
     "data": {
      "text/plain": [
       "array(['No', 'Yes'], dtype=object)"
      ]
     },
     "execution_count": 39,
     "metadata": {},
     "output_type": "execute_result"
    }
   ],
   "source": [
    "newdf.Liability.unique()"
   ]
  },
  {
   "cell_type": "markdown",
   "metadata": {},
   "source": [
    "As we need to check if juror education and Income has any impact while awarding liability, we included there two fields in the data frame. "
   ]
  },
  {
   "cell_type": "code",
   "execution_count": 40,
   "metadata": {},
   "outputs": [
    {
     "data": {
      "text/plain": [
       "array([2, 3, 5, 4, 1, 6])"
      ]
     },
     "execution_count": 40,
     "metadata": {},
     "output_type": "execute_result"
    }
   ],
   "source": [
    "newdf.Education=newdf.Education.astype(int)\n",
    "newdf.Education.unique()\n",
    "newdf.Income=newdf.Income.astype(int)\n",
    "newdf.Income.unique()"
   ]
  },
  {
   "cell_type": "markdown",
   "metadata": {},
   "source": [
    "Saving the file to CSV so that we can use in the other notebook."
   ]
  },
  {
   "cell_type": "code",
   "execution_count": 41,
   "metadata": {},
   "outputs": [],
   "source": [
    "newdf.to_csv(\"cleaning.csv\",sep=',')"
   ]
  }
 ],
 "metadata": {
  "kernelspec": {
   "display_name": "Python 3",
   "language": "python",
   "name": "python3"
  },
  "language_info": {
   "codemirror_mode": {
    "name": "ipython",
    "version": 3
   },
   "file_extension": ".py",
   "mimetype": "text/x-python",
   "name": "python",
   "nbconvert_exporter": "python",
   "pygments_lexer": "ipython3",
   "version": "3.6.4"
  }
 },
 "nbformat": 4,
 "nbformat_minor": 2
}
