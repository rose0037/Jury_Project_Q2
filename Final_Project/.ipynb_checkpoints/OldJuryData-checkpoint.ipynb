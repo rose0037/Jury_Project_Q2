{
 "cells": [
  {
   "cell_type": "markdown",
   "metadata": {},
   "source": [
    "## Old Dataset(Staircase) "
   ]
  },
  {
   "cell_type": "markdown",
   "metadata": {},
   "source": [
    "## Importing Jury data csv file to data and renaming the columns"
   ]
  },
  {
   "cell_type": "code",
   "execution_count": 1,
   "metadata": {},
   "outputs": [
    {
     "name": "stdout",
     "output_type": "stream",
     "text": [
      "Index(['Mesa_Negligent', 'damages', 'Liability', 'gender', 'damages_word',\n",
      "       'Scenario', 'Dunn_negligent', 'perc_calc', 'Start Date', 'End Date',\n",
      "       'mm_perc', 'Income'],\n",
      "      dtype='object')\n"
     ]
    }
   ],
   "source": [
    "\n",
    "# coding: utf-8\n",
    "import pandas as pd\n",
    "import numpy as np\n",
    "\n",
    "data = pd.read_csv('jury_data.csv', encoding= 'ISO-8859-1', skiprows=[0,2])\n",
    "data.rename(columns={\"Was defendant Mesa Management negligent?\": \"Mesa_Negligent\", \n",
    "                         \"Was Mesa Management's negligence a substantial factor in causing harm to  Mackenzie Dunn?\":\"Liability\",\n",
    "                         \"What are the total damages that you find that MacKenzie Dunn sufferered?\":\"damages\" ,\n",
    "                         \"What is your sex?\": \"gender\",\n",
    "                         \"Please write your answer to the preceding damages question in words (quality check).\":\"damages_word\",\n",
    "                         \"What percentage of responsibility for Mackenzie Dunn's injuries was each party responsible for? (Answers should add up to 100%) - Mesa Management Co\":\"Mesa_reponsible_percentage\",\n",
    "                         \"Path\":\"Scenario\",\n",
    "                         \"Was MacKenzie Dunn negligent?\":\"Dunn_negligent\",\n",
    "                         \"Unnamed: 63\":\"perc_calc\",\n",
    "                     \"Which of the following best describes your total household income?\":\"Income\"\n",
    "                         },inplace=True)\n",
    "#data['mm_perc'] = np.where(data['Mesa_reponsible_percentage']>=1, data['perc_calc'],data['Mesa_reponsible_percentage'])\n",
    "data['mm_perc']=data['Mesa_reponsible_percentage']\n",
    "req_data = pd.DataFrame(data[[\"Mesa_Negligent\",\"damages\",\"Liability\",\n",
    "                 \"gender\",\n",
    "                 \"damages_word\",\n",
    "                 \"Scenario\",\"Dunn_negligent\",\"perc_calc\",\"Start Date\",\"End Date\",\"mm_perc\",\"Income\"]])\n",
    "\n",
    "\n",
    "req_data['Liability'] = req_data['Liability'].map({'Yes': 1, 'No': 0})\n",
    "\n",
    "\n",
    "print(req_data.columns)\n",
    "\n",
    "\n",
    "\n"
   ]
  },
  {
   "cell_type": "code",
   "execution_count": 2,
   "metadata": {},
   "outputs": [
    {
     "data": {
      "text/plain": [
       "array([        nan,  0.65      , 65.        ,  0.6       ,  0.1       ,\n",
       "        0.5       ,  0.7       ,  0.85      ,  0.45      ,  0.        ,\n",
       "        0.75      ,  0.51      ,  0.9       ,  0.3       ,  0.2       ,\n",
       "        0.4       ,  0.49526316])"
      ]
     },
     "execution_count": 2,
     "metadata": {},
     "output_type": "execute_result"
    }
   ],
   "source": [
    "data['mm_perc'].unique()"
   ]
  },
  {
   "cell_type": "markdown",
   "metadata": {},
   "source": [
    "## Replacing Null values and changing the data types of required columns"
   ]
  },
  {
   "cell_type": "code",
   "execution_count": 3,
   "metadata": {},
   "outputs": [
    {
     "name": "stdout",
     "output_type": "stream",
     "text": [
      "Mesa_Negligent     True\n",
      "damages            True\n",
      "Liability          True\n",
      "gender             True\n",
      "damages_word       True\n",
      "Scenario           True\n",
      "Dunn_negligent     True\n",
      "perc_calc          True\n",
      "Start Date        False\n",
      "End Date          False\n",
      "mm_perc            True\n",
      "Income             True\n",
      "dtype: bool\n",
      "True\n",
      "False\n",
      "Mesa_Negligent    False\n",
      "damages           False\n",
      "Liability         False\n",
      "gender            False\n",
      "damages_word      False\n",
      "Scenario          False\n",
      "Dunn_negligent     True\n",
      "perc_calc         False\n",
      "Start Date        False\n",
      "End Date          False\n",
      "mm_perc           False\n",
      "Income            False\n",
      "dtype: bool\n"
     ]
    },
    {
     "data": {
      "text/plain": [
       "55"
      ]
     },
     "execution_count": 3,
     "metadata": {},
     "output_type": "execute_result"
    }
   ],
   "source": [
    "print(pd.isnull(req_data).any())\n",
    "print(pd.isnull(req_data['Scenario']).any())\n",
    "req_data = req_data[np.isfinite(data['Scenario'])]\n",
    "print(pd.isnull(req_data['Scenario']).any())\n",
    "req_data['damages'].fillna(0,inplace=True)\n",
    "req_data['damages_word'].fillna(0,inplace=True)\n",
    "req_data['mm_perc'].fillna(1,inplace=True)\n",
    "req_data['perc_calc'].fillna(0,inplace=True)\n",
    "#Dropping the last two rows which has null values\n",
    "#data[pd.isnull(data['Path'])]\n",
    "#data['Path']=data.Path.dropna(inplace= True)\n",
    "#data[pd.isnull(data['Path'])]\n",
    "print(pd.isnull(req_data).any())\n",
    "\n",
    "\n",
    "\n",
    "\n",
    "#Changing data types of columns\n",
    "req_data['End Date'] = pd.to_datetime(data['End Date'])\n",
    "req_data['Start Date'] = pd.to_datetime(data['Start Date'])\n",
    "req_data['Scenario']= req_data.Scenario.astype(int)\n",
    "req_data['Liability']= req_data.Liability.astype(int)\n",
    "req_data.dtypes\n",
    "\n",
    "# Getting the id of the column\n",
    "data.columns.get_loc(\"Liability\")"
   ]
  },
  {
   "cell_type": "markdown",
   "metadata": {},
   "source": [
    "## Cleaning Damages and perc_calc column"
   ]
  },
  {
   "cell_type": "code",
   "execution_count": 4,
   "metadata": {},
   "outputs": [
    {
     "name": "stdout",
     "output_type": "stream",
     "text": [
      "Mesa_Negligent    False\n",
      "damages           False\n",
      "Liability         False\n",
      "gender            False\n",
      "damages_word      False\n",
      "Scenario          False\n",
      "Dunn_negligent     True\n",
      "perc_calc         False\n",
      "Start Date        False\n",
      "End Date          False\n",
      "mm_perc           False\n",
      "Income            False\n",
      "dtype: bool\n",
      "Mesa_Negligent    False\n",
      "damages           False\n",
      "Liability         False\n",
      "gender            False\n",
      "damages_word      False\n",
      "Scenario          False\n",
      "Dunn_negligent     True\n",
      "perc_calc         False\n",
      "Start Date        False\n",
      "End Date          False\n",
      "mm_perc           False\n",
      "Income            False\n",
      "dtype: bool\n",
      "    Mesa_Negligent  damages  Liability  gender damages_word  Scenario  \\\n",
      "0               No      0.0          0  Female            0         1   \n",
      "1               No      0.0          0    Male            0         1   \n",
      "2               No      0.0          0    Male            0         1   \n",
      "3               No      0.0          0    Male            0         1   \n",
      "4               No      0.0          0    Male            0         1   \n",
      "5               No      0.0          0    Male            0         1   \n",
      "6               No      0.0          0    Male            0         1   \n",
      "7               No      0.0          0  Female            0         1   \n",
      "8               No      0.0          0    Male            0         1   \n",
      "9               No      0.0          0  Female            0         1   \n",
      "10              No      0.0          0    Male            0         1   \n",
      "11              No      0.0          0  Female            0         1   \n",
      "12              No      0.0          0    Male            0         1   \n",
      "13              No      0.0          0  Female            0         1   \n",
      "14              No      0.0          0    Male            0         1   \n",
      "15              No      0.0          0    Male            0         1   \n",
      "16              No      0.0          0    Male            0         1   \n",
      "17              No      0.0          0    Male            0         1   \n",
      "18              No      0.0          0    Male            0         1   \n",
      "19              No      0.0          0    Male            0         1   \n",
      "20              No      0.0          0    Male            0         1   \n",
      "21              No      0.0          0  Female            0         1   \n",
      "22              No      0.0          0  Female            0         1   \n",
      "23              No      0.0          0  Female            0         1   \n",
      "24              No      0.0          0    Male            0         1   \n",
      "25              No      0.0          0    Male            0         1   \n",
      "26              No      0.0          0    Male            0         1   \n",
      "27              No      0.0          0    Male            0         1   \n",
      "28              No      0.0          0  Female            0         1   \n",
      "29              No      0.0          0    Male            0         1   \n",
      "..             ...      ...        ...     ...          ...       ...   \n",
      "397            Yes      0.0          0  Female            0         2   \n",
      "398            Yes      0.0          0    Male            0         2   \n",
      "399            Yes      0.0          0  Female            0         2   \n",
      "400            Yes      0.0          0  Female            0         2   \n",
      "401            Yes      0.0          0  Female            0         2   \n",
      "402            Yes      0.0          0  Female            0         2   \n",
      "403            Yes      0.0          0  Female            0         2   \n",
      "404            Yes      0.0          0  Female            0         2   \n",
      "405            Yes      0.0          0  Female            0         2   \n",
      "406            Yes      0.0          0  Female            0         2   \n",
      "407            Yes      0.0          0    Male            0         3   \n",
      "408            Yes      0.0          0  Female            0         3   \n",
      "409            Yes      0.0          0    Male            0         3   \n",
      "410            Yes      0.0          0  Female            0         4   \n",
      "411            Yes      0.0          0    Male            0         4   \n",
      "412            Yes      0.0          0    Male            0         4   \n",
      "413            Yes      0.0          0    Male            0         4   \n",
      "414            Yes      0.0          0    Male            0         4   \n",
      "415            Yes      0.0          0    Male            0         4   \n",
      "416            Yes      0.0          0    Male            0         4   \n",
      "417            Yes      0.0          0  Female            0         5   \n",
      "418            Yes      0.0          0    Male            0         5   \n",
      "419            Yes      0.0          0  Female            0         5   \n",
      "420            Yes      0.0          0  Female            0         5   \n",
      "421            Yes      0.0          0    Male            0         5   \n",
      "422            Yes      0.0          0  Female            0         5   \n",
      "423            Yes      0.0          0  Female            0         5   \n",
      "424            Yes      0.0          0  Female            0         5   \n",
      "425            Yes      0.0          0  Female            0         5   \n",
      "426            Yes      0.0          0    Male            0         5   \n",
      "\n",
      "    Dunn_negligent  perc_calc          Start Date            End Date  \\\n",
      "0              NaN        0.0 2017-09-29 13:58:00 2017-09-29 14:16:00   \n",
      "1              NaN        0.0 2017-09-29 14:00:00 2017-09-29 14:18:00   \n",
      "2              NaN        0.0 2017-09-29 13:57:00 2017-09-29 14:19:00   \n",
      "3              NaN        0.0 2017-09-29 14:01:00 2017-09-29 14:21:00   \n",
      "4              NaN        0.0 2017-09-29 14:04:00 2017-09-29 14:23:00   \n",
      "5              NaN        0.0 2017-09-29 14:06:00 2017-09-29 14:25:00   \n",
      "6              NaN        0.0 2017-09-29 14:06:00 2017-09-29 14:26:00   \n",
      "7              NaN        0.0 2017-09-29 14:16:00 2017-09-29 14:35:00   \n",
      "8              NaN        0.0 2017-09-29 14:27:00 2017-09-29 14:49:00   \n",
      "9              NaN        0.0 2017-09-29 14:44:00 2017-09-29 15:02:00   \n",
      "10             NaN        0.0 2017-09-29 15:09:00 2017-09-29 15:27:00   \n",
      "11             NaN        0.0 2017-09-29 15:55:00 2017-09-29 16:16:00   \n",
      "12             NaN        0.0 2017-09-29 18:28:00 2017-09-29 18:51:00   \n",
      "13             NaN        0.0 2017-09-29 19:54:00 2017-09-29 20:14:00   \n",
      "14             NaN        0.0 2017-09-29 20:56:00 2017-09-29 21:16:00   \n",
      "15             NaN        0.0 2017-09-30 11:47:00 2017-09-30 12:04:00   \n",
      "16             NaN        0.0 2017-09-30 12:56:00 2017-09-30 13:13:00   \n",
      "17             NaN        0.0 2017-09-30 14:15:00 2017-09-30 14:26:00   \n",
      "18             NaN        0.0 2017-09-30 16:19:00 2017-09-30 16:38:00   \n",
      "19             NaN        0.0 2017-10-01 21:22:00 2017-10-01 21:40:00   \n",
      "20             NaN        0.0 2017-10-01 21:47:00 2017-10-01 22:07:00   \n",
      "21             NaN        0.0 2017-10-02 02:43:00 2017-10-02 03:02:00   \n",
      "22             NaN        0.0 2017-10-02 06:47:00 2017-10-02 07:11:00   \n",
      "23             NaN        0.0 2017-10-02 07:12:00 2017-10-02 07:31:00   \n",
      "24             NaN        0.0 2017-10-02 07:21:00 2017-10-02 07:38:00   \n",
      "25             NaN        0.0 2017-10-02 07:57:00 2017-10-02 08:15:00   \n",
      "26             NaN        0.0 2017-10-02 08:31:00 2017-10-02 08:50:00   \n",
      "27             NaN        0.0 2017-10-02 09:01:00 2017-10-02 09:19:00   \n",
      "28             NaN        0.0 2017-10-02 09:20:00 2017-10-02 09:43:00   \n",
      "29             NaN        0.0 2017-10-02 10:41:00 2017-10-02 10:59:00   \n",
      "..             ...        ...                 ...                 ...   \n",
      "397            NaN        0.0 2017-09-29 14:00:00 2017-09-29 14:19:00   \n",
      "398            NaN        0.0 2017-09-29 18:28:00 2017-09-29 18:48:00   \n",
      "399            NaN        0.0 2017-09-30 11:49:00 2017-09-30 12:10:00   \n",
      "400            NaN        0.0 2017-09-30 14:52:00 2017-09-30 15:12:00   \n",
      "401            NaN        0.0 2017-10-01 10:25:00 2017-10-01 10:42:00   \n",
      "402            NaN        0.0 2017-10-03 13:07:00 2017-10-03 13:26:00   \n",
      "403            NaN        0.0 2017-10-05 18:01:00 2017-10-05 18:20:00   \n",
      "404            NaN        0.0 2017-10-05 18:16:00 2017-10-05 18:35:00   \n",
      "405            NaN        0.0 2017-10-05 18:17:00 2017-10-05 18:40:00   \n",
      "406            NaN        0.0 2017-10-05 18:20:00 2017-10-05 18:49:00   \n",
      "407            NaN        0.0 2017-09-30 20:10:00 2017-09-30 20:30:00   \n",
      "408            NaN        0.0 2017-10-05 17:45:00 2017-10-05 18:12:00   \n",
      "409            NaN        0.0 2017-10-05 18:03:00 2017-10-05 18:25:00   \n",
      "410            NaN        0.0 2017-09-29 14:14:00 2017-09-29 14:44:00   \n",
      "411            NaN        0.0 2017-09-29 18:35:00 2017-09-29 18:58:00   \n",
      "412            NaN        0.0 2017-10-01 04:32:00 2017-10-01 04:54:00   \n",
      "413            NaN        0.0 2017-10-02 09:26:00 2017-10-02 09:48:00   \n",
      "414            NaN        0.0 2017-10-05 17:32:00 2017-10-05 17:52:00   \n",
      "415            NaN        0.0 2017-10-05 17:33:00 2017-10-05 17:54:00   \n",
      "416            NaN        0.0 2017-10-05 17:39:00 2017-10-05 18:02:00   \n",
      "417            NaN        0.0 2017-09-30 17:52:00 2017-09-30 18:11:00   \n",
      "418            NaN        0.0 2017-10-03 07:48:00 2017-10-03 08:08:00   \n",
      "419            NaN        0.0 2017-10-04 10:56:00 2017-10-04 11:17:00   \n",
      "420            NaN        0.0 2017-10-05 17:25:00 2017-10-05 17:47:00   \n",
      "421            NaN        0.0 2017-10-05 17:29:00 2017-10-05 17:50:00   \n",
      "422            NaN        0.0 2017-10-05 17:25:00 2017-10-05 17:52:00   \n",
      "423            NaN        0.0 2017-10-05 17:32:00 2017-10-05 17:55:00   \n",
      "424            NaN        0.0 2017-10-05 17:32:00 2017-10-05 17:57:00   \n",
      "425            NaN        0.0 2017-10-05 17:58:00 2017-10-05 18:19:00   \n",
      "426            NaN        0.0 2017-10-05 18:10:00 2017-10-05 18:30:00   \n",
      "\n",
      "     mm_perc                Income  \n",
      "0        1.0    $10,000 to $29,999  \n",
      "1        1.0    $50,000 to $99,999  \n",
      "2        1.0    $30,000 to $49,999  \n",
      "3        1.0    $10,000 to $29,999  \n",
      "4        1.0    $30,000 to $49,999  \n",
      "5        1.0  $100,000 to $199,999  \n",
      "6        1.0    $10,000 to $29,999  \n",
      "7        1.0    $50,000 to $99,999  \n",
      "8        1.0  $100,000 to $199,999  \n",
      "9        1.0  $100,000 to $199,999  \n",
      "10       1.0     Less than $10,000  \n",
      "11       1.0    $50,000 to $99,999  \n",
      "12       1.0    $50,000 to $99,999  \n",
      "13       1.0    $50,000 to $99,999  \n",
      "14       1.0    $10,000 to $29,999  \n",
      "15       1.0  $100,000 to $199,999  \n",
      "16       1.0    $50,000 to $99,999  \n",
      "17       1.0    $50,000 to $99,999  \n",
      "18       1.0    $10,000 to $29,999  \n",
      "19       1.0    $50,000 to $99,999  \n",
      "20       1.0    $10,000 to $29,999  \n",
      "21       1.0    $50,000 to $99,999  \n",
      "22       1.0    $30,000 to $49,999  \n",
      "23       1.0    $50,000 to $99,999  \n",
      "24       1.0    $50,000 to $99,999  \n",
      "25       1.0    $30,000 to $49,999  \n",
      "26       1.0    $30,000 to $49,999  \n",
      "27       1.0     Less than $10,000  \n",
      "28       1.0  $100,000 to $199,999  \n",
      "29       1.0    $50,000 to $99,999  \n",
      "..       ...                   ...  \n",
      "397      1.0     Less than $10,000  \n",
      "398      1.0    $10,000 to $29,999  \n",
      "399      1.0    $30,000 to $49,999  \n",
      "400      1.0    $30,000 to $49,999  \n",
      "401      1.0    $10,000 to $29,999  \n",
      "402      1.0  $100,000 to $199,999  \n",
      "403      1.0    $50,000 to $99,999  \n",
      "404      1.0    $50,000 to $99,999  \n",
      "405      1.0  $100,000 to $199,999  \n",
      "406      1.0    $50,000 to $99,999  \n",
      "407      1.0  $100,000 to $199,999  \n",
      "408      1.0    $10,000 to $29,999  \n",
      "409      1.0    $30,000 to $49,999  \n",
      "410      1.0  $100,000 to $199,999  \n",
      "411      1.0    $10,000 to $29,999  \n",
      "412      1.0    $30,000 to $49,999  \n",
      "413      1.0    $30,000 to $49,999  \n",
      "414      1.0      $200,000 or more  \n",
      "415      1.0    $50,000 to $99,999  \n",
      "416      1.0    $10,000 to $29,999  \n",
      "417      1.0    $10,000 to $29,999  \n",
      "418      1.0  $100,000 to $199,999  \n",
      "419      1.0    $10,000 to $29,999  \n",
      "420      1.0    $50,000 to $99,999  \n",
      "421      1.0    $10,000 to $29,999  \n",
      "422      1.0    $10,000 to $29,999  \n",
      "423      1.0  $100,000 to $199,999  \n",
      "424      1.0    $50,000 to $99,999  \n",
      "425      1.0    $10,000 to $29,999  \n",
      "426      1.0    $30,000 to $49,999  \n",
      "\n",
      "[427 rows x 12 columns]\n"
     ]
    }
   ],
   "source": [
    "\n",
    "print(req_data.isnull().any())\n",
    "req_data['damages'] = req_data['damages'].str.replace(',', '')\n",
    "req_data['perc_calc'] = req_data['perc_calc'].str.replace('$', '')\n",
    "req_data['perc_calc'] = req_data['perc_calc'].str.replace(',', '')\n",
    "req_data['perc_calc'] = req_data['perc_calc'].str.replace('-', '')\n",
    "req_data['perc_calc'] = req_data['perc_calc'].str.replace(\"  \", '')\n",
    "\n",
    "#req_data['mm_perc'] = req_data['mm_perc'].str.replace(\"$\", '')\n",
    "#req_data['mm_perc'] = req_data['mm_perc'].str.replace(\",\", '')\n",
    "#req_data['mm_perc'] = req_data['mm_perc'].str.replace(\"  \", '')\n",
    "#req_data.damages=pd.to_numeric(req_data['damages'].str.replace(',', ''))\n",
    "#req_data.perc_calc=pd.to_numeric(req_data.perc_calc)\n",
    "\n",
    "req_data.damages=pd.to_numeric(req_data['damages'])\n",
    "req_data.perc_calc=pd.to_numeric(req_data.perc_calc)\n",
    "req_data['damages'].fillna(0,inplace=True)  \n",
    "req_data['mm_perc'].fillna(1,inplace=True)\n",
    "req_data['perc_calc'].fillna(0,inplace=True)\n",
    "#print(req_data.damages)\n",
    "print(req_data.isnull().any())\n",
    "\n",
    "print(req_data[pd.isnull(req_data['Dunn_negligent'])])"
   ]
  },
  {
   "cell_type": "code",
   "execution_count": 5,
   "metadata": {},
   "outputs": [],
   "source": [
    "req_data['Income'] = req_data['Income'].str.replace(\"  \", '')\n",
    "req_data['Income'] = req_data['Income'].str.replace('$', '')\n",
    "req_data['Income'] = req_data['Income'].str.replace(',', '')"
   ]
  },
  {
   "cell_type": "code",
   "execution_count": 6,
   "metadata": {},
   "outputs": [
    {
     "data": {
      "text/plain": [
       "array(['10000 to 29999', '50000 to 99999', '30000 to 49999',\n",
       "       '100000 to 199999', 'Less than 10000', '200000 or more'],\n",
       "      dtype=object)"
      ]
     },
     "execution_count": 6,
     "metadata": {},
     "output_type": "execute_result"
    }
   ],
   "source": [
    "req_data['Income'].unique()"
   ]
  },
  {
   "cell_type": "code",
   "execution_count": 7,
   "metadata": {},
   "outputs": [],
   "source": [
    "\n",
    "req_data['Income']=req_data['Income'].replace(['Less than 10000','10000 to 29999','50000 to 99999','30000 to 49999','100000 to 199999',\n",
    "                           '200000 or more','nan'],['1','2','3','4','5','6','0'])"
   ]
  },
  {
   "cell_type": "code",
   "execution_count": 8,
   "metadata": {},
   "outputs": [
    {
     "data": {
      "text/plain": [
       "array(['2', '3', '4', '5', '1', '6'], dtype=object)"
      ]
     },
     "execution_count": 8,
     "metadata": {},
     "output_type": "execute_result"
    }
   ],
   "source": [
    "req_data['Income'].unique()\n"
   ]
  },
  {
   "cell_type": "markdown",
   "metadata": {},
   "source": [
    "## Calculating Discounted Damages"
   ]
  },
  {
   "cell_type": "code",
   "execution_count": 9,
   "metadata": {},
   "outputs": [],
   "source": [
    "req_data['Discounted_damages']=req_data.damages*pd.to_numeric(req_data.mm_perc)"
   ]
  },
  {
   "cell_type": "markdown",
   "metadata": {},
   "source": [
    "## Replacing above 500k to 500k"
   ]
  },
  {
   "cell_type": "code",
   "execution_count": 10,
   "metadata": {},
   "outputs": [],
   "source": [
    "\n",
    "req_data.loc[req_data.Discounted_damages>500000.0].shape\n",
    "req_data.Discounted_damages=np.where(((req_data.Discounted_damages>500000.0)),500000,req_data.Discounted_damages)"
   ]
  },
  {
   "cell_type": "code",
   "execution_count": 11,
   "metadata": {},
   "outputs": [
    {
     "data": {
      "text/plain": [
       "(0, 13)"
      ]
     },
     "execution_count": 11,
     "metadata": {},
     "output_type": "execute_result"
    }
   ],
   "source": [
    "req_data.loc[req_data.Discounted_damages>500000.0].shape"
   ]
  },
  {
   "cell_type": "markdown",
   "metadata": {},
   "source": [
    "# EDA"
   ]
  },
  {
   "cell_type": "markdown",
   "metadata": {},
   "source": [
    "## Calculating Discounted Damages stats for case expected value"
   ]
  },
  {
   "cell_type": "code",
   "execution_count": 12,
   "metadata": {},
   "outputs": [
    {
     "data": {
      "text/html": [
       "<div>\n",
       "<style scoped>\n",
       "    .dataframe tbody tr th:only-of-type {\n",
       "        vertical-align: middle;\n",
       "    }\n",
       "\n",
       "    .dataframe tbody tr th {\n",
       "        vertical-align: top;\n",
       "    }\n",
       "\n",
       "    .dataframe thead th {\n",
       "        text-align: right;\n",
       "    }\n",
       "</style>\n",
       "<table border=\"1\" class=\"dataframe\">\n",
       "  <thead>\n",
       "    <tr style=\"text-align: right;\">\n",
       "      <th></th>\n",
       "      <th>winrate_percentage</th>\n",
       "      <th>Discounted_damages_mean</th>\n",
       "      <th>Discounted_damages_median</th>\n",
       "      <th>Discounted_damages_sd</th>\n",
       "    </tr>\n",
       "    <tr>\n",
       "      <th>Scenario</th>\n",
       "      <th></th>\n",
       "      <th></th>\n",
       "      <th></th>\n",
       "      <th></th>\n",
       "    </tr>\n",
       "  </thead>\n",
       "  <tbody>\n",
       "    <tr>\n",
       "      <th>1</th>\n",
       "      <td>47.263682</td>\n",
       "      <td>97124.378109</td>\n",
       "      <td>0.0</td>\n",
       "      <td>128092.776739</td>\n",
       "    </tr>\n",
       "    <tr>\n",
       "      <th>2</th>\n",
       "      <td>48.730964</td>\n",
       "      <td>98857.868020</td>\n",
       "      <td>0.0</td>\n",
       "      <td>126814.745576</td>\n",
       "    </tr>\n",
       "    <tr>\n",
       "      <th>3</th>\n",
       "      <td>68.817204</td>\n",
       "      <td>130739.247312</td>\n",
       "      <td>110000.0</td>\n",
       "      <td>122510.222486</td>\n",
       "    </tr>\n",
       "    <tr>\n",
       "      <th>4</th>\n",
       "      <td>60.294118</td>\n",
       "      <td>108101.715686</td>\n",
       "      <td>100000.0</td>\n",
       "      <td>106679.886976</td>\n",
       "    </tr>\n",
       "    <tr>\n",
       "      <th>5</th>\n",
       "      <td>57.591623</td>\n",
       "      <td>92761.780105</td>\n",
       "      <td>80000.0</td>\n",
       "      <td>100902.490997</td>\n",
       "    </tr>\n",
       "  </tbody>\n",
       "</table>\n",
       "</div>"
      ],
      "text/plain": [
       "          winrate_percentage  Discounted_damages_mean  \\\n",
       "Scenario                                                \n",
       "1                  47.263682             97124.378109   \n",
       "2                  48.730964             98857.868020   \n",
       "3                  68.817204            130739.247312   \n",
       "4                  60.294118            108101.715686   \n",
       "5                  57.591623             92761.780105   \n",
       "\n",
       "          Discounted_damages_median  Discounted_damages_sd  \n",
       "Scenario                                                    \n",
       "1                               0.0          128092.776739  \n",
       "2                               0.0          126814.745576  \n",
       "3                          110000.0          122510.222486  \n",
       "4                          100000.0          106679.886976  \n",
       "5                           80000.0          100902.490997  "
      ]
     },
     "execution_count": 12,
     "metadata": {},
     "output_type": "execute_result"
    }
   ],
   "source": [
    "\n",
    "\n",
    "\n",
    "req_data['winrate_percentage']=req_data.Liability\n",
    "req_data['Discounted_damages_mean']=req_data['Discounted_damages']\n",
    "req_data['Discounted_damages_median']=req_data['Discounted_damages']\n",
    "req_data['Discounted_damages_sd']=req_data['Discounted_damages']\n",
    "\n",
    "winrate_damages_expected=req_data.groupby('Scenario').aggregate(\n",
    "    {'winrate_percentage': np.mean, 'Discounted_damages_mean': np.mean,'Discounted_damages_median':np.median,'Discounted_damages_sd':np.std})\n",
    "\n",
    "winrate_damages_expected['winrate_percentage']=winrate_damages_expected['winrate_percentage']*100.0\n",
    "winrate_damages_expected"
   ]
  },
  {
   "cell_type": "markdown",
   "metadata": {},
   "source": [
    "## Calculating Discounted Damages stats when plaintiff wins"
   ]
  },
  {
   "cell_type": "code",
   "execution_count": 21,
   "metadata": {},
   "outputs": [
    {
     "data": {
      "text/html": [
       "<div>\n",
       "<style scoped>\n",
       "    .dataframe tbody tr th:only-of-type {\n",
       "        vertical-align: middle;\n",
       "    }\n",
       "\n",
       "    .dataframe tbody tr th {\n",
       "        vertical-align: top;\n",
       "    }\n",
       "\n",
       "    .dataframe thead th {\n",
       "        text-align: right;\n",
       "    }\n",
       "</style>\n",
       "<table border=\"1\" class=\"dataframe\">\n",
       "  <thead>\n",
       "    <tr style=\"text-align: right;\">\n",
       "      <th></th>\n",
       "      <th>Discounted_damages_mean1</th>\n",
       "      <th>Discounted_damages_median1</th>\n",
       "      <th>Discounted_damages_sd1</th>\n",
       "    </tr>\n",
       "    <tr>\n",
       "      <th>Scenario</th>\n",
       "      <th></th>\n",
       "      <th></th>\n",
       "      <th></th>\n",
       "    </tr>\n",
       "  </thead>\n",
       "  <tbody>\n",
       "    <tr>\n",
       "      <th>1</th>\n",
       "      <td>205494.736842</td>\n",
       "      <td>180000.0</td>\n",
       "      <td>111371.801474</td>\n",
       "    </tr>\n",
       "    <tr>\n",
       "      <th>2</th>\n",
       "      <td>202864.583333</td>\n",
       "      <td>180000.0</td>\n",
       "      <td>108895.760856</td>\n",
       "    </tr>\n",
       "    <tr>\n",
       "      <th>3</th>\n",
       "      <td>189980.468750</td>\n",
       "      <td>180000.0</td>\n",
       "      <td>102566.329649</td>\n",
       "    </tr>\n",
       "    <tr>\n",
       "      <th>4</th>\n",
       "      <td>179290.650407</td>\n",
       "      <td>180000.0</td>\n",
       "      <td>77900.192120</td>\n",
       "    </tr>\n",
       "    <tr>\n",
       "      <th>5</th>\n",
       "      <td>161068.181818</td>\n",
       "      <td>150000.0</td>\n",
       "      <td>81512.690442</td>\n",
       "    </tr>\n",
       "  </tbody>\n",
       "</table>\n",
       "</div>"
      ],
      "text/plain": [
       "          Discounted_damages_mean1  Discounted_damages_median1  \\\n",
       "Scenario                                                         \n",
       "1                    205494.736842                    180000.0   \n",
       "2                    202864.583333                    180000.0   \n",
       "3                    189980.468750                    180000.0   \n",
       "4                    179290.650407                    180000.0   \n",
       "5                    161068.181818                    150000.0   \n",
       "\n",
       "          Discounted_damages_sd1  \n",
       "Scenario                          \n",
       "1                  111371.801474  \n",
       "2                  108895.760856  \n",
       "3                  102566.329649  \n",
       "4                   77900.192120  \n",
       "5                   81512.690442  "
      ]
     },
     "execution_count": 21,
     "metadata": {},
     "output_type": "execute_result"
    }
   ],
   "source": [
    "\n",
    "#req_data['winrate_percentage']=np.mean(req_data.Juror_Response)\n",
    "#print(req_data)\n",
    "req_data['mm_perc'].fillna(1,inplace=True)\n",
    "\n",
    "req_data['Discounted_damages_mean1']=req_data['Discounted_damages']\n",
    "req_data['Discounted_damages_median1']=req_data['Discounted_damages']\n",
    "req_data['Discounted_damages_sd1']=req_data['Discounted_damages']\n",
    "#print(req_data.mm_perc)\n",
    "\n",
    "winrate_damages_plaintiffwin=req_data.loc[(req_data['Mesa_Negligent']=='Yes') & (req_data['Liability']==1)].groupby('Scenario').aggregate({'Discounted_damages_mean1': np.mean,'Discounted_damages_median1':np.median,'Discounted_damages_sd1':np.std})\n",
    "\n",
    "#Here Liability is \"Is substantial factor for causing plaintiff injuries\"\n",
    "winrate_damages_plaintiffwin"
   ]
  },
  {
   "cell_type": "markdown",
   "metadata": {},
   "source": [
    "## Plotting graph for Liability vs Path"
   ]
  },
  {
   "cell_type": "code",
   "execution_count": 14,
   "metadata": {},
   "outputs": [
    {
     "data": {
      "text/plain": [
       "<seaborn.axisgrid.FacetGrid at 0x109903b70>"
      ]
     },
     "execution_count": 14,
     "metadata": {},
     "output_type": "execute_result"
    }
   ],
   "source": [
    "import matplotlib as mpl\n",
    "import matplotlib.pyplot as plt\n",
    "import seaborn as sns\n",
    "\n",
    "sns.factorplot(x='Scenario', y='damages', kind='box',data=req_data)"
   ]
  },
  {
   "cell_type": "code",
   "execution_count": 15,
   "metadata": {},
   "outputs": [
    {
     "data": {
      "text/html": [
       "<div>\n",
       "<style scoped>\n",
       "    .dataframe tbody tr th:only-of-type {\n",
       "        vertical-align: middle;\n",
       "    }\n",
       "\n",
       "    .dataframe tbody tr th {\n",
       "        vertical-align: top;\n",
       "    }\n",
       "\n",
       "    .dataframe thead th {\n",
       "        text-align: right;\n",
       "    }\n",
       "</style>\n",
       "<table border=\"1\" class=\"dataframe\">\n",
       "  <thead>\n",
       "    <tr style=\"text-align: right;\">\n",
       "      <th>Liability</th>\n",
       "      <th>0</th>\n",
       "      <th>1</th>\n",
       "    </tr>\n",
       "    <tr>\n",
       "      <th>Scenario</th>\n",
       "      <th></th>\n",
       "      <th></th>\n",
       "    </tr>\n",
       "  </thead>\n",
       "  <tbody>\n",
       "    <tr>\n",
       "      <th>1</th>\n",
       "      <td>106</td>\n",
       "      <td>95</td>\n",
       "    </tr>\n",
       "    <tr>\n",
       "      <th>2</th>\n",
       "      <td>101</td>\n",
       "      <td>96</td>\n",
       "    </tr>\n",
       "    <tr>\n",
       "      <th>3</th>\n",
       "      <td>58</td>\n",
       "      <td>128</td>\n",
       "    </tr>\n",
       "    <tr>\n",
       "      <th>4</th>\n",
       "      <td>81</td>\n",
       "      <td>123</td>\n",
       "    </tr>\n",
       "    <tr>\n",
       "      <th>5</th>\n",
       "      <td>81</td>\n",
       "      <td>110</td>\n",
       "    </tr>\n",
       "  </tbody>\n",
       "</table>\n",
       "</div>"
      ],
      "text/plain": [
       "Liability    0    1\n",
       "Scenario           \n",
       "1          106   95\n",
       "2          101   96\n",
       "3           58  128\n",
       "4           81  123\n",
       "5           81  110"
      ]
     },
     "execution_count": 15,
     "metadata": {},
     "output_type": "execute_result"
    },
    {
     "data": {
      "image/png": "[encoded data removed]",
      "text/plain": [
       "<matplotlib.figure.Figure at 0x1a14dfde80>"
      ]
     },
     "metadata": {},
     "output_type": "display_data"
    }
   ],
   "source": [
    "pd.crosstab(data.Scenario,data.Liability).plot(kind='bar')\n",
    "plt.title('Purchase Frequency for Job Title')\n",
    "plt.xlabel('Scenario')\n",
    "plt.ylabel('Liability')\n",
    "plt.savefig('Juror Response per each Scenario')\n",
    "\n",
    "\n",
    "\n",
    "a = req_data['Scenario']\n",
    "b = req_data['Liability']\n",
    "pd.crosstab(a,b)"
   ]
  },
  {
   "cell_type": "markdown",
   "metadata": {},
   "source": [
    "** From the graph we can see that **\n",
    "- Winrate increases when subsequent remedial measures introduced at scenario3.\n",
    "- Winrate decreases slightly when limited jury instruction presented at Scenario4.\n",
    "- Similarly winrate and damages decreases more when more explanation on limiting jury instruction provided at Scenario5.But not decreased as in Scenario2(before limiting jury instructions)"
   ]
  },
  {
   "cell_type": "markdown",
   "metadata": {},
   "source": [
    "## Importing data to \"old_data.csv\" file"
   ]
  },
  {
   "cell_type": "code",
   "execution_count": 16,
   "metadata": {},
   "outputs": [],
   "source": [
    "req_data.to_csv(\"old_data.csv\",sep=',')"
   ]
  },
  {
   "cell_type": "code",
   "execution_count": null,
   "metadata": {},
   "outputs": [],
   "source": []
  },
  {
   "cell_type": "code",
   "execution_count": null,
   "metadata": {},
   "outputs": [],
   "source": []
  },
  {
   "cell_type": "code",
   "execution_count": null,
   "metadata": {},
   "outputs": [],
   "source": []
  }
 ],
 "metadata": {
  "kernelspec": {
   "display_name": "Python 3",
   "language": "python",
   "name": "python3"
  },
  "language_info": {
   "codemirror_mode": {
    "name": "ipython",
    "version": 3
   },
   "file_extension": ".py",
   "mimetype": "text/x-python",
   "name": "python",
   "nbconvert_exporter": "python",
   "pygments_lexer": "ipython3",
   "version": "3.6.4"
  }
 },
 "nbformat": 4,
 "nbformat_minor": 2
}
