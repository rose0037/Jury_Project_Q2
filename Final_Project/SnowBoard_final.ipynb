{
 "cells": [
  {
   "cell_type": "markdown",
   "metadata": {},
   "source": [
    "<font color=\"blue\" size=5><b> Story About Dataset</b></font>"
   ]
  },
  {
   "cell_type": "markdown",
   "metadata": {},
   "source": [
    "<p>\n",
    "McNeil(Plaintiff) injured in a Snowboard Accident.He contended that Snowboard he was using i.e Carve 3000 X5 was       defective.Few Mock Jurors are assigned with task to find if the Carve 3000 snowboard X5 was really defective or       not(i.e Liability) and assign damage percentages.</p>\n",
    "<p>Plaintiff Argument:The holes that resist corosion are missing from the snowboard,which cause the accident.He is      asking for 500,000 dollars to compensate his pain and sufferings.He asked for 490,000 dollars non-Economic damages for his   pain and suffering and 10,000 dollars for economical damages.</p>\n",
    "<p>Defedent Argument: Damages is high.</p>\n",
    "\n",
    "- There are 8 different paths.\n",
    "1. 1-4 path with no low Anchor\n",
    "2. 5-8 path with Low Anchor\n",
    "<p>Limiting Jury instructions presented at 3,7,paths and Limiting Jury instruction with explanation introduced in\n",
    "4,8 paths</p>\n",
    "\n",
    "\n",
    "Before a jury begins deliberatins, Judge will give instructions about the evidence of the case.For the fair trial,the court must sometimes limit the jurys considerations of a fact or evidence.This is done through a limiting instruction.\n",
    "Specifically,it tells the jury to disregard evidence completely or just for a specific purpose.\n",
    "  \n",
    "\n",
    "Mock Jurors were asked to watch videos where each video is of around 20-30 mins.They were asked 41 different questions(attributes of our dataset) which includes the information about Juror(like Age,sex,Education,Income etc) and questions like Was McNeil negligent?,If you find that Mc.Neil was fault,assign damage percentage, etc.Q40 and Q41 includes if there is any change in the decision if Limiting Jury instruction introduced.\n",
    "\n",
    "There were two variations of the Plaintiff's closing argument.In both variations,Plaintiff made the same liability argument followed by one of the two damage demands.Plaintiff's attorney asked the Jury to award either 250,000 dollars or 5 million dollars to compensate for pain and suffering associated with the back injury,We viewed that 250,000 dollars as an objectively reasonable figure because it is roughly the average award given by mock jurors earlier.\n",
    "\n",
    "Mock Jurors were then asked to render a decision on both liability and damages.These individual jurors results were then combined with 11 other randomly selected jurors decision to create a mock jury descision.\n",
    "\n"
   ]
  },
  {
   "cell_type": "markdown",
   "metadata": {},
   "source": [
    "<font color=\"blue\" size=5><b> Objectives: </b></font>\n",
    "\n",
    "- Path 1-4 vs Path 5-8 Regression Analysis\n",
    "- Regression Analysis for the Stair case and Snowboard Scenarios\n",
    "- Linear model on Discounted Damages and the Path\n",
    "- Damages calculations for each Path of new dataset\n",
    "- Regression Analysis of Liability vs Path, Education and Income\n",
    "- Plots for the data\n",
    "- Regression Analysis for Q40 and Q41\n",
    "- Damage calculations for the merged dataset\n",
    "\n"
   ]
  },
  {
   "cell_type": "markdown",
   "metadata": {},
   "source": [
    "<font color=\"blue\" size=5><b> New Dataset(Snowboard) after cleaning and extracting required columns</b></font>\n",
    "-  After Cleaning and filtering the data,we are left with 729 participants out of 804 participants. \n",
    "- We have cleaned the data(cleaning.ipynb) and loaded cleaned data to cleaning.csv table)"
   ]
  },
  {
   "cell_type": "code",
   "execution_count": 495,
   "metadata": {},
   "outputs": [],
   "source": [
    "import pandas as pd\n",
    "data18 = pd.read_csv('cleaning.csv', encoding= 'ISO-8859-1')\n",
    "data14 = pd.read_csv('cleaning.csv', encoding= 'ISO-8859-1')"
   ]
  },
  {
   "cell_type": "code",
   "execution_count": null,
   "metadata": {},
   "outputs": [],
   "source": [
    "run matplotlin inline"
   ]
  },
  {
   "cell_type": "markdown",
   "metadata": {},
   "source": [
    "For rest of the calculations, we will consider total 4 paths.so replacing path 5-8 with 1-4 respectively for data14."
   ]
  },
  {
   "cell_type": "code",
   "execution_count": 496,
   "metadata": {},
   "outputs": [],
   "source": [
    "data14['Path'].replace([5,6,7,8], [1,2,3,4], inplace = True)"
   ]
  },
  {
   "cell_type": "code",
   "execution_count": 497,
   "metadata": {},
   "outputs": [
    {
     "data": {
      "text/plain": [
       "Unnamed: 0                                             int64\n",
       "StartDate                                             object\n",
       "EndDate                                               object\n",
       "Duration                                               int64\n",
       "Was_snowboard_sold_McNeil_defective_14               float64\n",
       "Is_substantial_factor_McNeil_injuries_14             float64\n",
       "Non_economic_damages_McNeil_suffered_14              float64\n",
       "Was_McNeil_negligent                                 float64\n",
       "McNeil_negligence_substantial_factor_for_injuries    float64\n",
       "Percentage_of_responsibility_X5                      float64\n",
       "Percentage_of_responsibility_McNeil                  float64\n",
       "Was_snowboard_sold_McNeil_defective_58               float64\n",
       "Is_substantial_factor_McNeil_injuries_58             float64\n",
       "Economic_damages_McNeil_suffer_58                    float64\n",
       "Non_economic_damages_McNeil_suffered_58              float64\n",
       "Q40                                                  float64\n",
       "Q41                                                   object\n",
       "Path                                                   int64\n",
       "Education                                              int64\n",
       "Income                                                 int64\n",
       "Total_perc                                           float64\n",
       "Liability                                             object\n",
       "Total_Damages                                        float64\n",
       "Discounted_Damages                                   float64\n",
       "dtype: object"
      ]
     },
     "execution_count": 497,
     "metadata": {},
     "output_type": "execute_result"
    }
   ],
   "source": [
    "data14.dtypes"
   ]
  },
  {
   "cell_type": "code",
   "execution_count": 498,
   "metadata": {},
   "outputs": [
    {
     "data": {
      "text/plain": [
       "(729, 24)"
      ]
     },
     "execution_count": 498,
     "metadata": {},
     "output_type": "execute_result"
    }
   ],
   "source": [
    "data14.shape"
   ]
  },
  {
   "cell_type": "markdown",
   "metadata": {},
   "source": [
    "<font color=\"blue\" size=5><b> 1: Plot Of Total Damages(Discounted) vs Path. </b></font>"
   ]
  },
  {
   "cell_type": "markdown",
   "metadata": {},
   "source": [
    "**Note: We used Violin Plot because it allows a deeper understanding of the density of distribution.** \n",
    "\n",
    "### 1)  Plot including 0's for Total Damages(Discounted Damages) "
   ]
  },
  {
   "cell_type": "code",
   "execution_count": 499,
   "metadata": {},
   "outputs": [
    {
     "data": {
      "image/png": "[encoded data removed]",
      "text/plain": [
       "<matplotlib.figure.Figure at 0x23306c8be10>"
      ]
     },
     "metadata": {},
     "output_type": "display_data"
    }
   ],
   "source": [
    "import matplotlib as mpl\n",
    "import matplotlib.pyplot as plt\n",
    "import seaborn as sns\n",
    "\n",
    "_ = sns.factorplot(x='Path', y='Discounted_Damages', kind='box',data=data14, size=6)"
   ]
  },
  {
   "cell_type": "code",
   "execution_count": 500,
   "metadata": {},
   "outputs": [
    {
     "data": {
      "image/png": "[encoded data removed]",
      "text/plain": [
       "<matplotlib.figure.Figure at 0x23305bd14e0>"
      ]
     },
     "metadata": {},
     "output_type": "display_data"
    }
   ],
   "source": [
    "_ = sns.violinplot(x=\"Path\", y=\"Discounted_Damages\", data=data14, inner = 'box', size=6)"
   ]
  },
  {
   "cell_type": "markdown",
   "metadata": {},
   "source": [
    "### 2) Box plot excluding 0s for Total Damages (Discounted Damages)"
   ]
  },
  {
   "cell_type": "code",
   "execution_count": 501,
   "metadata": {},
   "outputs": [
    {
     "data": {
      "image/png": "[encoded data removed]",
      "text/plain": [
       "<matplotlib.figure.Figure at 0x23306b8f668>"
      ]
     },
     "metadata": {},
     "output_type": "display_data"
    },
    {
     "data": {
      "image/png": "[encoded data removed]",
      "text/plain": [
       "<matplotlib.figure.Figure at 0x23307e832e8>"
      ]
     },
     "metadata": {},
     "output_type": "display_data"
    }
   ],
   "source": [
    "_ = sns.factorplot(x='Path', y='Discounted_Damages', kind='box',data=data14[data14.Discounted_Damages >0], size=6)\n",
    "_ = sns.factorplot(x='Path', y='Discounted_Damages', kind='violin',data=data14[data14.Discounted_Damages >0], size=6)"
   ]
  },
  {
   "cell_type": "markdown",
   "metadata": {},
   "source": [
    "<font color=\"blue\" size=5><b> 2: Plot of Liability vs Paths </b></font>"
   ]
  },
  {
   "cell_type": "code",
   "execution_count": 502,
   "metadata": {},
   "outputs": [
    {
     "data": {
      "text/html": [
       "<div>\n",
       "<style scoped>\n",
       "    .dataframe tbody tr th:only-of-type {\n",
       "        vertical-align: middle;\n",
       "    }\n",
       "\n",
       "    .dataframe tbody tr th {\n",
       "        vertical-align: top;\n",
       "    }\n",
       "\n",
       "    .dataframe thead th {\n",
       "        text-align: right;\n",
       "    }\n",
       "</style>\n",
       "<table border=\"1\" class=\"dataframe\">\n",
       "  <thead>\n",
       "    <tr style=\"text-align: right;\">\n",
       "      <th>Liability</th>\n",
       "      <th>No</th>\n",
       "      <th>Yes</th>\n",
       "      <th>Total</th>\n",
       "    </tr>\n",
       "    <tr>\n",
       "      <th>Path</th>\n",
       "      <th></th>\n",
       "      <th></th>\n",
       "      <th></th>\n",
       "    </tr>\n",
       "  </thead>\n",
       "  <tbody>\n",
       "    <tr>\n",
       "      <th>1 &amp; 5</th>\n",
       "      <td>103</td>\n",
       "      <td>73</td>\n",
       "      <td>176</td>\n",
       "    </tr>\n",
       "    <tr>\n",
       "      <th>2 &amp; 6</th>\n",
       "      <td>96</td>\n",
       "      <td>92</td>\n",
       "      <td>188</td>\n",
       "    </tr>\n",
       "    <tr>\n",
       "      <th>3 &amp; 7</th>\n",
       "      <td>95</td>\n",
       "      <td>95</td>\n",
       "      <td>190</td>\n",
       "    </tr>\n",
       "    <tr>\n",
       "      <th>4 &amp; 8</th>\n",
       "      <td>96</td>\n",
       "      <td>79</td>\n",
       "      <td>175</td>\n",
       "    </tr>\n",
       "    <tr>\n",
       "      <th>Total</th>\n",
       "      <td>390</td>\n",
       "      <td>339</td>\n",
       "      <td>729</td>\n",
       "    </tr>\n",
       "  </tbody>\n",
       "</table>\n",
       "</div>"
      ],
      "text/plain": [
       "Liability   No  Yes  Total\n",
       "Path                      \n",
       "1 & 5      103   73    176\n",
       "2 & 6       96   92    188\n",
       "3 & 7       95   95    190\n",
       "4 & 8       96   79    175\n",
       "Total      390  339    729"
      ]
     },
     "execution_count": 502,
     "metadata": {},
     "output_type": "execute_result"
    },
    {
     "data": {
      "image/png": "[encoded data removed]",
      "text/plain": [
       "<matplotlib.figure.Figure at 0x233081c0588>"
      ]
     },
     "metadata": {},
     "output_type": "display_data"
    }
   ],
   "source": [
    "import matplotlib as mpl\n",
    "import matplotlib.pyplot as plt\n",
    "import seaborn as sns\n",
    "\n",
    "\n",
    "a = data14['Path']\n",
    "a = a.astype(str)\n",
    "a.replace(['1','2','3','4'],['1 & 5','2 & 6','3 & 7','4 & 8'],inplace = True)\n",
    "b = data14['Liability']\n",
    "\n",
    "\n",
    "pd.crosstab(a,b).plot(kind='bar', fontsize = 15, figsize=(10,6))\n",
    "plt.title('Liability Vs Path Graph')\n",
    "plt.xlabel('Path')\n",
    "plt.ylabel('Liability')\n",
    "plt.savefig('Juror Response vs Path')\n",
    "\n",
    "pd.crosstab(a,b,margins=True, margins_name='Total')"
   ]
  },
  {
   "cell_type": "markdown",
   "metadata": {},
   "source": [
    "<font color=\"blue\" size=5><b> Finding the Winrate, Expected Damages, mean , median and SD for Discounted Damages</b></font>\n",
    "\n",
    "Here we are calculating the damages mean, median sd and winrate percentage when the plaintiff wins for path 1-4. "
   ]
  },
  {
   "cell_type": "code",
   "execution_count": 503,
   "metadata": {},
   "outputs": [
    {
     "data": {
      "text/html": [
       "<div>\n",
       "<style scoped>\n",
       "    .dataframe tbody tr th:only-of-type {\n",
       "        vertical-align: middle;\n",
       "    }\n",
       "\n",
       "    .dataframe tbody tr th {\n",
       "        vertical-align: top;\n",
       "    }\n",
       "\n",
       "    .dataframe thead th {\n",
       "        text-align: right;\n",
       "    }\n",
       "</style>\n",
       "<table border=\"1\" class=\"dataframe\">\n",
       "  <thead>\n",
       "    <tr style=\"text-align: right;\">\n",
       "      <th></th>\n",
       "      <th>No.of.Participants</th>\n",
       "      <th>winrate_percentage</th>\n",
       "      <th>Discounted_damages_mean</th>\n",
       "      <th>Discounted_damages_median</th>\n",
       "      <th>Discounted_damages_sd</th>\n",
       "    </tr>\n",
       "    <tr>\n",
       "      <th>Path</th>\n",
       "      <th></th>\n",
       "      <th></th>\n",
       "      <th></th>\n",
       "      <th></th>\n",
       "      <th></th>\n",
       "    </tr>\n",
       "  </thead>\n",
       "  <tbody>\n",
       "    <tr>\n",
       "      <th>1</th>\n",
       "      <td>176</td>\n",
       "      <td>41.477273</td>\n",
       "      <td>91850.795455</td>\n",
       "      <td>0.0</td>\n",
       "      <td>169591.046335</td>\n",
       "    </tr>\n",
       "    <tr>\n",
       "      <th>2</th>\n",
       "      <td>188</td>\n",
       "      <td>48.936170</td>\n",
       "      <td>98567.021277</td>\n",
       "      <td>0.0</td>\n",
       "      <td>160381.672369</td>\n",
       "    </tr>\n",
       "    <tr>\n",
       "      <th>3</th>\n",
       "      <td>190</td>\n",
       "      <td>50.000000</td>\n",
       "      <td>94718.421053</td>\n",
       "      <td>0.0</td>\n",
       "      <td>159153.185426</td>\n",
       "    </tr>\n",
       "    <tr>\n",
       "      <th>4</th>\n",
       "      <td>175</td>\n",
       "      <td>45.142857</td>\n",
       "      <td>108744.285714</td>\n",
       "      <td>0.0</td>\n",
       "      <td>173752.741139</td>\n",
       "    </tr>\n",
       "  </tbody>\n",
       "</table>\n",
       "</div>"
      ],
      "text/plain": [
       "      No.of.Participants  winrate_percentage  Discounted_damages_mean  \\\n",
       "Path                                                                    \n",
       "1                    176           41.477273             91850.795455   \n",
       "2                    188           48.936170             98567.021277   \n",
       "3                    190           50.000000             94718.421053   \n",
       "4                    175           45.142857            108744.285714   \n",
       "\n",
       "      Discounted_damages_median  Discounted_damages_sd  \n",
       "Path                                                    \n",
       "1                           0.0          169591.046335  \n",
       "2                           0.0          160381.672369  \n",
       "3                           0.0          159153.185426  \n",
       "4                           0.0          173752.741139  "
      ]
     },
     "execution_count": 503,
     "metadata": {},
     "output_type": "execute_result"
    }
   ],
   "source": [
    "## Finding winrate percentage for each path \n",
    "import numpy as np\n",
    "\n",
    "ratedf=pd.DataFrame(data14[['Liability','Path','Was_McNeil_negligent']])\n",
    "ratedf['winrate_percentage']=ratedf.Liability\n",
    "ratedf['Discounted_damages_mean']=pd.to_numeric(data14.Discounted_Damages)  \n",
    "ratedf['Discounted_damages_median']=pd.to_numeric(data14.Discounted_Damages)  \n",
    "ratedf['Discounted_damages_sd']=pd.to_numeric(data14.Discounted_Damages) \n",
    "ratedf['winrate_percentage'] = ratedf['winrate_percentage'].map({\"Yes\":1, \"No\":0})\n",
    "ratedf['No.of.Participants']=ratedf['Path']\n",
    "\n",
    "\n",
    "winrate_damages_expected=ratedf.groupby('Path').aggregate(\n",
    "    {'No.of.Participants':'count','winrate_percentage': np.mean\n",
    "     \n",
    "     ,'Discounted_damages_mean': np.mean\n",
    "     ,'Discounted_damages_median':np.median\n",
    "     ,'Discounted_damages_sd':np.std\n",
    "     \n",
    "    })\n",
    "winrate_damages_expected['winrate_percentage']=winrate_damages_expected['winrate_percentage']*100.0\n",
    "winrate_damages_expected"
   ]
  },
  {
   "cell_type": "markdown",
   "metadata": {},
   "source": [
    "<font color=\"blue\" size=5><b> Finding the Damages, mean , median and SD when plaintiff wins.</b></font>"
   ]
  },
  {
   "cell_type": "code",
   "execution_count": 504,
   "metadata": {},
   "outputs": [
    {
     "data": {
      "text/html": [
       "<div>\n",
       "<style scoped>\n",
       "    .dataframe tbody tr th:only-of-type {\n",
       "        vertical-align: middle;\n",
       "    }\n",
       "\n",
       "    .dataframe tbody tr th {\n",
       "        vertical-align: top;\n",
       "    }\n",
       "\n",
       "    .dataframe thead th {\n",
       "        text-align: right;\n",
       "    }\n",
       "</style>\n",
       "<table border=\"1\" class=\"dataframe\">\n",
       "  <thead>\n",
       "    <tr style=\"text-align: right;\">\n",
       "      <th></th>\n",
       "      <th>No.of.Participants</th>\n",
       "      <th>Discounted_damages_mean</th>\n",
       "      <th>Discounted_damages_median</th>\n",
       "      <th>Discounted_damages_sd</th>\n",
       "    </tr>\n",
       "    <tr>\n",
       "      <th>Path</th>\n",
       "      <th></th>\n",
       "      <th></th>\n",
       "      <th></th>\n",
       "      <th></th>\n",
       "    </tr>\n",
       "  </thead>\n",
       "  <tbody>\n",
       "    <tr>\n",
       "      <th>1</th>\n",
       "      <td>30</td>\n",
       "      <td>207724.666667</td>\n",
       "      <td>187500.0</td>\n",
       "      <td>152546.260744</td>\n",
       "    </tr>\n",
       "    <tr>\n",
       "      <th>2</th>\n",
       "      <td>47</td>\n",
       "      <td>158300.000000</td>\n",
       "      <td>80000.0</td>\n",
       "      <td>156560.967427</td>\n",
       "    </tr>\n",
       "    <tr>\n",
       "      <th>3</th>\n",
       "      <td>47</td>\n",
       "      <td>120329.787234</td>\n",
       "      <td>85000.0</td>\n",
       "      <td>115213.802983</td>\n",
       "    </tr>\n",
       "    <tr>\n",
       "      <th>4</th>\n",
       "      <td>30</td>\n",
       "      <td>181691.666667</td>\n",
       "      <td>200000.0</td>\n",
       "      <td>123272.540838</td>\n",
       "    </tr>\n",
       "  </tbody>\n",
       "</table>\n",
       "</div>"
      ],
      "text/plain": [
       "      No.of.Participants  Discounted_damages_mean  Discounted_damages_median  \\\n",
       "Path                                                                           \n",
       "1                     30            207724.666667                   187500.0   \n",
       "2                     47            158300.000000                    80000.0   \n",
       "3                     47            120329.787234                    85000.0   \n",
       "4                     30            181691.666667                   200000.0   \n",
       "\n",
       "      Discounted_damages_sd  \n",
       "Path                         \n",
       "1             152546.260744  \n",
       "2             156560.967427  \n",
       "3             115213.802983  \n",
       "4             123272.540838  "
      ]
     },
     "execution_count": 504,
     "metadata": {},
     "output_type": "execute_result"
    }
   ],
   "source": [
    "winrate_damages_plaintiffwin = ratedf.loc[(ratedf['Was_McNeil_negligent']== 1) & (ratedf['Liability']=='Yes')].groupby('Path').aggregate(\n",
    "    {'No.of.Participants':'count',\n",
    "        'Discounted_damages_mean': np.mean\n",
    "     ,'Discounted_damages_median':np.median\n",
    "     ,'Discounted_damages_sd':np.std\n",
    "    })\n",
    "winrate_damages_plaintiffwin"
   ]
  },
  {
   "cell_type": "markdown",
   "metadata": {},
   "source": [
    "# Question 1 :\n",
    "------------------------------------------------------------\n",
    " \n",
    "\n",
    "<font color = red>\n",
    "With respect to the first question, I realize that answers from participants in versions 1 and 5 are meaningless.  They did not see evidence of added core inserts. As far as the analysis, I think we want to see if this answer predicted how people responded to the liability questions. For example, did people that said \"Yes this evidence strongly suggested the Carve 3000 was defective” find liability more often than people that answered “No”. \n",
    "</font>\n",
    "\n",
    "Here Q40 is **\"Did the fact that X5 added core inserts to the later Carve 3000 model, affect your view as to whether the original Carve 3000 was defective?\"**\n",
    "\n",
    "The Values are: \n",
    "- 1 = Yes, it strongly suggested that the original Carve 3000 was defective.\n",
    "- 2 = Yes, it somewhat suggested that the original Carve 3000 was defective.\n",
    "- 3 = No, it did not suggest that the original Carve 3000 was defective.\n",
    "\n",
    "So first lets check the brief summary table for each scenario."
   ]
  },
  {
   "cell_type": "code",
   "execution_count": null,
   "metadata": {},
   "outputs": [],
   "source": [
    "newdf_2_8 = data18[~data18['Path'].isin([1,5])]\n",
    "newdf_2_8['Q40'] = newdf_2_8['Q40'].astype(str)\n",
    "a = newdf_2_8['Q40'].replace(['1.0','2.0','3.0'], ['Yes','Maybe','No'])\n",
    "a = a[a.apply(len) > 0]\n",
    "b = newdf_2_8['Liability']\n",
    "\n",
    "p = pd.crosstab([b,a], newdf_2_8.Path,  margins=True , margins_name='Total')\n",
    "p"
   ]
  },
  {
   "cell_type": "markdown",
   "metadata": {},
   "source": [
    "## Observation \n",
    "\n",
    "#### Below is the plot for Path 2,3,4,6,7,8"
   ]
  },
  {
   "cell_type": "code",
   "execution_count": 506,
   "metadata": {
    "scrolled": true
   },
   "outputs": [
    {
     "data": {
      "image/png": "[encoded data removed]",
      "text/plain": [
       "<matplotlib.figure.Figure at 0x23308292d68>"
      ]
     },
     "metadata": {},
     "output_type": "display_data"
    }
   ],
   "source": [
    "_ = pd.crosstab([newdf_2_8.Path,a], b).plot(kind='bar', fontsize = 10, figsize=(15,5))"
   ]
  },
  {
   "cell_type": "markdown",
   "metadata": {},
   "source": [
    "## Observation Based on the graph:\n",
    "\n",
    "1) When a juror has strongly suggested that the original Carve 3000 was defective, all of them responded to the liability question as **\"Yes\"**.\n",
    "\n",
    "2) When a juror is somewhat suggested that the original Carve 3000 was defective, they are more likely to respond the liability question as **\"Yes\"**.\n",
    "\n",
    "3) When a juror is saying \"No\" to Q40 and saying that it does not suggest that the original Carve 3000 was defective, they are more likely to respond the liability question as **\"No.\"**\n",
    "\n",
    "\n",
    ".\n",
    "\n",
    "<font color = red>Professor Bernard's comment:</font>\n",
    "\n",
    "One more **comment in the 1st question**.  We also want to see if the jury instructions in 3,4 and 7,8 help participant resist the evidence.  \n",
    "So we want to also compare if verdicts as a function of yes, no, maybe in <font color = red>2 and 5 are </font>different than those in 3,4,7 & 8.  If they do, we want to see if the different instructions matter.  That is verdicts as function of yes, no, maybe or different in 3 and 7 vs 4 and 8.\n"
   ]
  },
  {
   "cell_type": "markdown",
   "metadata": {},
   "source": [
    "<font color=\"blue\" size=4><b> 1. Regression of Q40 vs Liability (Model 1)</b></font>\n",
    "-------------------------------\n",
    "\n",
    "**Effect of juror response for Q40 (Yes, No, Maybe) on Liability.**"
   ]
  },
  {
   "cell_type": "code",
   "execution_count": null,
   "metadata": {},
   "outputs": [],
   "source": [
    "import statsmodels.formula.api as smf # stats model formula\n",
    "import seaborn as sb # statistical visulaization\n",
    "%matplotlib inline \n",
    "import matplotlib.pyplot as plt\n",
    "sb.set(style=\"darkgrid\", context=\"talk\")\n",
    "from scipy import stats\n",
    "\n",
    "newdf_2_8.Liability =  newdf_2_8.Liability.astype('category')\n",
    "newdf_2_8['Liability'] = data14['Liability'].map({\"Yes\":1, \"No\":0})"
   ]
  },
  {
   "cell_type": "code",
   "execution_count": 508,
   "metadata": {},
   "outputs": [
    {
     "name": "stdout",
     "output_type": "stream",
     "text": [
      "Optimization terminated successfully.\n",
      "         Current function value: 0.489458\n",
      "         Iterations 6\n"
     ]
    },
    {
     "data": {
      "text/html": [
       "<table class=\"simpletable\">\n",
       "<caption>Logit Regression Results</caption>\n",
       "<tr>\n",
       "  <th>Dep. Variable:</th>     <td>Liability</td>    <th>  No. Observations:  </th>  <td>   477</td>  \n",
       "</tr>\n",
       "<tr>\n",
       "  <th>Model:</th>               <td>Logit</td>      <th>  Df Residuals:      </th>  <td>   475</td>  \n",
       "</tr>\n",
       "<tr>\n",
       "  <th>Method:</th>               <td>MLE</td>       <th>  Df Model:          </th>  <td>     1</td>  \n",
       "</tr>\n",
       "<tr>\n",
       "  <th>Date:</th>          <td>Fri, 08 Jun 2018</td> <th>  Pseudo R-squ.:     </th>  <td>0.2720</td>  \n",
       "</tr>\n",
       "<tr>\n",
       "  <th>Time:</th>              <td>03:25:09</td>     <th>  Log-Likelihood:    </th> <td> -233.47</td> \n",
       "</tr>\n",
       "<tr>\n",
       "  <th>converged:</th>           <td>True</td>       <th>  LL-Null:           </th> <td> -320.70</td> \n",
       "</tr>\n",
       "<tr>\n",
       "  <th> </th>                      <td> </td>        <th>  LLR p-value:       </th> <td>7.869e-40</td>\n",
       "</tr>\n",
       "</table>\n",
       "<table class=\"simpletable\">\n",
       "<tr>\n",
       "        <td></td>           <th>coef</th>     <th>std err</th>      <th>z</th>      <th>P>|z|</th>  <th>[0.025</th>    <th>0.975]</th>  \n",
       "</tr>\n",
       "<tr>\n",
       "  <th>Intercept</th>     <td>    1.8092</td> <td>    0.247</td> <td>    7.310</td> <td> 0.000</td> <td>    1.324</td> <td>    2.294</td>\n",
       "</tr>\n",
       "<tr>\n",
       "  <th>C(Q40)[T.3.0]</th> <td>   -3.0961</td> <td>    0.280</td> <td>  -11.051</td> <td> 0.000</td> <td>   -3.645</td> <td>   -2.547</td>\n",
       "</tr>\n",
       "</table>"
      ],
      "text/plain": [
       "<class 'statsmodels.iolib.summary.Summary'>\n",
       "\"\"\"\n",
       "                           Logit Regression Results                           \n",
       "==============================================================================\n",
       "Dep. Variable:              Liability   No. Observations:                  477\n",
       "Model:                          Logit   Df Residuals:                      475\n",
       "Method:                           MLE   Df Model:                            1\n",
       "Date:                Fri, 08 Jun 2018   Pseudo R-squ.:                  0.2720\n",
       "Time:                        03:25:09   Log-Likelihood:                -233.47\n",
       "converged:                       True   LL-Null:                       -320.70\n",
       "                                        LLR p-value:                 7.869e-40\n",
       "=================================================================================\n",
       "                    coef    std err          z      P>|z|      [0.025      0.975]\n",
       "---------------------------------------------------------------------------------\n",
       "Intercept         1.8092      0.247      7.310      0.000       1.324       2.294\n",
       "C(Q40)[T.3.0]    -3.0961      0.280    -11.051      0.000      -3.645      -2.547\n",
       "=================================================================================\n",
       "\"\"\""
      ]
     },
     "execution_count": 508,
     "metadata": {},
     "output_type": "execute_result"
    }
   ],
   "source": [
    "stats.chisqprob = lambda chisq, df: stats.chi2.sf(chisq, df)\n",
    "logit_model = smf.logit(formula= 'Liability ~ C(Q40)', data = newdf_2_8.query(\"Q40 == '2.0' |  Q40 == '3.0'\")).fit()\n",
    "logit_model.summary()"
   ]
  },
  {
   "cell_type": "markdown",
   "metadata": {},
   "source": [
    "We got convergence error when running the logistic regression model with Q40 values as 1(i:e Yes), as all people who said **Yes to Q40** also said **Yes to Liability**.  so we removed value with 1 and rerun the model.\n"
   ]
  },
  {
   "cell_type": "code",
   "execution_count": 509,
   "metadata": {},
   "outputs": [
    {
     "name": "stdout",
     "output_type": "stream",
     "text": [
      "135.0034049537509\n",
      "0.27612544656126825\n"
     ]
    }
   ],
   "source": [
    "print(np.exp(1.8092+3.0961))  ## Odd when Q40 is maybe \n",
    "print(np.exp(12.7067 -13.9936))   ## Odd when Q40 is No "
   ]
  },
  {
   "cell_type": "markdown",
   "metadata": {},
   "source": [
    "### Observation From Model 1\n",
    "--------------\n",
    "\n",
    "<font color = blue >The model can be written as : </font> \n",
    "\n",
    "$Liability = \\beta_0 + \\beta_1 Q40(No)$ \n",
    "\n",
    "> The intercept ($\\beta_0$) is the **Base condition** when the Juror said \"No\" to Q40 i:e do not suggest that the original Carve 3000 was defective find X5 as Liable.\n",
    "\n",
    "From model coefficient, we can see that there is an increase in coefficient from \"No\" to \"Maybe\", that means low people awarded liability for \"No\" than \"Maybe\"\n",
    "\n",
    "### Interm of odds:\n",
    "The odds of Juror saying \"No\" to Q40 and find X5 liable is **-3.0961**Interm of percentage its 21%.\n",
    "\n",
    "The odds ratio of Juror saying \"No\" to Q40 and find X5 liable is **1.8092** .Interm of percentage it is 86%. \n",
    "\n",
    " \n",
    "- Q40 Response(Yes) Liability (100%)                \n",
    "- Q40 Response (Maybe)   Liability (85%)            \n",
    "- Q40 Response(No) Liability(26%)\n"
   ]
  },
  {
   "cell_type": "markdown",
   "metadata": {},
   "source": [
    "\n",
    "<font color = red > Professor Bernard comment:</font>\n",
    "\n",
    "<font color = blue > Now to lets check the 2nd  part of the question i:e to compare if verdicts as a function of yes, no, maybe in 2 and 6 are different than those in 3,4,7 & 8.  If they do, check if the different instructions matter.  That is verdicts as function of yes, no, maybe or different in 3 and 7 vs 4 and 8.</font>.\n",
    "\n",
    "To compare path 2,6 vs 3,7 vs 4,8. we have replaced the path 6,7,8 with 2,3,4."
   ]
  },
  {
   "cell_type": "code",
   "execution_count": null,
   "metadata": {},
   "outputs": [],
   "source": [
    "newdf_2_8.Path.replace([6,7,8],[2,3,4], inplace = True)\n",
    "p = newdf_2_8.Path\n",
    "p = p.astype(str)\n",
    "p = p.replace(['2','3','4'],['2 & 6','3 & 7','4 & 8'])"
   ]
  },
  {
   "cell_type": "markdown",
   "metadata": {},
   "source": [
    "### Plot for Liability in path 2, 3 and 4.\n",
    "\n",
    "So now let's see if these paths have any significant difference or not."
   ]
  },
  {
   "cell_type": "code",
   "execution_count": 511,
   "metadata": {},
   "outputs": [
    {
     "data": {
      "image/png": "[encoded data removed]",
      "text/plain": [
       "<matplotlib.figure.Figure at 0x23308287c18>"
      ]
     },
     "metadata": {},
     "output_type": "display_data"
    }
   ],
   "source": [
    "_ = pd.crosstab([p,a], b).plot(kind='bar', fontsize = 10,\n",
    "                title='Plot for (2,6) vs (3,7) vs(5,8)', figsize=(10,5))"
   ]
  },
  {
   "cell_type": "code",
   "execution_count": null,
   "metadata": {},
   "outputs": [],
   "source": [
    "newdf_2_8.Q40.dropna(inplace = True)\n",
    "newdf_2_8.Q40.replace(['1.0', '2.0' , '3.0'],['Yes', 'May Be', 'No'], inplace = True)"
   ]
  },
  {
   "cell_type": "code",
   "execution_count": 513,
   "metadata": {},
   "outputs": [
    {
     "data": {
      "text/html": [
       "<div>\n",
       "<style scoped>\n",
       "    .dataframe tbody tr th:only-of-type {\n",
       "        vertical-align: middle;\n",
       "    }\n",
       "\n",
       "    .dataframe tbody tr th {\n",
       "        vertical-align: top;\n",
       "    }\n",
       "\n",
       "    .dataframe thead th {\n",
       "        text-align: right;\n",
       "    }\n",
       "</style>\n",
       "<table border=\"1\" class=\"dataframe\">\n",
       "  <thead>\n",
       "    <tr style=\"text-align: right;\">\n",
       "      <th></th>\n",
       "      <th>Path</th>\n",
       "      <th>2 &amp; 6</th>\n",
       "      <th>3 &amp; 7</th>\n",
       "      <th>4 &amp; 8</th>\n",
       "      <th>All</th>\n",
       "    </tr>\n",
       "    <tr>\n",
       "      <th>Q40</th>\n",
       "      <th>Liability</th>\n",
       "      <th></th>\n",
       "      <th></th>\n",
       "      <th></th>\n",
       "      <th></th>\n",
       "    </tr>\n",
       "  </thead>\n",
       "  <tbody>\n",
       "    <tr>\n",
       "      <th rowspan=\"2\" valign=\"top\">May Be</th>\n",
       "      <th>No</th>\n",
       "      <td>6</td>\n",
       "      <td>8</td>\n",
       "      <td>5</td>\n",
       "      <td>19</td>\n",
       "    </tr>\n",
       "    <tr>\n",
       "      <th>Yes</th>\n",
       "      <td>39</td>\n",
       "      <td>45</td>\n",
       "      <td>32</td>\n",
       "      <td>116</td>\n",
       "    </tr>\n",
       "    <tr>\n",
       "      <th rowspan=\"2\" valign=\"top\">No</th>\n",
       "      <th>No</th>\n",
       "      <td>90</td>\n",
       "      <td>87</td>\n",
       "      <td>91</td>\n",
       "      <td>268</td>\n",
       "    </tr>\n",
       "    <tr>\n",
       "      <th>Yes</th>\n",
       "      <td>13</td>\n",
       "      <td>32</td>\n",
       "      <td>29</td>\n",
       "      <td>74</td>\n",
       "    </tr>\n",
       "    <tr>\n",
       "      <th>Yes</th>\n",
       "      <th>Yes</th>\n",
       "      <td>40</td>\n",
       "      <td>18</td>\n",
       "      <td>18</td>\n",
       "      <td>76</td>\n",
       "    </tr>\n",
       "    <tr>\n",
       "      <th>All</th>\n",
       "      <th></th>\n",
       "      <td>188</td>\n",
       "      <td>190</td>\n",
       "      <td>175</td>\n",
       "      <td>553</td>\n",
       "    </tr>\n",
       "  </tbody>\n",
       "</table>\n",
       "</div>"
      ],
      "text/plain": [
       "Path              2 & 6  3 & 7  4 & 8  All\n",
       "Q40    Liability                          \n",
       "May Be No             6      8      5   19\n",
       "       Yes           39     45     32  116\n",
       "No     No            90     87     91  268\n",
       "       Yes           13     32     29   74\n",
       "Yes    Yes           40     18     18   76\n",
       "All                 188    190    175  553"
      ]
     },
     "execution_count": 513,
     "metadata": {},
     "output_type": "execute_result"
    }
   ],
   "source": [
    "pd.crosstab([newdf_2_8.Q40,data14.Liability],p, margins=True)"
   ]
  },
  {
   "cell_type": "markdown",
   "metadata": {},
   "source": [
    "\n",
    "## Observations (Verdict rate for each path)\n",
    "\n",
    "### 1: From Table:\n",
    "---------------\n",
    "\n",
    "**For Path (2,6) : (No jury Instruction, Subsequent Remedial Mesure (Added code Insert))**\n",
    "\n",
    "> When a juror strongly accepts the fact that later core insert implies that the original Carve 3000 was defective, i:e **Yes to Q40, the verdict rate is 100 %.**\n",
    "\n",
    ">When a juror somewhat accepts the fact that later core insert implies that the original Carve 3000 was defective, i:e **May Be to Q40, the verdict rate is 86 %.**\n",
    "\n",
    ">When a juror is denied the fact that later core insert implies that the original Carve 3000 was defective, i:e **No to Q40, the verdict rate is 12%.**\n",
    "\n",
    "**For Path (3,7): (Simple Limiting Jury Instruction)**\n",
    "\n",
    "> When a juror strongly accepts the fact that later core insert implies that the original Carve 3000 was defective, i:e **Yes** to Q40, the verdict rate is **100 %.**\n",
    "\n",
    ">When a juror somewhat accepts the fact that later core insert implies that the original Carve 3000 was defective, i:e **May Be** to Q40, the verdict rate is **85%.**\n",
    "\n",
    ">When a juror is denied the fact that later core insert implies that the original Carve 3000 was defective, i:e **No** to Q40, the verdict rate is **27%.**\n",
    "\n",
    "**For Path (4,8): (Jury Instruction with Explanation)**\n",
    "\n",
    "> When a juror strongly accepts the fact that later core insert implies that the original Carve 3000 was defective, i:e **Yes** to Q40, the verdict rate is **100%.**\n",
    "\n",
    ">When a juror somewhat accepts the fact that later core insert implies that the original Carve 3000 was defective, i:e **May Be** to Q40, the verdict rate is **86%.**\n",
    "\n",
    ">When a juror is denied the fact that later core insert implies that the original Carve 3000 was defective, i:e **No** to Q40, the verdict rate is **24%.**\n",
    "\n",
    "#### Winrate Observation from Table:\n",
    "\n",
    "Overal Winrate for  path (2,6) is 49% , for path (3,7) is 50% and path (3,7) is 45%.\n",
    "\n",
    "<font color = red>1) From the table we can see that, the winrate slightly increasing(1%) when limiting jury instructions introduce in Path 3 and 7.</font>\n",
    "\n",
    "2) Win rate decreases by around 5% when complex jury instruction added in path 4 and 8 as compare to path 3 and 7 keeping the response fixed."
   ]
  },
  {
   "cell_type": "markdown",
   "metadata": {},
   "source": [
    "### 2: From Plot:\n",
    "------------------\n",
    "1) When a juror has **strongly** suggested that the original Carve 3000 was defective, all of them responded to the liability question as **\"Yes\"** for all paths.\n",
    "\n",
    "2) When a juror is **somewhat** suggested that the original Carve 3000 was defective, they are more likely to respond the liability question as **\"Yes\"**.\n",
    "\n",
    "3) When a juror is saying **\"No\"** to Q40 and saying that it does not suggest that the original Carve 3000 was defective, they are more likely to respond the liability question as **\"No\"**.\n",
    "\n",
    "**<font color = red> We can say that Q40 is an important factor while deciding Liability</font>**"
   ]
  },
  {
   "cell_type": "markdown",
   "metadata": {},
   "source": [
    "<font color=\"blue\" size=4><b> 2. Regression of Q40 vs Liability (Model 2)</b></font>\n",
    "\n",
    "------------------------\n",
    "**Effect of juror response for Q40 (Yes, No, Maybe) for different paths on Liability.**\n",
    "\n",
    "Lets try to do the regression between <font color = red>Liability ~ Path+Q40</font>. But before that, we should check if there is any collinearity between those attributes exists or not."
   ]
  },
  {
   "cell_type": "code",
   "execution_count": 514,
   "metadata": {},
   "outputs": [
    {
     "data": {
      "text/html": [
       "<table class=\"simpletable\">\n",
       "<caption>OLS Regression Results</caption>\n",
       "<tr>\n",
       "  <th>Dep. Variable:</th>        <td>Liability</td>    <th>  R-squared:         </th> <td>   0.467</td>\n",
       "</tr>\n",
       "<tr>\n",
       "  <th>Model:</th>                   <td>OLS</td>       <th>  Adj. R-squared:    </th> <td>   0.463</td>\n",
       "</tr>\n",
       "<tr>\n",
       "  <th>Method:</th>             <td>Least Squares</td>  <th>  F-statistic:       </th> <td>   119.8</td>\n",
       "</tr>\n",
       "<tr>\n",
       "  <th>Date:</th>             <td>Fri, 08 Jun 2018</td> <th>  Prob (F-statistic):</th> <td>2.13e-73</td>\n",
       "</tr>\n",
       "<tr>\n",
       "  <th>Time:</th>                 <td>03:25:10</td>     <th>  Log-Likelihood:    </th> <td> -227.20</td>\n",
       "</tr>\n",
       "<tr>\n",
       "  <th>No. Observations:</th>      <td>   553</td>      <th>  AIC:               </th> <td>   464.4</td>\n",
       "</tr>\n",
       "<tr>\n",
       "  <th>Df Residuals:</th>          <td>   548</td>      <th>  BIC:               </th> <td>   486.0</td>\n",
       "</tr>\n",
       "<tr>\n",
       "  <th>Df Model:</th>              <td>     4</td>      <th>                     </th>     <td> </td>   \n",
       "</tr>\n",
       "<tr>\n",
       "  <th>Covariance Type:</th>      <td>nonrobust</td>    <th>                     </th>     <td> </td>   \n",
       "</tr>\n",
       "</table>\n",
       "<table class=\"simpletable\">\n",
       "<tr>\n",
       "        <td></td>           <th>coef</th>     <th>std err</th>      <th>t</th>      <th>P>|t|</th>  <th>[0.025</th>    <th>0.975]</th>  \n",
       "</tr>\n",
       "<tr>\n",
       "  <th>Intercept</th>     <td>    0.8094</td> <td>    0.039</td> <td>   20.952</td> <td> 0.000</td> <td>    0.733</td> <td>    0.885</td>\n",
       "</tr>\n",
       "<tr>\n",
       "  <th>C(Path)[T.3]</th>  <td>    0.0796</td> <td>    0.038</td> <td>    2.089</td> <td> 0.037</td> <td>    0.005</td> <td>    0.154</td>\n",
       "</tr>\n",
       "<tr>\n",
       "  <th>C(Path)[T.4]</th>  <td>    0.0680</td> <td>    0.039</td> <td>    1.749</td> <td> 0.081</td> <td>   -0.008</td> <td>    0.144</td>\n",
       "</tr>\n",
       "<tr>\n",
       "  <th>C(Q40)[T.No]</th>  <td>   -0.6446</td> <td>    0.037</td> <td>  -17.257</td> <td> 0.000</td> <td>   -0.718</td> <td>   -0.571</td>\n",
       "</tr>\n",
       "<tr>\n",
       "  <th>C(Q40)[T.Yes]</th> <td>    0.1557</td> <td>    0.053</td> <td>    2.937</td> <td> 0.003</td> <td>    0.052</td> <td>    0.260</td>\n",
       "</tr>\n",
       "</table>\n",
       "<table class=\"simpletable\">\n",
       "<tr>\n",
       "  <th>Omnibus:</th>       <td>52.348</td> <th>  Durbin-Watson:     </th> <td>   2.014</td>\n",
       "</tr>\n",
       "<tr>\n",
       "  <th>Prob(Omnibus):</th> <td> 0.000</td> <th>  Jarque-Bera (JB):  </th> <td>  68.185</td>\n",
       "</tr>\n",
       "<tr>\n",
       "  <th>Skew:</th>          <td> 0.739</td> <th>  Prob(JB):          </th> <td>1.56e-15</td>\n",
       "</tr>\n",
       "<tr>\n",
       "  <th>Kurtosis:</th>      <td> 3.880</td> <th>  Cond. No.          </th> <td>    5.54</td>\n",
       "</tr>\n",
       "</table>"
      ],
      "text/plain": [
       "<class 'statsmodels.iolib.summary.Summary'>\n",
       "\"\"\"\n",
       "                            OLS Regression Results                            \n",
       "==============================================================================\n",
       "Dep. Variable:              Liability   R-squared:                       0.467\n",
       "Model:                            OLS   Adj. R-squared:                  0.463\n",
       "Method:                 Least Squares   F-statistic:                     119.8\n",
       "Date:                Fri, 08 Jun 2018   Prob (F-statistic):           2.13e-73\n",
       "Time:                        03:25:10   Log-Likelihood:                -227.20\n",
       "No. Observations:                 553   AIC:                             464.4\n",
       "Df Residuals:                     548   BIC:                             486.0\n",
       "Df Model:                           4                                         \n",
       "Covariance Type:            nonrobust                                         \n",
       "=================================================================================\n",
       "                    coef    std err          t      P>|t|      [0.025      0.975]\n",
       "---------------------------------------------------------------------------------\n",
       "Intercept         0.8094      0.039     20.952      0.000       0.733       0.885\n",
       "C(Path)[T.3]      0.0796      0.038      2.089      0.037       0.005       0.154\n",
       "C(Path)[T.4]      0.0680      0.039      1.749      0.081      -0.008       0.144\n",
       "C(Q40)[T.No]     -0.6446      0.037    -17.257      0.000      -0.718      -0.571\n",
       "C(Q40)[T.Yes]     0.1557      0.053      2.937      0.003       0.052       0.260\n",
       "==============================================================================\n",
       "Omnibus:                       52.348   Durbin-Watson:                   2.014\n",
       "Prob(Omnibus):                  0.000   Jarque-Bera (JB):               68.185\n",
       "Skew:                           0.739   Prob(JB):                     1.56e-15\n",
       "Kurtosis:                       3.880   Cond. No.                         5.54\n",
       "==============================================================================\n",
       "\n",
       "Warnings:\n",
       "[1] Standard Errors assume that the covariance matrix of the errors is correctly specified.\n",
       "\"\"\""
      ]
     },
     "execution_count": 514,
     "metadata": {},
     "output_type": "execute_result"
    }
   ],
   "source": [
    "import statsmodels.formula.api as sm\n",
    "results = sm.ols(formula= 'Liability ~ C(Path) + C(Q40)',data =newdf_2_8).fit()\n",
    "results.summary()"
   ]
  },
  {
   "cell_type": "markdown",
   "metadata": {},
   "source": [
    "**Condition number can be computed using eigenvalues of the normalized predictor variable. If the value is small it indicates that there is no collinearity between the variable else there should be an error indicating that the condition number is high.**\n",
    "\n",
    "Cond. No -> 5.54 which is less.\n",
    "Removing \"Yes\" due to convergence error."
   ]
  },
  {
   "cell_type": "code",
   "execution_count": 515,
   "metadata": {},
   "outputs": [
    {
     "name": "stdout",
     "output_type": "stream",
     "text": [
      "Optimization terminated successfully.\n",
      "         Current function value: 0.483903\n",
      "         Iterations 6\n"
     ]
    },
    {
     "data": {
      "text/html": [
       "<table class=\"simpletable\">\n",
       "<caption>Logit Regression Results</caption>\n",
       "<tr>\n",
       "  <th>Dep. Variable:</th>     <td>Liability</td>    <th>  No. Observations:  </th>  <td>   477</td>  \n",
       "</tr>\n",
       "<tr>\n",
       "  <th>Model:</th>               <td>Logit</td>      <th>  Df Residuals:      </th>  <td>   473</td>  \n",
       "</tr>\n",
       "<tr>\n",
       "  <th>Method:</th>               <td>MLE</td>       <th>  Df Model:          </th>  <td>     3</td>  \n",
       "</tr>\n",
       "<tr>\n",
       "  <th>Date:</th>          <td>Fri, 08 Jun 2018</td> <th>  Pseudo R-squ.:     </th>  <td>0.2803</td>  \n",
       "</tr>\n",
       "<tr>\n",
       "  <th>Time:</th>              <td>03:25:10</td>     <th>  Log-Likelihood:    </th> <td> -230.82</td> \n",
       "</tr>\n",
       "<tr>\n",
       "  <th>converged:</th>           <td>True</td>       <th>  LL-Null:           </th> <td> -320.70</td> \n",
       "</tr>\n",
       "<tr>\n",
       "  <th> </th>                      <td> </td>        <th>  LLR p-value:       </th> <td>9.962e-39</td>\n",
       "</tr>\n",
       "</table>\n",
       "<table class=\"simpletable\">\n",
       "<tr>\n",
       "        <td></td>          <th>coef</th>     <th>std err</th>      <th>z</th>      <th>P>|z|</th>  <th>[0.025</th>    <th>0.975]</th>  \n",
       "</tr>\n",
       "<tr>\n",
       "  <th>Intercept</th>    <td>    1.4395</td> <td>    0.291</td> <td>    4.943</td> <td> 0.000</td> <td>    0.869</td> <td>    2.010</td>\n",
       "</tr>\n",
       "<tr>\n",
       "  <th>C(Q40)[T.No]</th> <td>   -3.1610</td> <td>    0.287</td> <td>  -11.017</td> <td> 0.000</td> <td>   -3.723</td> <td>   -2.599</td>\n",
       "</tr>\n",
       "<tr>\n",
       "  <th>C(Path)[T.3]</th> <td>    0.6312</td> <td>    0.296</td> <td>    2.133</td> <td> 0.033</td> <td>    0.051</td> <td>    1.211</td>\n",
       "</tr>\n",
       "<tr>\n",
       "  <th>C(Path)[T.4]</th> <td>    0.5524</td> <td>    0.303</td> <td>    1.826</td> <td> 0.068</td> <td>   -0.041</td> <td>    1.145</td>\n",
       "</tr>\n",
       "</table>"
      ],
      "text/plain": [
       "<class 'statsmodels.iolib.summary.Summary'>\n",
       "\"\"\"\n",
       "                           Logit Regression Results                           \n",
       "==============================================================================\n",
       "Dep. Variable:              Liability   No. Observations:                  477\n",
       "Model:                          Logit   Df Residuals:                      473\n",
       "Method:                           MLE   Df Model:                            3\n",
       "Date:                Fri, 08 Jun 2018   Pseudo R-squ.:                  0.2803\n",
       "Time:                        03:25:10   Log-Likelihood:                -230.82\n",
       "converged:                       True   LL-Null:                       -320.70\n",
       "                                        LLR p-value:                 9.962e-39\n",
       "================================================================================\n",
       "                   coef    std err          z      P>|z|      [0.025      0.975]\n",
       "--------------------------------------------------------------------------------\n",
       "Intercept        1.4395      0.291      4.943      0.000       0.869       2.010\n",
       "C(Q40)[T.No]    -3.1610      0.287    -11.017      0.000      -3.723      -2.599\n",
       "C(Path)[T.3]     0.6312      0.296      2.133      0.033       0.051       1.211\n",
       "C(Path)[T.4]     0.5524      0.303      1.826      0.068      -0.041       1.145\n",
       "================================================================================\n",
       "\"\"\""
      ]
     },
     "execution_count": 515,
     "metadata": {},
     "output_type": "execute_result"
    }
   ],
   "source": [
    "logit_model = smf.logit(formula= 'Liability ~ C(Q40) + C(Path) ', \n",
    "              data = newdf_2_8[newdf_2_8.Q40.isin(['No','May Be'])]).fit()\n",
    "logit_model.summary()"
   ]
  },
  {
   "cell_type": "code",
   "execution_count": 516,
   "metadata": {},
   "outputs": [
    {
     "name": "stdout",
     "output_type": "stream",
     "text": [
      "0.8083772116328087\n",
      "0.8880225872818766\n",
      "0.5196898124951566\n"
     ]
    }
   ],
   "source": [
    "print(np.exp(1.4395)/(1+np.exp(1.4395)))\n",
    "print(np.exp(1.4395+0.6312)/(1+np.exp(1.4395+0.6312)))\n",
    "print(np.exp(0.6312 - 0.5524)/(1+np.exp(0.6312 - 0.5524)))"
   ]
  },
  {
   "cell_type": "markdown",
   "metadata": {},
   "source": [
    "### Observation From Model 2\n",
    "\n",
    "\n",
    "<font color = blue >The model can be written as : </font> \n",
    "\n",
    "$Liability = \\beta_0 + \\beta_1 Q40(No) + \\beta_2 path(3)+ \\beta_4 Path(4)$\n",
    "\n",
    "> The intercept ($\\beta_0$) is the **Base condition** when the path is 2 and Juror said \"May be\" to Q40 i:e a juror somewhat suggested that the original Carve 3000 was defective find X5 as Liable belong to path 2.\n",
    "\n",
    "### Interpretation of Liability for Path 2,6 vs 3,7:\n",
    "\n",
    "As we have replaced the path 6,7 with 2,3 let's see the Liability for path 2 vs 3.\n",
    "\n",
    "<font color = blue >($\\beta_0$)</font> : Log odd of finding Liability at Path 2 when juror what somewhat agree to Q40 and no limiting jury instruction introduced is **1.4395**.Interm of percentage around 81%.\n",
    "\n",
    "<font color = blue >($\\beta_1$)</font> : When we change the path from 2 to 3 (when simple limiting jury instruction was introduced) , it tells us the log odd ratio of awarding Liability i:e **0.6312**    \n",
    "\n",
    "Keeping the juror response fixed for Q40, The odds of awarding Liability is about <font color = blue > 2 </font> times greater when **No** Limiting jury instruction introduced (path 2) than Limiting Jury instruction introduced (in path 3).\n",
    "\n",
    "Comparing to the base scenario, keeping the response for Q40 fixed, when we change from scenario 2 to 3, the odds ratio of awarding liability is 0.6312, Interm of percentage 89%(8% increase) from the path (2-3).\n",
    "\n",
    "### Interpretation of Liability from Path 2,6 vs 4,8:\n",
    "\n",
    "Comparing to the base scenario and keeping the response for Q40 fixed, when we change from path 2 to 4 (complex limiting jury instruction introduced), the odds ratio of awarding liability is 0.5524, Interm of percentage its 88% (7% increase)compare to path 2.\n",
    "\n",
    "### Interpretation of Liability from Path 3,7 vs 4,8:\n",
    "\n",
    "When we change from path 3 (simple limiting jury instruction) to 4 (complex limiting jury instruction) , the odds ratio of awarding liability reduces by 1%.\n"
   ]
  },
  {
   "cell_type": "markdown",
   "metadata": {},
   "source": [
    "# Question 2:\n",
    "--------------------------------------------------------------------\n",
    "\n",
    "**Question:** \n",
    "\n",
    "<font color = red> With respect to the 2nd questions, again answers from participants in versions 1,2 and 5 and 6  are meaningless. They did not receive the jury instruction telling them to ignore the evidence.  Again, we should do the same analysis as above. Do people that say they can ignore the evidence have lower liability verdicts than people that say they cannot ignore the evidence (for the remaining scenarios 3-4 and 7-8).</font>\n",
    "\n",
    "\n",
    "\n",
    "#### Solution:\n",
    "-----------------------------\n",
    "\n",
    "The question 41 is:\n",
    "\n",
    "**'Were you able to ignore the  fact that X5 added core inserts to the later Carve 3000 model when deciding whether the original Carve 3000 was defective?'**\n",
    "\n",
    "The responses for this question can be :\n",
    "\n",
    "- Yes, I was able to ignore that evidence  (1) \n",
    "- No, I was not able to ignore that evidence  (3) \n",
    "\n",
    "At first we removed the observations with value <font color = red>(1,3)</font>. And we have already replaced the path 7,8 with path 3 and 4."
   ]
  },
  {
   "cell_type": "code",
   "execution_count": 517,
   "metadata": {},
   "outputs": [],
   "source": [
    "newdf_3_4 = data14[data14['Path'].isin([3,4]) & data14.Q41.isin(['1','3'])]"
   ]
  },
  {
   "cell_type": "markdown",
   "metadata": {},
   "source": [
    "Now let build a table with **Total liability count** for both **path** and for **both response to Question 41**."
   ]
  },
  {
   "cell_type": "code",
   "execution_count": 518,
   "metadata": {},
   "outputs": [
    {
     "data": {
      "text/html": [
       "<div>\n",
       "<style scoped>\n",
       "    .dataframe tbody tr th:only-of-type {\n",
       "        vertical-align: middle;\n",
       "    }\n",
       "\n",
       "    .dataframe tbody tr th {\n",
       "        vertical-align: top;\n",
       "    }\n",
       "\n",
       "    .dataframe thead th {\n",
       "        text-align: right;\n",
       "    }\n",
       "</style>\n",
       "<table border=\"1\" class=\"dataframe\">\n",
       "  <thead>\n",
       "    <tr style=\"text-align: right;\">\n",
       "      <th></th>\n",
       "      <th>Path</th>\n",
       "      <th>3 &amp; 7</th>\n",
       "      <th>4 &amp; 8</th>\n",
       "      <th>Total</th>\n",
       "    </tr>\n",
       "    <tr>\n",
       "      <th>Q41</th>\n",
       "      <th>Liability</th>\n",
       "      <th></th>\n",
       "      <th></th>\n",
       "      <th></th>\n",
       "    </tr>\n",
       "  </thead>\n",
       "  <tbody>\n",
       "    <tr>\n",
       "      <th rowspan=\"2\" valign=\"top\">No</th>\n",
       "      <th>No</th>\n",
       "      <td>5</td>\n",
       "      <td>2</td>\n",
       "      <td>7</td>\n",
       "    </tr>\n",
       "    <tr>\n",
       "      <th>Yes</th>\n",
       "      <td>32</td>\n",
       "      <td>24</td>\n",
       "      <td>56</td>\n",
       "    </tr>\n",
       "    <tr>\n",
       "      <th rowspan=\"2\" valign=\"top\">Yes</th>\n",
       "      <th>No</th>\n",
       "      <td>79</td>\n",
       "      <td>82</td>\n",
       "      <td>161</td>\n",
       "    </tr>\n",
       "    <tr>\n",
       "      <th>Yes</th>\n",
       "      <td>48</td>\n",
       "      <td>43</td>\n",
       "      <td>91</td>\n",
       "    </tr>\n",
       "    <tr>\n",
       "      <th>Total</th>\n",
       "      <th></th>\n",
       "      <td>164</td>\n",
       "      <td>151</td>\n",
       "      <td>315</td>\n",
       "    </tr>\n",
       "  </tbody>\n",
       "</table>\n",
       "</div>"
      ],
      "text/plain": [
       "Path             3 & 7  4 & 8  Total\n",
       "Q41   Liability                     \n",
       "No    No             5      2      7\n",
       "      Yes           32     24     56\n",
       "Yes   No            79     82    161\n",
       "      Yes           48     43     91\n",
       "Total              164    151    315"
      ]
     },
     "execution_count": 518,
     "metadata": {},
     "output_type": "execute_result"
    }
   ],
   "source": [
    "a1 = newdf_3_4['Q41'].replace(['1','3'], ['Yes','No'])\n",
    "a1 = a1[a1.apply(len) > 0]\n",
    "\n",
    "b1 = data14['Liability']\n",
    "\n",
    "c =  newdf_3_4.Path\n",
    "c = c.astype(str)\n",
    "c.replace(['3','4'],['3 & 7','4 & 8'],inplace = True)\n",
    "\n",
    "p = pd.crosstab([a1,b1], c,  margins=True , margins_name='Total')\n",
    "p"
   ]
  },
  {
   "cell_type": "markdown",
   "metadata": {},
   "source": [
    "### Observation (Verdict rate for each path)\n",
    "--------------------------------------------\n",
    "\n",
    "**For Path (3,7)**\n",
    "> When the  says that **he can ignore the fact that X5 added core inserts to the later Carve 3000 model i:e **Yes** to Q41, the verdict rate is **38%.**\n",
    "\n",
    "> When the juror says that **he can not ignore the fact that X5 added core inserts to the later Carve 3000 model i:e **No** to Q41, the verdict rate increases significantly  to **86%.**\n",
    "\n",
    "**For Path (4,8)**\n",
    "\n",
    "> When the juror says that **he can ignore the fact that X5 added core inserts to the later Carve 3000 model i:e **Yes** to Q41, the verdict rate is **34%.**\n",
    "\n",
    "> When the juror says that **he can not ignore the fact that X5 added core inserts to the later Carve 3000 model i:e **No** to Q41, the verdict rate increases significantly  to **92%.**\n",
    "\n",
    "Overal Winrate for  **path (3 & 7) is 48% and for path (4 & 8) is 44%.**\n",
    "\n",
    "### Plot for Path (3,7) and (4,8) \n"
   ]
  },
  {
   "cell_type": "code",
   "execution_count": 519,
   "metadata": {},
   "outputs": [
    {
     "data": {
      "image/png": "[encoded data removed]",
      "text/plain": [
       "<matplotlib.figure.Figure at 0x233068ab2e8>"
      ]
     },
     "metadata": {},
     "output_type": "display_data"
    },
    {
     "data": {
      "image/png": "[encoded data removed]",
      "text/plain": [
       "<matplotlib.figure.Figure at 0x233081302e8>"
      ]
     },
     "metadata": {},
     "output_type": "display_data"
    }
   ],
   "source": [
    "_ = p.plot(kind='bar', fontsize = 10, figsize=(8,5), \n",
    "           title='Plot for Liability and Q41 vs Path') \n",
    "_ = pd.crosstab([c, a1],b1).plot(kind='bar', fontsize = 10, figsize=(8,5), \n",
    "                                 title='Plot for Liability vs Path')  "
   ]
  },
  {
   "cell_type": "code",
   "execution_count": null,
   "metadata": {},
   "outputs": [],
   "source": [
    "import statsmodels.formula.api as smf # stats model formula\n",
    "import seaborn as sb # statistical visulaization\n",
    "%matplotlib inline \n",
    "import matplotlib.pyplot as plt\n",
    "sb.set(style=\"darkgrid\", context=\"talk\")\n",
    "from scipy import stats\n",
    "import statsmodels.formula.api as sm\n",
    "\n",
    "newdf_3_4['Liability'] = newdf_3_4['Liability'].map({\"Yes\":1, \"No\":0})\n",
    "newdf_3_4.Q41 =  newdf_3_4.Q41.astype('category')"
   ]
  },
  {
   "cell_type": "code",
   "execution_count": 521,
   "metadata": {},
   "outputs": [
    {
     "name": "stdout",
     "output_type": "stream",
     "text": [
      "Optimization terminated successfully.\n",
      "         Current function value: 0.593010\n",
      "         Iterations 6\n"
     ]
    },
    {
     "data": {
      "text/html": [
       "<table class=\"simpletable\">\n",
       "<caption>Logit Regression Results</caption>\n",
       "<tr>\n",
       "  <th>Dep. Variable:</th>     <td>Liability</td>    <th>  No. Observations:  </th>  <td>   315</td>  \n",
       "</tr>\n",
       "<tr>\n",
       "  <th>Model:</th>               <td>Logit</td>      <th>  Df Residuals:      </th>  <td>   313</td>  \n",
       "</tr>\n",
       "<tr>\n",
       "  <th>Method:</th>               <td>MLE</td>       <th>  Df Model:          </th>  <td>     1</td>  \n",
       "</tr>\n",
       "<tr>\n",
       "  <th>Date:</th>          <td>Fri, 08 Jun 2018</td> <th>  Pseudo R-squ.:     </th>  <td>0.1417</td>  \n",
       "</tr>\n",
       "<tr>\n",
       "  <th>Time:</th>              <td>03:25:12</td>     <th>  Log-Likelihood:    </th> <td> -186.80</td> \n",
       "</tr>\n",
       "<tr>\n",
       "  <th>converged:</th>           <td>True</td>       <th>  LL-Null:           </th> <td> -217.64</td> \n",
       "</tr>\n",
       "<tr>\n",
       "  <th> </th>                      <td> </td>        <th>  LLR p-value:       </th> <td>4.030e-15</td>\n",
       "</tr>\n",
       "</table>\n",
       "<table class=\"simpletable\">\n",
       "<tr>\n",
       "      <td></td>         <th>coef</th>     <th>std err</th>      <th>z</th>      <th>P>|z|</th>  <th>[0.025</th>    <th>0.975]</th>  \n",
       "</tr>\n",
       "<tr>\n",
       "  <th>Intercept</th> <td>   -0.5705</td> <td>    0.131</td> <td>   -4.350</td> <td> 0.000</td> <td>   -0.828</td> <td>   -0.313</td>\n",
       "</tr>\n",
       "<tr>\n",
       "  <th>Q41[T.3]</th>  <td>    2.6500</td> <td>    0.422</td> <td>    6.283</td> <td> 0.000</td> <td>    1.823</td> <td>    3.477</td>\n",
       "</tr>\n",
       "</table>"
      ],
      "text/plain": [
       "<class 'statsmodels.iolib.summary.Summary'>\n",
       "\"\"\"\n",
       "                           Logit Regression Results                           \n",
       "==============================================================================\n",
       "Dep. Variable:              Liability   No. Observations:                  315\n",
       "Model:                          Logit   Df Residuals:                      313\n",
       "Method:                           MLE   Df Model:                            1\n",
       "Date:                Fri, 08 Jun 2018   Pseudo R-squ.:                  0.1417\n",
       "Time:                        03:25:12   Log-Likelihood:                -186.80\n",
       "converged:                       True   LL-Null:                       -217.64\n",
       "                                        LLR p-value:                 4.030e-15\n",
       "==============================================================================\n",
       "                 coef    std err          z      P>|z|      [0.025      0.975]\n",
       "------------------------------------------------------------------------------\n",
       "Intercept     -0.5705      0.131     -4.350      0.000      -0.828      -0.313\n",
       "Q41[T.3]       2.6500      0.422      6.283      0.000       1.823       3.477\n",
       "==============================================================================\n",
       "\"\"\""
      ]
     },
     "execution_count": 521,
     "metadata": {},
     "output_type": "execute_result"
    }
   ],
   "source": [
    "results = smf.logit(formula= 'Liability ~ Q41', data = newdf_3_4).fit()\n",
    "results.summary()"
   ]
  },
  {
   "cell_type": "code",
   "execution_count": 522,
   "metadata": {},
   "outputs": [
    {
     "name": "stdout",
     "output_type": "stream",
     "text": [
      "0.3611214604671143\n",
      "0.8888946624188838\n"
     ]
    }
   ],
   "source": [
    "print(np.exp(-0.5705) /(1+np.exp(-0.5705)))\n",
    "print(np.exp(2.6500-0.5705) /(1+np.exp(2.6500-0.5705)))"
   ]
  },
  {
   "cell_type": "markdown",
   "metadata": {},
   "source": [
    "### Model Observations : \n",
    "-------------------------------------------\n",
    "From the Model, we can see that the response to Q41 is a significant factor in deciding Liability. As the p-val is very less (<0.05). \n",
    "\n",
    "Now \n",
    "\n",
    ">  The odds of finding liability when juror says that he can ignore the fact that X5 added core inserts to the later Carve 3000 model i:e **Yes** to Q41 is : -0.5705 interm of percentage its **36.11%**\n",
    "\n",
    ">  The odds ratio of finding liability when juror says that he can not ignore the fact that X5 added core inserts to the later Carve 3000 model i:e **No** to Q41 is :2.6500 and  interm of percentage its **89%**\n",
    "\n",
    "**<font color = blue> We find that Q41 is a significant factor for awarding liability</font>**"
   ]
  },
  {
   "cell_type": "markdown",
   "metadata": {},
   "source": [
    "<font color=\"blue\" size=5><b> Logistic regression with categorical variables Path(1-4) and Income</b></font>\n",
    "- ** Impact of Path and Income on Liability **\n",
    "\n",
    "$Liability = \\beta_0 + \\beta_1 Path$"
   ]
  },
  {
   "cell_type": "code",
   "execution_count": 523,
   "metadata": {},
   "outputs": [],
   "source": [
    "import statsmodels.formula.api as smf # stats model formula\n",
    "import seaborn as sb # statistical visulaization\n",
    "%matplotlib inline \n",
    "import matplotlib.pyplot as plt\n",
    "import numpy as np\n",
    "sb.set(style=\"darkgrid\", context=\"talk\")"
   ]
  },
  {
   "cell_type": "code",
   "execution_count": 524,
   "metadata": {},
   "outputs": [
    {
     "name": "stdout",
     "output_type": "stream",
     "text": [
      "Optimization terminated successfully.\n",
      "         Current function value: 0.685218\n",
      "         Iterations 4\n"
     ]
    },
    {
     "data": {
      "text/html": [
       "<table class=\"simpletable\">\n",
       "<caption>Logit Regression Results</caption>\n",
       "<tr>\n",
       "  <th>Dep. Variable:</th>     <td>Liability</td>    <th>  No. Observations:  </th>  <td>   729</td> \n",
       "</tr>\n",
       "<tr>\n",
       "  <th>Model:</th>               <td>Logit</td>      <th>  Df Residuals:      </th>  <td>   720</td> \n",
       "</tr>\n",
       "<tr>\n",
       "  <th>Method:</th>               <td>MLE</td>       <th>  Df Model:          </th>  <td>     8</td> \n",
       "</tr>\n",
       "<tr>\n",
       "  <th>Date:</th>          <td>Fri, 08 Jun 2018</td> <th>  Pseudo R-squ.:     </th> <td>0.007934</td>\n",
       "</tr>\n",
       "<tr>\n",
       "  <th>Time:</th>              <td>03:25:12</td>     <th>  Log-Likelihood:    </th> <td> -499.52</td>\n",
       "</tr>\n",
       "<tr>\n",
       "  <th>converged:</th>           <td>True</td>       <th>  LL-Null:           </th> <td> -503.52</td>\n",
       "</tr>\n",
       "<tr>\n",
       "  <th> </th>                      <td> </td>        <th>  LLR p-value:       </th>  <td>0.4344</td> \n",
       "</tr>\n",
       "</table>\n",
       "<table class=\"simpletable\">\n",
       "<tr>\n",
       "       <td></td>          <th>coef</th>     <th>std err</th>      <th>z</th>      <th>P>|z|</th>  <th>[0.025</th>    <th>0.975]</th>  \n",
       "</tr>\n",
       "<tr>\n",
       "  <th>Intercept</th>   <td>   -0.3729</td> <td>    0.405</td> <td>   -0.920</td> <td> 0.358</td> <td>   -1.167</td> <td>    0.422</td>\n",
       "</tr>\n",
       "<tr>\n",
       "  <th>Path[T.2]</th>   <td>    0.3163</td> <td>    0.214</td> <td>    1.479</td> <td> 0.139</td> <td>   -0.103</td> <td>    0.736</td>\n",
       "</tr>\n",
       "<tr>\n",
       "  <th>Path[T.3]</th>   <td>    0.3571</td> <td>    0.214</td> <td>    1.671</td> <td> 0.095</td> <td>   -0.062</td> <td>    0.776</td>\n",
       "</tr>\n",
       "<tr>\n",
       "  <th>Path[T.4]</th>   <td>    0.1681</td> <td>    0.217</td> <td>    0.774</td> <td> 0.439</td> <td>   -0.257</td> <td>    0.594</td>\n",
       "</tr>\n",
       "<tr>\n",
       "  <th>Income[T.2]</th> <td>    0.2763</td> <td>    0.424</td> <td>    0.652</td> <td> 0.515</td> <td>   -0.555</td> <td>    1.107</td>\n",
       "</tr>\n",
       "<tr>\n",
       "  <th>Income[T.3]</th> <td>   -0.0323</td> <td>    0.417</td> <td>   -0.077</td> <td> 0.938</td> <td>   -0.850</td> <td>    0.786</td>\n",
       "</tr>\n",
       "<tr>\n",
       "  <th>Income[T.4]</th> <td>   -0.1348</td> <td>    0.410</td> <td>   -0.329</td> <td> 0.742</td> <td>   -0.938</td> <td>    0.669</td>\n",
       "</tr>\n",
       "<tr>\n",
       "  <th>Income[T.5]</th> <td>    0.1001</td> <td>    0.443</td> <td>    0.226</td> <td> 0.821</td> <td>   -0.768</td> <td>    0.968</td>\n",
       "</tr>\n",
       "<tr>\n",
       "  <th>Income[T.6]</th> <td>    0.4335</td> <td>    0.778</td> <td>    0.557</td> <td> 0.578</td> <td>   -1.092</td> <td>    1.959</td>\n",
       "</tr>\n",
       "</table>"
      ],
      "text/plain": [
       "<class 'statsmodels.iolib.summary.Summary'>\n",
       "\"\"\"\n",
       "                           Logit Regression Results                           \n",
       "==============================================================================\n",
       "Dep. Variable:              Liability   No. Observations:                  729\n",
       "Model:                          Logit   Df Residuals:                      720\n",
       "Method:                           MLE   Df Model:                            8\n",
       "Date:                Fri, 08 Jun 2018   Pseudo R-squ.:                0.007934\n",
       "Time:                        03:25:12   Log-Likelihood:                -499.52\n",
       "converged:                       True   LL-Null:                       -503.52\n",
       "                                        LLR p-value:                    0.4344\n",
       "===============================================================================\n",
       "                  coef    std err          z      P>|z|      [0.025      0.975]\n",
       "-------------------------------------------------------------------------------\n",
       "Intercept      -0.3729      0.405     -0.920      0.358      -1.167       0.422\n",
       "Path[T.2]       0.3163      0.214      1.479      0.139      -0.103       0.736\n",
       "Path[T.3]       0.3571      0.214      1.671      0.095      -0.062       0.776\n",
       "Path[T.4]       0.1681      0.217      0.774      0.439      -0.257       0.594\n",
       "Income[T.2]     0.2763      0.424      0.652      0.515      -0.555       1.107\n",
       "Income[T.3]    -0.0323      0.417     -0.077      0.938      -0.850       0.786\n",
       "Income[T.4]    -0.1348      0.410     -0.329      0.742      -0.938       0.669\n",
       "Income[T.5]     0.1001      0.443      0.226      0.821      -0.768       0.968\n",
       "Income[T.6]     0.4335      0.778      0.557      0.578      -1.092       1.959\n",
       "===============================================================================\n",
       "\"\"\""
      ]
     },
     "execution_count": 524,
     "metadata": {},
     "output_type": "execute_result"
    }
   ],
   "source": [
    "import pandas as pd\n",
    "model1_data = pd.read_csv('cleaning.csv', encoding= 'ISO-8859-1')\n",
    "model1_data['Path'].replace([5,6,7,8], [1,2,3,4], inplace = True)\n",
    "model1_data['Liability'] = model1_data['Liability'].map({\"Yes\":1, \"No\":0})\n",
    "model1_data['Path']=model1_data['Path'].astype('category')\n",
    "model1_data['Income']=pd.Categorical(model1_data['Income'])\n",
    "from scipy import stats\n",
    "stats.chisqprob = lambda chisq, df: stats.chi2.sf(chisq, df)\n",
    "\n",
    "logit_model = smf.logit(formula= 'Liability~ Path+Income', data = model1_data).fit()\n",
    "logit_model.summary()"
   ]
  },
  {
   "cell_type": "markdown",
   "metadata": {},
   "source": [
    "- Cross tab for Liability vs Path and Liability vs Income"
   ]
  },
  {
   "cell_type": "code",
   "execution_count": 525,
   "metadata": {},
   "outputs": [
    {
     "data": {
      "text/html": [
       "<div>\n",
       "<style scoped>\n",
       "    .dataframe tbody tr th:only-of-type {\n",
       "        vertical-align: middle;\n",
       "    }\n",
       "\n",
       "    .dataframe tbody tr th {\n",
       "        vertical-align: top;\n",
       "    }\n",
       "\n",
       "    .dataframe thead th {\n",
       "        text-align: right;\n",
       "    }\n",
       "</style>\n",
       "<table border=\"1\" class=\"dataframe\">\n",
       "  <thead>\n",
       "    <tr style=\"text-align: right;\">\n",
       "      <th>Path</th>\n",
       "      <th>1</th>\n",
       "      <th>2</th>\n",
       "      <th>3</th>\n",
       "      <th>4</th>\n",
       "      <th>All</th>\n",
       "    </tr>\n",
       "    <tr>\n",
       "      <th>Liability</th>\n",
       "      <th></th>\n",
       "      <th></th>\n",
       "      <th></th>\n",
       "      <th></th>\n",
       "      <th></th>\n",
       "    </tr>\n",
       "  </thead>\n",
       "  <tbody>\n",
       "    <tr>\n",
       "      <th>No</th>\n",
       "      <td>103</td>\n",
       "      <td>96</td>\n",
       "      <td>95</td>\n",
       "      <td>96</td>\n",
       "      <td>390</td>\n",
       "    </tr>\n",
       "    <tr>\n",
       "      <th>Yes</th>\n",
       "      <td>73</td>\n",
       "      <td>92</td>\n",
       "      <td>95</td>\n",
       "      <td>79</td>\n",
       "      <td>339</td>\n",
       "    </tr>\n",
       "    <tr>\n",
       "      <th>All</th>\n",
       "      <td>176</td>\n",
       "      <td>188</td>\n",
       "      <td>190</td>\n",
       "      <td>175</td>\n",
       "      <td>729</td>\n",
       "    </tr>\n",
       "  </tbody>\n",
       "</table>\n",
       "</div>"
      ],
      "text/plain": [
       "Path         1    2    3    4  All\n",
       "Liability                         \n",
       "No         103   96   95   96  390\n",
       "Yes         73   92   95   79  339\n",
       "All        176  188  190  175  729"
      ]
     },
     "execution_count": 525,
     "metadata": {},
     "output_type": "execute_result"
    }
   ],
   "source": [
    "c =  model1_data.Liability\n",
    "c = c.astype(str)\n",
    "c.replace(['1','0'],['Yes','No'],inplace = True)\n",
    "pd.crosstab(c,model1_data.Path,margins=True)"
   ]
  },
  {
   "cell_type": "code",
   "execution_count": 526,
   "metadata": {},
   "outputs": [
    {
     "data": {
      "text/html": [
       "<div>\n",
       "<style scoped>\n",
       "    .dataframe tbody tr th:only-of-type {\n",
       "        vertical-align: middle;\n",
       "    }\n",
       "\n",
       "    .dataframe tbody tr th {\n",
       "        vertical-align: top;\n",
       "    }\n",
       "\n",
       "    .dataframe thead th {\n",
       "        text-align: right;\n",
       "    }\n",
       "</style>\n",
       "<table border=\"1\" class=\"dataframe\">\n",
       "  <thead>\n",
       "    <tr style=\"text-align: right;\">\n",
       "      <th>Income</th>\n",
       "      <th>1</th>\n",
       "      <th>2</th>\n",
       "      <th>3</th>\n",
       "      <th>4</th>\n",
       "      <th>5</th>\n",
       "      <th>6</th>\n",
       "      <th>All</th>\n",
       "    </tr>\n",
       "    <tr>\n",
       "      <th>Liability</th>\n",
       "      <th></th>\n",
       "      <th></th>\n",
       "      <th></th>\n",
       "      <th></th>\n",
       "      <th></th>\n",
       "      <th></th>\n",
       "      <th></th>\n",
       "    </tr>\n",
       "  </thead>\n",
       "  <tbody>\n",
       "    <tr>\n",
       "      <th>No</th>\n",
       "      <td>15</td>\n",
       "      <td>70</td>\n",
       "      <td>100</td>\n",
       "      <td>154</td>\n",
       "      <td>47</td>\n",
       "      <td>4</td>\n",
       "      <td>390</td>\n",
       "    </tr>\n",
       "    <tr>\n",
       "      <th>Yes</th>\n",
       "      <td>12</td>\n",
       "      <td>80</td>\n",
       "      <td>82</td>\n",
       "      <td>117</td>\n",
       "      <td>43</td>\n",
       "      <td>5</td>\n",
       "      <td>339</td>\n",
       "    </tr>\n",
       "    <tr>\n",
       "      <th>All</th>\n",
       "      <td>27</td>\n",
       "      <td>150</td>\n",
       "      <td>182</td>\n",
       "      <td>271</td>\n",
       "      <td>90</td>\n",
       "      <td>9</td>\n",
       "      <td>729</td>\n",
       "    </tr>\n",
       "  </tbody>\n",
       "</table>\n",
       "</div>"
      ],
      "text/plain": [
       "Income      1    2    3    4   5  6  All\n",
       "Liability                               \n",
       "No         15   70  100  154  47  4  390\n",
       "Yes        12   80   82  117  43  5  339\n",
       "All        27  150  182  271  90  9  729"
      ]
     },
     "execution_count": 526,
     "metadata": {},
     "output_type": "execute_result"
    }
   ],
   "source": [
    "pd.crosstab(c,model1_data.Income,margins=True)"
   ]
  },
  {
   "cell_type": "markdown",
   "metadata": {},
   "source": [
    "###  Graph of Liability vs Path"
   ]
  },
  {
   "cell_type": "code",
   "execution_count": 527,
   "metadata": {},
   "outputs": [
    {
     "data": {
      "text/plain": [
       "Text(0.5,1,'Liability Vs Path Graph')"
      ]
     },
     "execution_count": 527,
     "metadata": {},
     "output_type": "execute_result"
    },
    {
     "data": {
      "image/png": "[encoded data removed]",
      "text/plain": [
       "<matplotlib.figure.Figure at 0x233082ccd30>"
      ]
     },
     "metadata": {},
     "output_type": "display_data"
    }
   ],
   "source": [
    "pd.crosstab(model1_data.Path,model1_data.Liability).plot(kind='bar', fontsize = 15, figsize=(10,6))\n",
    "plt.title('Liability Vs Path Graph')\n"
   ]
  },
  {
   "cell_type": "markdown",
   "metadata": {},
   "source": [
    "### Graph of Liability vs Income"
   ]
  },
  {
   "cell_type": "code",
   "execution_count": 528,
   "metadata": {},
   "outputs": [
    {
     "data": {
      "text/plain": [
       "Text(0.5,1,'Liability Vs Income Graph')"
      ]
     },
     "execution_count": 528,
     "metadata": {},
     "output_type": "execute_result"
    },
    {
     "data": {
      "image/png": "[encoded data removed]",
      "text/plain": [
       "<matplotlib.figure.Figure at 0x23306a07630>"
      ]
     },
     "metadata": {},
     "output_type": "display_data"
    }
   ],
   "source": [
    "pd.crosstab(model1_data.Income,model1_data.Liability).plot(kind='bar', fontsize = 15, figsize=(10,6))\n",
    "plt.title('Liability Vs Income Graph')"
   ]
  },
  {
   "cell_type": "markdown",
   "metadata": {},
   "source": [
    "## Interpretation:\n",
    "--------------------\n",
    "\n",
    "<font size=3 color='red'>From the model(p>0.05) and graphs we can see that Path and Income are not significant in predicting the Liability </font>\n",
    " "
   ]
  },
  {
   "cell_type": "markdown",
   "metadata": {},
   "source": [
    "<font color=\"blue\" size=5><b> Logistic regression for Liability vs Path(1-4) and Path(5-8)</b></font>\n",
    "-  Impact of Low Anchor and No Anchor on Liability\n",
    "-  $Liability = \\beta_0 + \\beta_1 Path$"
   ]
  },
  {
   "cell_type": "markdown",
   "metadata": {},
   "source": [
    "For Performing this regression, we have grouped path1 to path4 into one group and path5 to path8 into other group. "
   ]
  },
  {
   "cell_type": "code",
   "execution_count": 529,
   "metadata": {},
   "outputs": [],
   "source": [
    "df_model=pd.DataFrame(data18[[\"Liability\",'Path']])\n",
    "\n",
    "df_model['Path']= df_model.Path.astype('int') \n",
    "df_model['Liability'] = df_model['Liability'].map({\"Yes\":1, \"No\":0})\n",
    "df_model['Path'].replace([1,2,3,4], [14,14,14,14], inplace = True)\n",
    "df_model['Path'].replace([5,6,7,8], [58,58,58,58], inplace = True)"
   ]
  },
  {
   "cell_type": "markdown",
   "metadata": {},
   "source": [
    "- Running the logit model on Liability vs Path"
   ]
  },
  {
   "cell_type": "code",
   "execution_count": 530,
   "metadata": {},
   "outputs": [
    {
     "name": "stdout",
     "output_type": "stream",
     "text": [
      "Optimization terminated successfully.\n",
      "         Current function value: 0.690653\n",
      "         Iterations 3\n"
     ]
    },
    {
     "data": {
      "text/html": [
       "<table class=\"simpletable\">\n",
       "<caption>Logit Regression Results</caption>\n",
       "<tr>\n",
       "  <th>Dep. Variable:</th>     <td>Liability</td>    <th>  No. Observations:  </th>  <td>   729</td>  \n",
       "</tr>\n",
       "<tr>\n",
       "  <th>Model:</th>               <td>Logit</td>      <th>  Df Residuals:      </th>  <td>   727</td>  \n",
       "</tr>\n",
       "<tr>\n",
       "  <th>Method:</th>               <td>MLE</td>       <th>  Df Model:          </th>  <td>     1</td>  \n",
       "</tr>\n",
       "<tr>\n",
       "  <th>Date:</th>          <td>Fri, 08 Jun 2018</td> <th>  Pseudo R-squ.:     </th> <td>6.574e-05</td>\n",
       "</tr>\n",
       "<tr>\n",
       "  <th>Time:</th>              <td>03:25:13</td>     <th>  Log-Likelihood:    </th> <td> -503.49</td> \n",
       "</tr>\n",
       "<tr>\n",
       "  <th>converged:</th>           <td>True</td>       <th>  LL-Null:           </th> <td> -503.52</td> \n",
       "</tr>\n",
       "<tr>\n",
       "  <th> </th>                      <td> </td>        <th>  LLR p-value:       </th>  <td>0.7969</td>  \n",
       "</tr>\n",
       "</table>\n",
       "<table class=\"simpletable\">\n",
       "<tr>\n",
       "        <td></td>           <th>coef</th>     <th>std err</th>      <th>z</th>      <th>P>|z|</th>  <th>[0.025</th>    <th>0.975]</th>  \n",
       "</tr>\n",
       "<tr>\n",
       "  <th>Intercept</th>     <td>   -0.1210</td> <td>    0.105</td> <td>   -1.152</td> <td> 0.249</td> <td>   -0.327</td> <td>    0.085</td>\n",
       "</tr>\n",
       "<tr>\n",
       "  <th>C(Path)[T.58]</th> <td>   -0.0382</td> <td>    0.149</td> <td>   -0.257</td> <td> 0.797</td> <td>   -0.329</td> <td>    0.253</td>\n",
       "</tr>\n",
       "</table>"
      ],
      "text/plain": [
       "<class 'statsmodels.iolib.summary.Summary'>\n",
       "\"\"\"\n",
       "                           Logit Regression Results                           \n",
       "==============================================================================\n",
       "Dep. Variable:              Liability   No. Observations:                  729\n",
       "Model:                          Logit   Df Residuals:                      727\n",
       "Method:                           MLE   Df Model:                            1\n",
       "Date:                Fri, 08 Jun 2018   Pseudo R-squ.:               6.574e-05\n",
       "Time:                        03:25:13   Log-Likelihood:                -503.49\n",
       "converged:                       True   LL-Null:                       -503.52\n",
       "                                        LLR p-value:                    0.7969\n",
       "=================================================================================\n",
       "                    coef    std err          z      P>|z|      [0.025      0.975]\n",
       "---------------------------------------------------------------------------------\n",
       "Intercept        -0.1210      0.105     -1.152      0.249      -0.327       0.085\n",
       "C(Path)[T.58]    -0.0382      0.149     -0.257      0.797      -0.329       0.253\n",
       "=================================================================================\n",
       "\"\"\""
      ]
     },
     "execution_count": 530,
     "metadata": {},
     "output_type": "execute_result"
    }
   ],
   "source": [
    "import statsmodels.formula.api as smf # stats model formula\n",
    "import seaborn as sb # statistical visulaization\n",
    "%matplotlib inline \n",
    "import matplotlib.pyplot as plt\n",
    "sb.set(style=\"darkgrid\", context=\"talk\")\n",
    "\n",
    "from scipy import stats\n",
    "stats.chisqprob = lambda chisq, df: stats.chi2.sf(chisq, df)\n",
    "\n",
    "logit_model = smf.logit(formula= 'Liability~C(Path)', data = df_model).fit()\n",
    "logit_model.summary()"
   ]
  },
  {
   "cell_type": "markdown",
   "metadata": {},
   "source": [
    "### crosstab of Liability and Path(path1-4 as one group and path 5-8 into other group)"
   ]
  },
  {
   "cell_type": "code",
   "execution_count": 531,
   "metadata": {},
   "outputs": [
    {
     "data": {
      "text/html": [
       "<div>\n",
       "<style scoped>\n",
       "    .dataframe tbody tr th:only-of-type {\n",
       "        vertical-align: middle;\n",
       "    }\n",
       "\n",
       "    .dataframe tbody tr th {\n",
       "        vertical-align: top;\n",
       "    }\n",
       "\n",
       "    .dataframe thead th {\n",
       "        text-align: right;\n",
       "    }\n",
       "</style>\n",
       "<table border=\"1\" class=\"dataframe\">\n",
       "  <thead>\n",
       "    <tr style=\"text-align: right;\">\n",
       "      <th>Path</th>\n",
       "      <th>14</th>\n",
       "      <th>58</th>\n",
       "      <th>All</th>\n",
       "    </tr>\n",
       "    <tr>\n",
       "      <th>Liability</th>\n",
       "      <th></th>\n",
       "      <th></th>\n",
       "      <th></th>\n",
       "    </tr>\n",
       "  </thead>\n",
       "  <tbody>\n",
       "    <tr>\n",
       "      <th>No</th>\n",
       "      <td>193</td>\n",
       "      <td>197</td>\n",
       "      <td>390</td>\n",
       "    </tr>\n",
       "    <tr>\n",
       "      <th>Yes</th>\n",
       "      <td>171</td>\n",
       "      <td>168</td>\n",
       "      <td>339</td>\n",
       "    </tr>\n",
       "    <tr>\n",
       "      <th>All</th>\n",
       "      <td>364</td>\n",
       "      <td>365</td>\n",
       "      <td>729</td>\n",
       "    </tr>\n",
       "  </tbody>\n",
       "</table>\n",
       "</div>"
      ],
      "text/plain": [
       "Path        14   58  All\n",
       "Liability               \n",
       "No         193  197  390\n",
       "Yes        171  168  339\n",
       "All        364  365  729"
      ]
     },
     "execution_count": 531,
     "metadata": {},
     "output_type": "execute_result"
    }
   ],
   "source": [
    "c =  df_model.Liability\n",
    "c = c.astype(str)\n",
    "c.replace(['1','0'],['Yes','No'],inplace = True)\n",
    "pd.crosstab(c,df_model.Path,margins=True)"
   ]
  },
  {
   "cell_type": "markdown",
   "metadata": {},
   "source": [
    "### Graph of Liability vs Path"
   ]
  },
  {
   "cell_type": "code",
   "execution_count": 532,
   "metadata": {},
   "outputs": [
    {
     "data": {
      "image/png": "[encoded data removed]",
      "text/plain": [
       "<matplotlib.figure.Figure at 0x23307da8390>"
      ]
     },
     "metadata": {},
     "output_type": "display_data"
    }
   ],
   "source": [
    "\n",
    "pd.crosstab(c,df_model.Path).plot(kind='bar', fontsize = 15, figsize=(10,6))\n",
    "plt.title('Liability Vs Path Graph')\n",
    "\n",
    "plt.savefig('Juror Response vs Path')"
   ]
  },
  {
   "cell_type": "code",
   "execution_count": 533,
   "metadata": {},
   "outputs": [
    {
     "name": "stdout",
     "output_type": "stream",
     "text": [
      "0.0374795824440034\n"
     ]
    }
   ],
   "source": [
    "print(1-np.exp(-0.0382))"
   ]
  },
  {
   "cell_type": "markdown",
   "metadata": {},
   "source": [
    "## Interpretation:\n",
    "- p-value is greater than 0.05.Hence model is not significant.\n",
    "- we can interpret model coefficient as\n",
    "Compared to path 1-4, there is 3.74% reduction odd in saying yes for path 5-8."
   ]
  },
  {
   "cell_type": "markdown",
   "metadata": {},
   "source": [
    "<font color=\"blue\" size=5><b> Logistic Regression from Path (1-4) vs Liability for Snowboard and  Staircase Dataset.</b></font>\n",
    "\n",
    "To perform the regression , we have merged both the dataset.\n",
    "\n",
    "> For staircase dataset we are taking path (2,3,4 and 5).\n",
    "\n",
    "> **Path(2,3,4,5) from Staircase + (1,2,3,4) no low anchor data from Snowboard  + (5,6,7,8) low anchor data from Snowboard   **"
   ]
  },
  {
   "cell_type": "code",
   "execution_count": 534,
   "metadata": {},
   "outputs": [],
   "source": [
    "import pandas as pd\n",
    "\n",
    "staircase_data = pd.read_csv('old_data.csv', encoding= 'ISO-8859-1')"
   ]
  },
  {
   "cell_type": "code",
   "execution_count": 535,
   "metadata": {},
   "outputs": [],
   "source": [
    "staircase_data.rename(columns={\"Scenario\": \"Path\"},inplace=True)\n",
    "staircase_data = staircase_data.query(\"Path>1\")\n",
    "staircase_data.Path.replace([2,3,4,5],[1,2,3,4],inplace=True)\n",
    "\n",
    "staircase_dat = staircase_data[[\"Path\",\"Liability\"]]\n",
    "snowboard_dat = data14[[\"Path\",\"Liability\"]]"
   ]
  },
  {
   "cell_type": "markdown",
   "metadata": {},
   "source": [
    "Lets see the count of each data set."
   ]
  },
  {
   "cell_type": "code",
   "execution_count": 536,
   "metadata": {},
   "outputs": [
    {
     "name": "stdout",
     "output_type": "stream",
     "text": [
      "Path         778\n",
      "Liability    778\n",
      "dtype: int64\n",
      "Path         729\n",
      "Liability    729\n",
      "dtype: int64\n"
     ]
    }
   ],
   "source": [
    "print(staircase_dat.count())\n",
    "print(snowboard_dat.count())"
   ]
  },
  {
   "cell_type": "markdown",
   "metadata": {},
   "source": [
    "Lets merge the data."
   ]
  },
  {
   "cell_type": "code",
   "execution_count": 537,
   "metadata": {},
   "outputs": [],
   "source": [
    "merged_data =[staircase_dat,snowboard_dat]\n",
    "result = pd.concat(merged_data)"
   ]
  },
  {
   "cell_type": "markdown",
   "metadata": {},
   "source": [
    "Lets check if any value is Null or not."
   ]
  },
  {
   "cell_type": "code",
   "execution_count": 538,
   "metadata": {},
   "outputs": [
    {
     "data": {
      "text/plain": [
       "Path         0\n",
       "Liability    0\n",
       "dtype: int64"
      ]
     },
     "execution_count": 538,
     "metadata": {},
     "output_type": "execute_result"
    }
   ],
   "source": [
    "result.isnull().sum()"
   ]
  },
  {
   "cell_type": "code",
   "execution_count": 539,
   "metadata": {},
   "outputs": [
    {
     "data": {
      "text/html": [
       "<div>\n",
       "<style scoped>\n",
       "    .dataframe tbody tr th:only-of-type {\n",
       "        vertical-align: middle;\n",
       "    }\n",
       "\n",
       "    .dataframe tbody tr th {\n",
       "        vertical-align: top;\n",
       "    }\n",
       "\n",
       "    .dataframe thead th {\n",
       "        text-align: right;\n",
       "    }\n",
       "</style>\n",
       "<table border=\"1\" class=\"dataframe\">\n",
       "  <thead>\n",
       "    <tr style=\"text-align: right;\">\n",
       "      <th>Liability</th>\n",
       "      <th>0</th>\n",
       "      <th>1</th>\n",
       "      <th>All</th>\n",
       "    </tr>\n",
       "    <tr>\n",
       "      <th>Path</th>\n",
       "      <th></th>\n",
       "      <th></th>\n",
       "      <th></th>\n",
       "    </tr>\n",
       "  </thead>\n",
       "  <tbody>\n",
       "    <tr>\n",
       "      <th>1</th>\n",
       "      <td>204</td>\n",
       "      <td>169</td>\n",
       "      <td>373</td>\n",
       "    </tr>\n",
       "    <tr>\n",
       "      <th>2</th>\n",
       "      <td>154</td>\n",
       "      <td>220</td>\n",
       "      <td>374</td>\n",
       "    </tr>\n",
       "    <tr>\n",
       "      <th>3</th>\n",
       "      <td>176</td>\n",
       "      <td>218</td>\n",
       "      <td>394</td>\n",
       "    </tr>\n",
       "    <tr>\n",
       "      <th>4</th>\n",
       "      <td>177</td>\n",
       "      <td>189</td>\n",
       "      <td>366</td>\n",
       "    </tr>\n",
       "    <tr>\n",
       "      <th>All</th>\n",
       "      <td>711</td>\n",
       "      <td>796</td>\n",
       "      <td>1507</td>\n",
       "    </tr>\n",
       "  </tbody>\n",
       "</table>\n",
       "</div>"
      ],
      "text/plain": [
       "Liability    0    1   All\n",
       "Path                     \n",
       "1          204  169   373\n",
       "2          154  220   374\n",
       "3          176  218   394\n",
       "4          177  189   366\n",
       "All        711  796  1507"
      ]
     },
     "execution_count": 539,
     "metadata": {},
     "output_type": "execute_result"
    }
   ],
   "source": [
    "result.Liability = result.Liability.astype(str)\n",
    "result.Liability = result.Liability.replace(['Yes','No'], ['1','0'])\n",
    "result.Liability = result.Liability.astype(int)\n",
    "\n",
    "pd.crosstab(result.Path,result.Liability, margins = True)"
   ]
  },
  {
   "cell_type": "code",
   "execution_count": 540,
   "metadata": {},
   "outputs": [
    {
     "name": "stdout",
     "output_type": "stream",
     "text": [
      "Optimization terminated successfully.\n",
      "         Current function value: 0.686552\n",
      "         Iterations 4\n"
     ]
    },
    {
     "data": {
      "text/html": [
       "<table class=\"simpletable\">\n",
       "<caption>Logit Regression Results</caption>\n",
       "<tr>\n",
       "  <th>Dep. Variable:</th>     <td>Liability</td>    <th>  No. Observations:  </th>  <td>  1507</td> \n",
       "</tr>\n",
       "<tr>\n",
       "  <th>Model:</th>               <td>Logit</td>      <th>  Df Residuals:      </th>  <td>  1503</td> \n",
       "</tr>\n",
       "<tr>\n",
       "  <th>Method:</th>               <td>MLE</td>       <th>  Df Model:          </th>  <td>     3</td> \n",
       "</tr>\n",
       "<tr>\n",
       "  <th>Date:</th>          <td>Fri, 08 Jun 2018</td> <th>  Pseudo R-squ.:     </th> <td>0.007235</td>\n",
       "</tr>\n",
       "<tr>\n",
       "  <th>Time:</th>              <td>03:25:14</td>     <th>  Log-Likelihood:    </th> <td> -1034.6</td>\n",
       "</tr>\n",
       "<tr>\n",
       "  <th>converged:</th>           <td>True</td>       <th>  LL-Null:           </th> <td> -1042.2</td>\n",
       "</tr>\n",
       "<tr>\n",
       "  <th> </th>                      <td> </td>        <th>  LLR p-value:       </th> <td>0.001750</td>\n",
       "</tr>\n",
       "</table>\n",
       "<table class=\"simpletable\">\n",
       "<tr>\n",
       "        <td></td>          <th>coef</th>     <th>std err</th>      <th>z</th>      <th>P>|z|</th>  <th>[0.025</th>    <th>0.975]</th>  \n",
       "</tr>\n",
       "<tr>\n",
       "  <th>Intercept</th>    <td>   -0.1882</td> <td>    0.104</td> <td>   -1.810</td> <td> 0.070</td> <td>   -0.392</td> <td>    0.016</td>\n",
       "</tr>\n",
       "<tr>\n",
       "  <th>C(Path)[T.2]</th> <td>    0.5449</td> <td>    0.148</td> <td>    3.686</td> <td> 0.000</td> <td>    0.255</td> <td>    0.835</td>\n",
       "</tr>\n",
       "<tr>\n",
       "  <th>C(Path)[T.3]</th> <td>    0.4022</td> <td>    0.145</td> <td>    2.770</td> <td> 0.006</td> <td>    0.118</td> <td>    0.687</td>\n",
       "</tr>\n",
       "<tr>\n",
       "  <th>C(Path)[T.4]</th> <td>    0.2538</td> <td>    0.148</td> <td>    1.721</td> <td> 0.085</td> <td>   -0.035</td> <td>    0.543</td>\n",
       "</tr>\n",
       "</table>"
      ],
      "text/plain": [
       "<class 'statsmodels.iolib.summary.Summary'>\n",
       "\"\"\"\n",
       "                           Logit Regression Results                           \n",
       "==============================================================================\n",
       "Dep. Variable:              Liability   No. Observations:                 1507\n",
       "Model:                          Logit   Df Residuals:                     1503\n",
       "Method:                           MLE   Df Model:                            3\n",
       "Date:                Fri, 08 Jun 2018   Pseudo R-squ.:                0.007235\n",
       "Time:                        03:25:14   Log-Likelihood:                -1034.6\n",
       "converged:                       True   LL-Null:                       -1042.2\n",
       "                                        LLR p-value:                  0.001750\n",
       "================================================================================\n",
       "                   coef    std err          z      P>|z|      [0.025      0.975]\n",
       "--------------------------------------------------------------------------------\n",
       "Intercept       -0.1882      0.104     -1.810      0.070      -0.392       0.016\n",
       "C(Path)[T.2]     0.5449      0.148      3.686      0.000       0.255       0.835\n",
       "C(Path)[T.3]     0.4022      0.145      2.770      0.006       0.118       0.687\n",
       "C(Path)[T.4]     0.2538      0.148      1.721      0.085      -0.035       0.543\n",
       "================================================================================\n",
       "\"\"\""
      ]
     },
     "execution_count": 540,
     "metadata": {},
     "output_type": "execute_result"
    }
   ],
   "source": [
    "from scipy import stats\n",
    "final_model= smf.logit(formula= 'Liability ~ C(Path)', data = result).fit()\n",
    "final_model.summary()"
   ]
  },
  {
   "cell_type": "markdown",
   "metadata": {},
   "source": [
    "### Interpretations:\n",
    "------------------\n",
    "\n",
    "> The P-value of Path 2 and 3 are really **very low <0.05**. so we can say that this factor is a significant factor for awarding liability. \n",
    "\n",
    "> The Percentage of awarding Liability at \n",
    "\n",
    "-  Path 1 ---- 45%, \n",
    "-  Path 2 ---- 59%,\n",
    "-  Path 3 ---- 55%,\n",
    "-  Path 4 ---- 51%\n",
    "\n",
    "> So we can say that there is an **increase in awarding Liability when the remedial measures introduced in Path 2**. But when the **limiting jury instruction introduces the Liability decreases to 55%** and again **it decreases, even more, when explaining to the limiting jury instruction introduced in Path 4.**"
   ]
  },
  {
   "cell_type": "markdown",
   "metadata": {},
   "source": [
    "<font color=\"blue\" size=5><b> Linear model to see the Discounted_Damages vs Path </b></font>\n",
    "- Impact of Path on Discounted damages"
   ]
  },
  {
   "cell_type": "code",
   "execution_count": 541,
   "metadata": {},
   "outputs": [
    {
     "data": {
      "text/html": [
       "<table class=\"simpletable\">\n",
       "<caption>OLS Regression Results</caption>\n",
       "<tr>\n",
       "  <th>Dep. Variable:</th>    <td>Discounted_Damages</td> <th>  R-squared:         </th> <td>   0.001</td> \n",
       "</tr>\n",
       "<tr>\n",
       "  <th>Model:</th>                    <td>OLS</td>        <th>  Adj. R-squared:    </th> <td>  -0.000</td> \n",
       "</tr>\n",
       "<tr>\n",
       "  <th>Method:</th>              <td>Least Squares</td>   <th>  F-statistic:       </th> <td>  0.6876</td> \n",
       "</tr>\n",
       "<tr>\n",
       "  <th>Date:</th>              <td>Fri, 08 Jun 2018</td>  <th>  Prob (F-statistic):</th>  <td> 0.407</td>  \n",
       "</tr>\n",
       "<tr>\n",
       "  <th>Time:</th>                  <td>03:25:14</td>      <th>  Log-Likelihood:    </th> <td> -9793.2</td> \n",
       "</tr>\n",
       "<tr>\n",
       "  <th>No. Observations:</th>       <td>   729</td>       <th>  AIC:               </th> <td>1.959e+04</td>\n",
       "</tr>\n",
       "<tr>\n",
       "  <th>Df Residuals:</th>           <td>   727</td>       <th>  BIC:               </th> <td>1.960e+04</td>\n",
       "</tr>\n",
       "<tr>\n",
       "  <th>Df Model:</th>               <td>     1</td>       <th>                     </th>     <td> </td>    \n",
       "</tr>\n",
       "<tr>\n",
       "  <th>Covariance Type:</th>       <td>nonrobust</td>     <th>                     </th>     <td> </td>    \n",
       "</tr>\n",
       "</table>\n",
       "<table class=\"simpletable\">\n",
       "<tr>\n",
       "      <td></td>         <th>coef</th>     <th>std err</th>      <th>t</th>      <th>P>|t|</th>  <th>[0.025</th>    <th>0.975]</th>  \n",
       "</tr>\n",
       "<tr>\n",
       "  <th>Intercept</th> <td> 8.686e+04</td> <td> 1.52e+04</td> <td>    5.717</td> <td> 0.000</td> <td>  5.7e+04</td> <td> 1.17e+05</td>\n",
       "</tr>\n",
       "<tr>\n",
       "  <th>Path</th>      <td> 4612.8463</td> <td> 5562.922</td> <td>    0.829</td> <td> 0.407</td> <td>-6308.462</td> <td> 1.55e+04</td>\n",
       "</tr>\n",
       "</table>\n",
       "<table class=\"simpletable\">\n",
       "<tr>\n",
       "  <th>Omnibus:</th>       <td>177.256</td> <th>  Durbin-Watson:     </th> <td>   2.048</td>\n",
       "</tr>\n",
       "<tr>\n",
       "  <th>Prob(Omnibus):</th> <td> 0.000</td>  <th>  Jarque-Bera (JB):  </th> <td> 317.667</td>\n",
       "</tr>\n",
       "<tr>\n",
       "  <th>Skew:</th>          <td> 1.547</td>  <th>  Prob(JB):          </th> <td>1.05e-69</td>\n",
       "</tr>\n",
       "<tr>\n",
       "  <th>Kurtosis:</th>      <td> 3.942</td>  <th>  Cond. No.          </th> <td>    7.55</td>\n",
       "</tr>\n",
       "</table>"
      ],
      "text/plain": [
       "<class 'statsmodels.iolib.summary.Summary'>\n",
       "\"\"\"\n",
       "                            OLS Regression Results                            \n",
       "==============================================================================\n",
       "Dep. Variable:     Discounted_Damages   R-squared:                       0.001\n",
       "Model:                            OLS   Adj. R-squared:                 -0.000\n",
       "Method:                 Least Squares   F-statistic:                    0.6876\n",
       "Date:                Fri, 08 Jun 2018   Prob (F-statistic):              0.407\n",
       "Time:                        03:25:14   Log-Likelihood:                -9793.2\n",
       "No. Observations:                 729   AIC:                         1.959e+04\n",
       "Df Residuals:                     727   BIC:                         1.960e+04\n",
       "Df Model:                           1                                         \n",
       "Covariance Type:            nonrobust                                         \n",
       "==============================================================================\n",
       "                 coef    std err          t      P>|t|      [0.025      0.975]\n",
       "------------------------------------------------------------------------------\n",
       "Intercept   8.686e+04   1.52e+04      5.717      0.000     5.7e+04    1.17e+05\n",
       "Path        4612.8463   5562.922      0.829      0.407   -6308.462    1.55e+04\n",
       "==============================================================================\n",
       "Omnibus:                      177.256   Durbin-Watson:                   2.048\n",
       "Prob(Omnibus):                  0.000   Jarque-Bera (JB):              317.667\n",
       "Skew:                           1.547   Prob(JB):                     1.05e-69\n",
       "Kurtosis:                       3.942   Cond. No.                         7.55\n",
       "==============================================================================\n",
       "\n",
       "Warnings:\n",
       "[1] Standard Errors assume that the covariance matrix of the errors is correctly specified.\n",
       "\"\"\""
      ]
     },
     "execution_count": 541,
     "metadata": {},
     "output_type": "execute_result"
    }
   ],
   "source": [
    "import statsmodels.formula.api as smf\n",
    "\n",
    "# create a fitted model in one line\n",
    "lm = smf.ols(formula='Discounted_Damages ~ Path', data=data14).fit()\n",
    "\n",
    "# print the coefficients\n",
    "lm.summary()"
   ]
  },
  {
   "cell_type": "markdown",
   "metadata": {},
   "source": [
    "### Table and Graph of Discounted Damages  vs Path"
   ]
  },
  {
   "cell_type": "code",
   "execution_count": 542,
   "metadata": {},
   "outputs": [
    {
     "data": {
      "text/plain": [
       "Path\n",
       "1     91850.795455\n",
       "2     98567.021277\n",
       "3     94718.421053\n",
       "4    108744.285714\n",
       "Name: Discounted_Damages, dtype: float64"
      ]
     },
     "execution_count": 542,
     "metadata": {},
     "output_type": "execute_result"
    }
   ],
   "source": [
    "data14.groupby(\"Path\").Discounted_Damages.mean()"
   ]
  },
  {
   "cell_type": "code",
   "execution_count": 543,
   "metadata": {},
   "outputs": [
    {
     "data": {
      "image/png": "[encoded data removed]",
      "text/plain": [
       "<matplotlib.figure.Figure at 0x23306b7d240>"
      ]
     },
     "metadata": {},
     "output_type": "display_data"
    }
   ],
   "source": [
    "plt.scatter(data14.Path, data14.Discounted_Damages, marker = \"+\")\n",
    "plt.plot([1,2,3,4], [np.mean(data14.query('Path == 1').Discounted_Damages), np.mean(data14.query('Path == 2').Discounted_Damages),\n",
    "                     np.mean(data14.query('Path == 3').Discounted_Damages),np.mean(data14.query('Path == 4').Discounted_Damages)], 'r--')\n",
    "plt.ylabel(\"Discounted_Damages\")\n",
    "plt.xlabel(\"Path\")\n",
    "plt.show()"
   ]
  },
  {
   "cell_type": "markdown",
   "metadata": {},
   "source": [
    "<font color='red' size=5>Interpretation: </font>\n",
    "- <b>From the model and the graph we can see that Path is not the predictor for damages. </b>"
   ]
  },
  {
   "cell_type": "markdown",
   "metadata": {},
   "source": [
    "<font color=\"blue\" size=5><b> Final Regression model(Liability vs Education) </b></font>\n",
    "- Impact of Education with levels 1-9(1-Low and 9-High) on Liability\n"
   ]
  },
  {
   "cell_type": "code",
   "execution_count": 544,
   "metadata": {},
   "outputs": [],
   "source": [
    "import pandas as pd\n",
    "final_data = pd.read_csv('cleaning.csv', encoding= 'ISO-8859-1')\n",
    "final_data['Liability'] = final_data['Liability'].map({\"Yes\":1, \"No\":0})\n",
    "final_data['Path'].replace([5,6,7,8], [1,2,3,4], inplace = True)\n",
    "final_data.Path = pd.Categorical(final_data.Path)\n",
    "#final_data.Education = pd.Categorical(final_data.Education)\n",
    "final_data.Income = pd.Categorical(final_data.Income)"
   ]
  },
  {
   "cell_type": "code",
   "execution_count": 545,
   "metadata": {},
   "outputs": [
    {
     "data": {
      "text/html": [
       "<div>\n",
       "<style scoped>\n",
       "    .dataframe tbody tr th:only-of-type {\n",
       "        vertical-align: middle;\n",
       "    }\n",
       "\n",
       "    .dataframe tbody tr th {\n",
       "        vertical-align: top;\n",
       "    }\n",
       "\n",
       "    .dataframe thead th {\n",
       "        text-align: right;\n",
       "    }\n",
       "</style>\n",
       "<table border=\"1\" class=\"dataframe\">\n",
       "  <thead>\n",
       "    <tr style=\"text-align: right;\">\n",
       "      <th>Education</th>\n",
       "      <th>1</th>\n",
       "      <th>2</th>\n",
       "      <th>3</th>\n",
       "      <th>4</th>\n",
       "      <th>5</th>\n",
       "      <th>6</th>\n",
       "      <th>7</th>\n",
       "      <th>8</th>\n",
       "      <th>9</th>\n",
       "      <th>All</th>\n",
       "    </tr>\n",
       "    <tr>\n",
       "      <th>Liability</th>\n",
       "      <th></th>\n",
       "      <th></th>\n",
       "      <th></th>\n",
       "      <th></th>\n",
       "      <th></th>\n",
       "      <th></th>\n",
       "      <th></th>\n",
       "      <th></th>\n",
       "      <th></th>\n",
       "      <th></th>\n",
       "    </tr>\n",
       "  </thead>\n",
       "  <tbody>\n",
       "    <tr>\n",
       "      <th>0</th>\n",
       "      <td>1</td>\n",
       "      <td>2</td>\n",
       "      <td>42</td>\n",
       "      <td>93</td>\n",
       "      <td>42</td>\n",
       "      <td>157</td>\n",
       "      <td>48</td>\n",
       "      <td>5</td>\n",
       "      <td>0</td>\n",
       "      <td>390</td>\n",
       "    </tr>\n",
       "    <tr>\n",
       "      <th>1</th>\n",
       "      <td>0</td>\n",
       "      <td>2</td>\n",
       "      <td>45</td>\n",
       "      <td>85</td>\n",
       "      <td>42</td>\n",
       "      <td>123</td>\n",
       "      <td>28</td>\n",
       "      <td>9</td>\n",
       "      <td>5</td>\n",
       "      <td>339</td>\n",
       "    </tr>\n",
       "    <tr>\n",
       "      <th>All</th>\n",
       "      <td>1</td>\n",
       "      <td>4</td>\n",
       "      <td>87</td>\n",
       "      <td>178</td>\n",
       "      <td>84</td>\n",
       "      <td>280</td>\n",
       "      <td>76</td>\n",
       "      <td>14</td>\n",
       "      <td>5</td>\n",
       "      <td>729</td>\n",
       "    </tr>\n",
       "  </tbody>\n",
       "</table>\n",
       "</div>"
      ],
      "text/plain": [
       "Education  1  2   3    4   5    6   7   8  9  All\n",
       "Liability                                        \n",
       "0          1  2  42   93  42  157  48   5  0  390\n",
       "1          0  2  45   85  42  123  28   9  5  339\n",
       "All        1  4  87  178  84  280  76  14  5  729"
      ]
     },
     "execution_count": 545,
     "metadata": {},
     "output_type": "execute_result"
    }
   ],
   "source": [
    "pd.crosstab(final_data.Liability,final_data.Education,margins=True)"
   ]
  },
  {
   "cell_type": "markdown",
   "metadata": {},
   "source": [
    "** From the above table, we can see that Education=(1,9) are pure classes(probability=1).If we model this we get convergence error.So Removing Education=(1,9) and performing the model **"
   ]
  },
  {
   "cell_type": "code",
   "execution_count": 546,
   "metadata": {},
   "outputs": [
    {
     "data": {
      "text/plain": [
       "array([5, 4, 6, 3, 7, 8, 2], dtype=int64)"
      ]
     },
     "execution_count": 546,
     "metadata": {},
     "output_type": "execute_result"
    }
   ],
   "source": [
    "final_data=final_data[((final_data.Education != 1) & (final_data.Education != 9))]\n",
    "final_data.Education.unique()"
   ]
  },
  {
   "cell_type": "code",
   "execution_count": 547,
   "metadata": {},
   "outputs": [
    {
     "name": "stdout",
     "output_type": "stream",
     "text": [
      "Optimization terminated successfully.\n",
      "         Current function value: 0.685480\n",
      "         Iterations 4\n"
     ]
    },
    {
     "data": {
      "text/html": [
       "<table class=\"simpletable\">\n",
       "<caption>Logit Regression Results</caption>\n",
       "<tr>\n",
       "  <th>Dep. Variable:</th>     <td>Liability</td>    <th>  No. Observations:  </th>  <td>   723</td> \n",
       "</tr>\n",
       "<tr>\n",
       "  <th>Model:</th>               <td>Logit</td>      <th>  Df Residuals:      </th>  <td>   716</td> \n",
       "</tr>\n",
       "<tr>\n",
       "  <th>Method:</th>               <td>MLE</td>       <th>  Df Model:          </th>  <td>     6</td> \n",
       "</tr>\n",
       "<tr>\n",
       "  <th>Date:</th>          <td>Fri, 08 Jun 2018</td> <th>  Pseudo R-squ.:     </th> <td>0.006912</td>\n",
       "</tr>\n",
       "<tr>\n",
       "  <th>Time:</th>              <td>03:25:15</td>     <th>  Log-Likelihood:    </th> <td> -495.60</td>\n",
       "</tr>\n",
       "<tr>\n",
       "  <th>converged:</th>           <td>True</td>       <th>  LL-Null:           </th> <td> -499.05</td>\n",
       "</tr>\n",
       "<tr>\n",
       "  <th> </th>                      <td> </td>        <th>  LLR p-value:       </th>  <td>0.3303</td> \n",
       "</tr>\n",
       "</table>\n",
       "<table class=\"simpletable\">\n",
       "<tr>\n",
       "          <td></td>             <th>coef</th>     <th>std err</th>      <th>z</th>      <th>P>|z|</th>  <th>[0.025</th>    <th>0.975]</th>  \n",
       "</tr>\n",
       "<tr>\n",
       "  <th>Intercept</th>         <td>-3.434e-14</td> <td>    1.000</td> <td>-3.43e-14</td> <td> 1.000</td> <td>   -1.960</td> <td>    1.960</td>\n",
       "</tr>\n",
       "<tr>\n",
       "  <th>C(Education)[T.3]</th> <td>    0.0690</td> <td>    1.023</td> <td>    0.067</td> <td> 0.946</td> <td>   -1.936</td> <td>    2.074</td>\n",
       "</tr>\n",
       "<tr>\n",
       "  <th>C(Education)[T.4]</th> <td>   -0.0899</td> <td>    1.011</td> <td>   -0.089</td> <td> 0.929</td> <td>   -2.072</td> <td>    1.892</td>\n",
       "</tr>\n",
       "<tr>\n",
       "  <th>C(Education)[T.5]</th> <td> 3.438e-14</td> <td>    1.024</td> <td> 3.36e-14</td> <td> 1.000</td> <td>   -2.006</td> <td>    2.006</td>\n",
       "</tr>\n",
       "<tr>\n",
       "  <th>C(Education)[T.6]</th> <td>   -0.2441</td> <td>    1.007</td> <td>   -0.242</td> <td> 0.809</td> <td>   -2.218</td> <td>    1.730</td>\n",
       "</tr>\n",
       "<tr>\n",
       "  <th>C(Education)[T.7]</th> <td>   -0.5390</td> <td>    1.028</td> <td>   -0.524</td> <td> 0.600</td> <td>   -2.554</td> <td>    1.476</td>\n",
       "</tr>\n",
       "<tr>\n",
       "  <th>C(Education)[T.8]</th> <td>    0.5878</td> <td>    1.145</td> <td>    0.513</td> <td> 0.608</td> <td>   -1.656</td> <td>    2.832</td>\n",
       "</tr>\n",
       "</table>"
      ],
      "text/plain": [
       "<class 'statsmodels.iolib.summary.Summary'>\n",
       "\"\"\"\n",
       "                           Logit Regression Results                           \n",
       "==============================================================================\n",
       "Dep. Variable:              Liability   No. Observations:                  723\n",
       "Model:                          Logit   Df Residuals:                      716\n",
       "Method:                           MLE   Df Model:                            6\n",
       "Date:                Fri, 08 Jun 2018   Pseudo R-squ.:                0.006912\n",
       "Time:                        03:25:15   Log-Likelihood:                -495.60\n",
       "converged:                       True   LL-Null:                       -499.05\n",
       "                                        LLR p-value:                    0.3303\n",
       "=====================================================================================\n",
       "                        coef    std err          z      P>|z|      [0.025      0.975]\n",
       "-------------------------------------------------------------------------------------\n",
       "Intercept         -3.434e-14      1.000  -3.43e-14      1.000      -1.960       1.960\n",
       "C(Education)[T.3]     0.0690      1.023      0.067      0.946      -1.936       2.074\n",
       "C(Education)[T.4]    -0.0899      1.011     -0.089      0.929      -2.072       1.892\n",
       "C(Education)[T.5]  3.438e-14      1.024   3.36e-14      1.000      -2.006       2.006\n",
       "C(Education)[T.6]    -0.2441      1.007     -0.242      0.809      -2.218       1.730\n",
       "C(Education)[T.7]    -0.5390      1.028     -0.524      0.600      -2.554       1.476\n",
       "C(Education)[T.8]     0.5878      1.145      0.513      0.608      -1.656       2.832\n",
       "=====================================================================================\n",
       "\"\"\""
      ]
     },
     "execution_count": 547,
     "metadata": {},
     "output_type": "execute_result"
    }
   ],
   "source": [
    "from scipy import stats\n",
    "stats.chisqprob = lambda chisq, df: stats.chi2.sf(chisq, df)\n",
    "final_model= smf.logit(formula= 'Liability ~ C(Education)', data = final_data).fit()\n",
    "final_model.summary()"
   ]
  },
  {
   "cell_type": "markdown",
   "metadata": {},
   "source": [
    "<font size=4 color='red'> From the model,we can find that Education with levels=(2,3,4,5,6,7,8) has no significant impact on the decision of Juror.But all the participants with Education level=1 agreed that Defendent was negligent and participants with Education level=9 agreed that Defendent was not negligent.</font>"
   ]
  },
  {
   "cell_type": "markdown",
   "metadata": {},
   "source": [
    "<font color = 'blue' size=6> Merged Dataset Calculations:</font>"
   ]
  },
  {
   "cell_type": "markdown",
   "metadata": {},
   "source": [
    "### We are merging the old dataset(Staircase) and new dataset(Snowboard) and calculating the Case expected and plaintiff win rate.\n",
    "** Replacing the Path of oldset Path=2,3,4,5 to Path = 1,2,3,4 and removing path1**"
   ]
  },
  {
   "cell_type": "code",
   "execution_count": 548,
   "metadata": {},
   "outputs": [],
   "source": [
    "import pandas as pd\n",
    "new_data = pd.read_csv('cleaning.csv', encoding= 'ISO-8859-1')\n",
    "old_data = pd.read_csv('old_data.csv', encoding= 'ISO-8859-1')\n",
    "old_data = old_data.query(\"Scenario>1\")\n",
    "old_data.Scenario.replace([2,3,4,5],[1,2,3,4],inplace=True)"
   ]
  },
  {
   "cell_type": "markdown",
   "metadata": {},
   "source": [
    "** Replacing Path of new dataset with Path=5,6,7,8 with Path=1,2,3,4. **"
   ]
  },
  {
   "cell_type": "code",
   "execution_count": 549,
   "metadata": {},
   "outputs": [],
   "source": [
    "newdf1=pd.DataFrame(new_data[[\"StartDate\",\"EndDate\",\"Duration\",\"Liability\",'Total_Damages','Path','Was_McNeil_negligent','Discounted_Damages']])\n",
    "newdf1['Path'].replace([5,6,7,8], [1,2,3,4], inplace = True)"
   ]
  },
  {
   "cell_type": "markdown",
   "metadata": {},
   "source": [
    "** Renaming the column names for old and new datasets **"
   ]
  },
  {
   "cell_type": "code",
   "execution_count": 550,
   "metadata": {},
   "outputs": [],
   "source": [
    "newdf1.rename(columns={\"StartDate\": \"Start Date\", \n",
    "                         \"EndDate\":\"End Date\",\n",
    "                         \"Total_Damages\":\"damages\",\n",
    "                       \"Was_McNeil_negligent\":\"Plaintiff_negligent\",\n",
    "                       \"Discounted_Damages\":\"Discounted_damages\"\n",
    "                         },inplace=True)\n",
    "\n",
    "newdf1['Plaintiff_negligent'] = newdf1['Plaintiff_negligent'].map({1:\"Yes\", 2:\"No\"})\n",
    "newdf1['Liability'] = newdf1['Liability'].map({\"Yes\":1, \"No\":0})\n",
    "\n",
    "old_data1=pd.DataFrame(old_data[[\"Start Date\",\"End Date\",\"Liability\",'damages','Scenario','Dunn_negligent','Discounted_damages']])\n",
    "old_data1.rename(columns={\n",
    "                       \"Scenario\":\"Path\",\"Dunn_negligent\":\"Plaintiff_negligent\"\n",
    "                         },inplace=True)"
   ]
  },
  {
   "cell_type": "markdown",
   "metadata": {},
   "source": [
    "** Merging Old dataset and new dataset.We can retrieve the dataset(old/new) based on the keys(x,y)**"
   ]
  },
  {
   "cell_type": "code",
   "execution_count": 551,
   "metadata": {},
   "outputs": [
    {
     "data": {
      "text/html": [
       "<div>\n",
       "<style scoped>\n",
       "    .dataframe tbody tr th:only-of-type {\n",
       "        vertical-align: middle;\n",
       "    }\n",
       "\n",
       "    .dataframe tbody tr th {\n",
       "        vertical-align: top;\n",
       "    }\n",
       "\n",
       "    .dataframe thead th {\n",
       "        text-align: right;\n",
       "    }\n",
       "</style>\n",
       "<table border=\"1\" class=\"dataframe\">\n",
       "  <thead>\n",
       "    <tr style=\"text-align: right;\">\n",
       "      <th></th>\n",
       "      <th></th>\n",
       "      <th>Discounted_damages</th>\n",
       "      <th>Duration</th>\n",
       "      <th>End Date</th>\n",
       "      <th>Liability</th>\n",
       "      <th>Path</th>\n",
       "      <th>Plaintiff_negligent</th>\n",
       "      <th>Start Date</th>\n",
       "      <th>damages</th>\n",
       "    </tr>\n",
       "  </thead>\n",
       "  <tbody>\n",
       "    <tr>\n",
       "      <th rowspan=\"5\" valign=\"top\">x</th>\n",
       "      <th>0</th>\n",
       "      <td>0.0</td>\n",
       "      <td>1039.0</td>\n",
       "      <td>2018-04-06 13:32:00</td>\n",
       "      <td>0</td>\n",
       "      <td>1</td>\n",
       "      <td>NaN</td>\n",
       "      <td>2018-04-06 13:15:00</td>\n",
       "      <td>0.0</td>\n",
       "    </tr>\n",
       "    <tr>\n",
       "      <th>1</th>\n",
       "      <td>0.0</td>\n",
       "      <td>915.0</td>\n",
       "      <td>2018-04-06 13:33:00</td>\n",
       "      <td>1</td>\n",
       "      <td>1</td>\n",
       "      <td>NaN</td>\n",
       "      <td>2018-04-06 13:17:00</td>\n",
       "      <td>0.0</td>\n",
       "    </tr>\n",
       "    <tr>\n",
       "      <th>2</th>\n",
       "      <td>500000.0</td>\n",
       "      <td>1051.0</td>\n",
       "      <td>2018-04-06 13:33:00</td>\n",
       "      <td>1</td>\n",
       "      <td>1</td>\n",
       "      <td>No</td>\n",
       "      <td>2018-04-06 13:15:00</td>\n",
       "      <td>500000.0</td>\n",
       "    </tr>\n",
       "    <tr>\n",
       "      <th>3</th>\n",
       "      <td>0.0</td>\n",
       "      <td>1092.0</td>\n",
       "      <td>2018-04-06 13:33:00</td>\n",
       "      <td>0</td>\n",
       "      <td>1</td>\n",
       "      <td>NaN</td>\n",
       "      <td>2018-04-06 13:15:00</td>\n",
       "      <td>0.0</td>\n",
       "    </tr>\n",
       "    <tr>\n",
       "      <th>4</th>\n",
       "      <td>262500.0</td>\n",
       "      <td>1135.0</td>\n",
       "      <td>2018-04-06 13:33:00</td>\n",
       "      <td>1</td>\n",
       "      <td>2</td>\n",
       "      <td>Yes</td>\n",
       "      <td>2018-04-06 13:14:00</td>\n",
       "      <td>350000.0</td>\n",
       "    </tr>\n",
       "  </tbody>\n",
       "</table>\n",
       "</div>"
      ],
      "text/plain": [
       "     Discounted_damages  Duration             End Date  Liability  Path  \\\n",
       "x 0                 0.0    1039.0  2018-04-06 13:32:00          0     1   \n",
       "  1                 0.0     915.0  2018-04-06 13:33:00          1     1   \n",
       "  2            500000.0    1051.0  2018-04-06 13:33:00          1     1   \n",
       "  3                 0.0    1092.0  2018-04-06 13:33:00          0     1   \n",
       "  4            262500.0    1135.0  2018-04-06 13:33:00          1     2   \n",
       "\n",
       "    Plaintiff_negligent           Start Date   damages  \n",
       "x 0                 NaN  2018-04-06 13:15:00       0.0  \n",
       "  1                 NaN  2018-04-06 13:17:00       0.0  \n",
       "  2                  No  2018-04-06 13:15:00  500000.0  \n",
       "  3                 NaN  2018-04-06 13:15:00       0.0  \n",
       "  4                 Yes  2018-04-06 13:14:00  350000.0  "
      ]
     },
     "execution_count": 551,
     "metadata": {},
     "output_type": "execute_result"
    }
   ],
   "source": [
    "frames=[newdf1,old_data1]\n",
    "merge_data = pd.concat(frames, keys=['x', 'y'])\n",
    "merge_data.head()"
   ]
  },
  {
   "cell_type": "code",
   "execution_count": 552,
   "metadata": {},
   "outputs": [
    {
     "data": {
      "text/html": [
       "<div>\n",
       "<style scoped>\n",
       "    .dataframe tbody tr th:only-of-type {\n",
       "        vertical-align: middle;\n",
       "    }\n",
       "\n",
       "    .dataframe tbody tr th {\n",
       "        vertical-align: top;\n",
       "    }\n",
       "\n",
       "    .dataframe thead th {\n",
       "        text-align: right;\n",
       "    }\n",
       "</style>\n",
       "<table border=\"1\" class=\"dataframe\">\n",
       "  <thead>\n",
       "    <tr style=\"text-align: right;\">\n",
       "      <th></th>\n",
       "      <th>Discounted_damages</th>\n",
       "      <th>Duration</th>\n",
       "      <th>End Date</th>\n",
       "      <th>Liability</th>\n",
       "      <th>Path</th>\n",
       "      <th>Plaintiff_negligent</th>\n",
       "      <th>Start Date</th>\n",
       "      <th>damages</th>\n",
       "    </tr>\n",
       "  </thead>\n",
       "  <tbody>\n",
       "    <tr>\n",
       "      <th>0</th>\n",
       "      <td>0.0</td>\n",
       "      <td>1039.0</td>\n",
       "      <td>2018-04-06 13:32:00</td>\n",
       "      <td>0</td>\n",
       "      <td>1</td>\n",
       "      <td>NaN</td>\n",
       "      <td>2018-04-06 13:15:00</td>\n",
       "      <td>0.0</td>\n",
       "    </tr>\n",
       "    <tr>\n",
       "      <th>1</th>\n",
       "      <td>0.0</td>\n",
       "      <td>915.0</td>\n",
       "      <td>2018-04-06 13:33:00</td>\n",
       "      <td>1</td>\n",
       "      <td>1</td>\n",
       "      <td>NaN</td>\n",
       "      <td>2018-04-06 13:17:00</td>\n",
       "      <td>0.0</td>\n",
       "    </tr>\n",
       "    <tr>\n",
       "      <th>2</th>\n",
       "      <td>500000.0</td>\n",
       "      <td>1051.0</td>\n",
       "      <td>2018-04-06 13:33:00</td>\n",
       "      <td>1</td>\n",
       "      <td>1</td>\n",
       "      <td>No</td>\n",
       "      <td>2018-04-06 13:15:00</td>\n",
       "      <td>500000.0</td>\n",
       "    </tr>\n",
       "    <tr>\n",
       "      <th>3</th>\n",
       "      <td>0.0</td>\n",
       "      <td>1092.0</td>\n",
       "      <td>2018-04-06 13:33:00</td>\n",
       "      <td>0</td>\n",
       "      <td>1</td>\n",
       "      <td>NaN</td>\n",
       "      <td>2018-04-06 13:15:00</td>\n",
       "      <td>0.0</td>\n",
       "    </tr>\n",
       "    <tr>\n",
       "      <th>4</th>\n",
       "      <td>262500.0</td>\n",
       "      <td>1135.0</td>\n",
       "      <td>2018-04-06 13:33:00</td>\n",
       "      <td>1</td>\n",
       "      <td>2</td>\n",
       "      <td>Yes</td>\n",
       "      <td>2018-04-06 13:14:00</td>\n",
       "      <td>350000.0</td>\n",
       "    </tr>\n",
       "  </tbody>\n",
       "</table>\n",
       "</div>"
      ],
      "text/plain": [
       "   Discounted_damages  Duration             End Date  Liability  Path  \\\n",
       "0                 0.0    1039.0  2018-04-06 13:32:00          0     1   \n",
       "1                 0.0     915.0  2018-04-06 13:33:00          1     1   \n",
       "2            500000.0    1051.0  2018-04-06 13:33:00          1     1   \n",
       "3                 0.0    1092.0  2018-04-06 13:33:00          0     1   \n",
       "4            262500.0    1135.0  2018-04-06 13:33:00          1     2   \n",
       "\n",
       "  Plaintiff_negligent           Start Date   damages  \n",
       "0                 NaN  2018-04-06 13:15:00       0.0  \n",
       "1                 NaN  2018-04-06 13:17:00       0.0  \n",
       "2                  No  2018-04-06 13:15:00  500000.0  \n",
       "3                 NaN  2018-04-06 13:15:00       0.0  \n",
       "4                 Yes  2018-04-06 13:14:00  350000.0  "
      ]
     },
     "execution_count": 552,
     "metadata": {},
     "output_type": "execute_result"
    }
   ],
   "source": [
    "#To retrieve data based on the keys:\n",
    "merge_data.loc['x'].head()"
   ]
  },
  {
   "cell_type": "markdown",
   "metadata": {},
   "source": [
    "** Case Expected Value Damages for the merge data\n",
    "Showing the total expected discounted damages mean,median and sd with winrate percentage (entire version) **\n"
   ]
  },
  {
   "cell_type": "code",
   "execution_count": 553,
   "metadata": {},
   "outputs": [
    {
     "data": {
      "text/html": [
       "<div>\n",
       "<style scoped>\n",
       "    .dataframe tbody tr th:only-of-type {\n",
       "        vertical-align: middle;\n",
       "    }\n",
       "\n",
       "    .dataframe tbody tr th {\n",
       "        vertical-align: top;\n",
       "    }\n",
       "\n",
       "    .dataframe thead th {\n",
       "        text-align: right;\n",
       "    }\n",
       "</style>\n",
       "<table border=\"1\" class=\"dataframe\">\n",
       "  <thead>\n",
       "    <tr style=\"text-align: right;\">\n",
       "      <th></th>\n",
       "      <th>No.of.Participants</th>\n",
       "      <th>winrate_percentage</th>\n",
       "      <th>Discounted_damages_mean</th>\n",
       "      <th>Discounted_damages_median</th>\n",
       "    </tr>\n",
       "    <tr>\n",
       "      <th>Path</th>\n",
       "      <th></th>\n",
       "      <th></th>\n",
       "      <th></th>\n",
       "      <th></th>\n",
       "    </tr>\n",
       "  </thead>\n",
       "  <tbody>\n",
       "    <tr>\n",
       "      <th>1</th>\n",
       "      <td>373</td>\n",
       "      <td>45.308311</td>\n",
       "      <td>286570.348525</td>\n",
       "      <td>0.0</td>\n",
       "    </tr>\n",
       "    <tr>\n",
       "      <th>2</th>\n",
       "      <td>374</td>\n",
       "      <td>58.823529</td>\n",
       "      <td>247615.240642</td>\n",
       "      <td>50000.0</td>\n",
       "    </tr>\n",
       "    <tr>\n",
       "      <th>3</th>\n",
       "      <td>394</td>\n",
       "      <td>55.329949</td>\n",
       "      <td>101647.842640</td>\n",
       "      <td>17500.0</td>\n",
       "    </tr>\n",
       "    <tr>\n",
       "      <th>4</th>\n",
       "      <td>366</td>\n",
       "      <td>51.639344</td>\n",
       "      <td>100403.688525</td>\n",
       "      <td>0.0</td>\n",
       "    </tr>\n",
       "  </tbody>\n",
       "</table>\n",
       "</div>"
      ],
      "text/plain": [
       "      No.of.Participants  winrate_percentage  Discounted_damages_mean  \\\n",
       "Path                                                                    \n",
       "1                    373           45.308311            286570.348525   \n",
       "2                    374           58.823529            247615.240642   \n",
       "3                    394           55.329949            101647.842640   \n",
       "4                    366           51.639344            100403.688525   \n",
       "\n",
       "      Discounted_damages_median  \n",
       "Path                             \n",
       "1                           0.0  \n",
       "2                       50000.0  \n",
       "3                       17500.0  \n",
       "4                           0.0  "
      ]
     },
     "execution_count": 553,
     "metadata": {},
     "output_type": "execute_result"
    }
   ],
   "source": [
    "merge_data\n",
    "merge_data['winrate_percentage']=merge_data.Liability\n",
    "merge_data['Discounted_damages_mean']=merge_data.Discounted_damages\n",
    "merge_data['Discounted_damages_median']=merge_data.Discounted_damages\n",
    "merge_data['No.of.Participants']=merge_data.Path\n",
    "\n",
    "winrate_damages_expected_merge_data=merge_data.groupby('Path').aggregate(\n",
    "    {\"No.of.Participants\":'count',\n",
    "    'winrate_percentage': np.mean, 'Discounted_damages_mean': np.mean,'Discounted_damages_median':np.median})\n",
    "\n",
    "winrate_damages_expected_merge_data.winrate_percentage*=100\n",
    "winrate_damages_expected_merge_data\n"
   ]
  },
  {
   "cell_type": "markdown",
   "metadata": {},
   "source": [
    "## Finding the Discounted Damages, mean , median and SD when plaintiff wins for the merge data"
   ]
  },
  {
   "cell_type": "code",
   "execution_count": 554,
   "metadata": {},
   "outputs": [
    {
     "data": {
      "text/html": [
       "<div>\n",
       "<style scoped>\n",
       "    .dataframe tbody tr th:only-of-type {\n",
       "        vertical-align: middle;\n",
       "    }\n",
       "\n",
       "    .dataframe tbody tr th {\n",
       "        vertical-align: top;\n",
       "    }\n",
       "\n",
       "    .dataframe thead th {\n",
       "        text-align: right;\n",
       "    }\n",
       "</style>\n",
       "<table border=\"1\" class=\"dataframe\">\n",
       "  <thead>\n",
       "    <tr style=\"text-align: right;\">\n",
       "      <th></th>\n",
       "      <th>No.of.Participants</th>\n",
       "      <th>Discounted_damages_mean1</th>\n",
       "      <th>Discounted_damages_median1</th>\n",
       "      <th>Discounted_damages_sd1</th>\n",
       "    </tr>\n",
       "    <tr>\n",
       "      <th>Path</th>\n",
       "      <th></th>\n",
       "      <th></th>\n",
       "      <th></th>\n",
       "      <th></th>\n",
       "    </tr>\n",
       "  </thead>\n",
       "  <tbody>\n",
       "    <tr>\n",
       "      <th>1</th>\n",
       "      <td>110</td>\n",
       "      <td>222809.090909</td>\n",
       "      <td>180000.0</td>\n",
       "      <td>139046.655457</td>\n",
       "    </tr>\n",
       "    <tr>\n",
       "      <th>2</th>\n",
       "      <td>146</td>\n",
       "      <td>215551.369863</td>\n",
       "      <td>180000.0</td>\n",
       "      <td>119025.464234</td>\n",
       "    </tr>\n",
       "    <tr>\n",
       "      <th>3</th>\n",
       "      <td>144</td>\n",
       "      <td>226458.333333</td>\n",
       "      <td>200000.0</td>\n",
       "      <td>124895.081843</td>\n",
       "    </tr>\n",
       "    <tr>\n",
       "      <th>4</th>\n",
       "      <td>131</td>\n",
       "      <td>226561.068702</td>\n",
       "      <td>200000.0</td>\n",
       "      <td>139378.593750</td>\n",
       "    </tr>\n",
       "  </tbody>\n",
       "</table>\n",
       "</div>"
      ],
      "text/plain": [
       "      No.of.Participants  Discounted_damages_mean1  \\\n",
       "Path                                                 \n",
       "1                    110             222809.090909   \n",
       "2                    146             215551.369863   \n",
       "3                    144             226458.333333   \n",
       "4                    131             226561.068702   \n",
       "\n",
       "      Discounted_damages_median1  Discounted_damages_sd1  \n",
       "Path                                                      \n",
       "1                       180000.0           139046.655457  \n",
       "2                       180000.0           119025.464234  \n",
       "3                       200000.0           124895.081843  \n",
       "4                       200000.0           139378.593750  "
      ]
     },
     "execution_count": 554,
     "metadata": {},
     "output_type": "execute_result"
    }
   ],
   "source": [
    "merge_data['Discounted_damages_mean1']=merge_data.Discounted_damages\n",
    "merge_data['Discounted_damages_median1']=merge_data.Discounted_damages\n",
    "merge_data['Discounted_damages_sd1']=merge_data.Discounted_damages\n",
    "winrate_damages_plaintiffwin_merge_data=merge_data.loc[(merge_data['Plaintiff_negligent']=='No') & (merge_data['Liability']==1)].groupby('Path').aggregate({\"No.of.Participants\":'count','Discounted_damages_mean1': np.mean,'Discounted_damages_median1':np.median,'Discounted_damages_sd1':np.std})\n",
    "winrate_damages_plaintiffwin_merge_data"
   ]
  }
 ],
 "metadata": {
  "kernelspec": {
   "display_name": "Python 3",
   "language": "python",
   "name": "python3"
  },
  "language_info": {
   "codemirror_mode": {
    "name": "ipython",
    "version": 3
   },
   "file_extension": ".py",
   "mimetype": "text/x-python",
   "name": "python",
   "nbconvert_exporter": "python",
   "pygments_lexer": "ipython3",
   "version": "3.6.4"
  }
 },
 "nbformat": 4,
 "nbformat_minor": 2
}
